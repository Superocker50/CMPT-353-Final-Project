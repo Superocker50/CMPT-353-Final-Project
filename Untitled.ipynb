{
 "cells": [
  {
   "cell_type": "code",
   "execution_count": 1,
   "id": "563fdd69-64d9-48e8-a8e5-fd9b23e2a359",
   "metadata": {},
   "outputs": [],
   "source": [
    "import pandas as pd \n",
    "import matplotlib.pyplot as plt"
   ]
  },
  {
   "cell_type": "code",
   "execution_count": 2,
   "id": "d3f67a76-fb0b-46b0-9cb2-871563e2ceaf",
   "metadata": {},
   "outputs": [],
   "source": [
    "google_apps = pd.read_csv('Google Play Store Apps.zip')\n",
    "google_reviews = pd.read_csv('google_app_reviews.csv')"
   ]
  },
  {
   "cell_type": "code",
   "execution_count": 3,
   "id": "fc7bbdf2-d257-4274-b1dd-f365d017bca1",
   "metadata": {},
   "outputs": [],
   "source": [
    "google_apps.rename(columns={'App Id': 'app_id'}, inplace=True)"
   ]
  },
  {
   "cell_type": "code",
   "execution_count": 4,
   "id": "c012e669-972d-49e3-abef-087c6cea1ce3",
   "metadata": {},
   "outputs": [],
   "source": [
    "together = google_apps.merge(google_reviews, on=\"app_id\", how='inner')"
   ]
  },
  {
   "cell_type": "code",
   "execution_count": null,
   "id": "b6bc9452-19f7-4488-ab14-14ad3d637990",
   "metadata": {},
   "outputs": [],
   "source": [
    "together = together.groupby('app_id').mean()"
   ]
  },
  {
   "cell_type": "code",
   "execution_count": null,
   "id": "e1953166-ca85-4874-9969-3efd2b82a14f",
   "metadata": {},
   "outputs": [],
   "source": [
    "together = together[together['Rating'] > 0]"
   ]
  },
  {
   "cell_type": "code",
   "execution_count": null,
   "id": "7535acdc-fe58-4c6b-a508-37554c93e67f",
   "metadata": {},
   "outputs": [],
   "source": [
    "plt.scatter(together['polarity'], together['Rating'])"
   ]
  }
 ],
 "metadata": {
  "kernelspec": {
   "display_name": "Python 3",
   "language": "python",
   "name": "python3"
  },
  "language_info": {
   "codemirror_mode": {
    "name": "ipython",
    "version": 3
   },
   "file_extension": ".py",
   "mimetype": "text/x-python",
   "name": "python",
   "nbconvert_exporter": "python",
   "pygments_lexer": "ipython3",
   "version": "3.8.8"
  }
 },
 "nbformat": 4,
 "nbformat_minor": 5
}
