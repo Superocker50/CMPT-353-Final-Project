{
 "cells": [
  {
   "cell_type": "markdown",
   "id": "f618a2fb-7a97-4da0-839c-6b7445e8fa5c",
   "metadata": {},
   "source": [
    "In our first notebook, we performed analyses on the Google Play Store dataset. \n",
    "\n",
    "In this notebook, we will combine said dataset with others. We will explore the following questions: \n",
    "    \n",
    " - Are there differences, in terms of rating and the number of ratings, for an app depending on where it is published? (Google Play Store versus Apple App Store)\n",
    "    - Why? Explore a particular case. \n",
    " - Does there exist a relationship between 'positive' reviews and higher ratings? \n",
    "    - Do apps with 'positive' reviews have higher ratings than apps that have 'negative' reviews? \n",
    "    - Are there users who have left a high rating but a 'negative' review? Why? \n",
    "    - Do ratings that are extremely positive or extremely negative garner more 'likes' than ratings that are more on the neutral side? \n",
    "    - Do users leave a mixture of positive and negative reviews, or do users leave negative reviews that are only negative or only positive?"
   ]
  },
  {
   "cell_type": "code",
   "execution_count": 1,
   "id": "feecacab-8a0e-4e6d-8322-08c13dd2543b",
   "metadata": {},
   "outputs": [],
   "source": [
    "import pandas as pd \n",
    "import numpy as np \n",
    "import matplotlib.pyplot as plt\n",
    "import scipy.stats as stats\n",
    "import seaborn as sns\n",
    "import ipywidgets as widgets\n",
    "import re\n",
    "import difflib\n",
    "from statsmodels.stats.multicomp import pairwise_tukeyhsd\n",
    "from scipy.stats import f_oneway"
   ]
  },
  {
   "cell_type": "code",
   "execution_count": 2,
   "id": "faff3f1b-b01a-4c19-9a41-668d21f89faf",
   "metadata": {},
   "outputs": [],
   "source": [
    "sns.set()\n",
    "palette = sns.color_palette('Set2')\n",
    "# From https://stackoverflow.com/questions/39680147/can-i-set-variable-column-widths-in-pandas\n",
    "pd.set_option('display.max_rows', 100)\n",
    "pd.set_option('max_colwidth', 400)"
   ]
  },
  {
   "cell_type": "code",
   "execution_count": 3,
   "id": "00bb07a5-10f8-4817-9120-99d2c4afa98b",
   "metadata": {},
   "outputs": [],
   "source": [
    "google_apps = pd.read_csv(r'Google Play Store Apps.zip')"
   ]
  },
  {
   "cell_type": "code",
   "execution_count": 4,
   "id": "85f2977c-bec3-467f-9334-c2010bb6bbe2",
   "metadata": {},
   "outputs": [
    {
     "data": {
      "text/html": [
       "<div>\n",
       "<style scoped>\n",
       "    .dataframe tbody tr th:only-of-type {\n",
       "        vertical-align: middle;\n",
       "    }\n",
       "\n",
       "    .dataframe tbody tr th {\n",
       "        vertical-align: top;\n",
       "    }\n",
       "\n",
       "    .dataframe thead th {\n",
       "        text-align: right;\n",
       "    }\n",
       "</style>\n",
       "<table border=\"1\" class=\"dataframe\">\n",
       "  <thead>\n",
       "    <tr style=\"text-align: right;\">\n",
       "      <th></th>\n",
       "      <th>App Name</th>\n",
       "      <th>App Id</th>\n",
       "      <th>Category</th>\n",
       "      <th>Rating</th>\n",
       "      <th>Rating Count</th>\n",
       "      <th>Installs</th>\n",
       "      <th>Minimum Installs</th>\n",
       "      <th>Maximum Installs</th>\n",
       "      <th>Free</th>\n",
       "      <th>Price</th>\n",
       "      <th>...</th>\n",
       "      <th>Developer Website</th>\n",
       "      <th>Developer Email</th>\n",
       "      <th>Released</th>\n",
       "      <th>Last Updated</th>\n",
       "      <th>Content Rating</th>\n",
       "      <th>Privacy Policy</th>\n",
       "      <th>Ad Supported</th>\n",
       "      <th>In App Purchases</th>\n",
       "      <th>Editors Choice</th>\n",
       "      <th>Scraped Time</th>\n",
       "    </tr>\n",
       "  </thead>\n",
       "  <tbody>\n",
       "    <tr>\n",
       "      <th>0</th>\n",
       "      <td>Gakondo</td>\n",
       "      <td>com.ishakwe.gakondo</td>\n",
       "      <td>Adventure</td>\n",
       "      <td>0.0</td>\n",
       "      <td>0.0</td>\n",
       "      <td>10+</td>\n",
       "      <td>10.0</td>\n",
       "      <td>15</td>\n",
       "      <td>True</td>\n",
       "      <td>0.0</td>\n",
       "      <td>...</td>\n",
       "      <td>https://beniyizibyose.tk/#/</td>\n",
       "      <td>jean21101999@gmail.com</td>\n",
       "      <td>Feb 26, 2020</td>\n",
       "      <td>Feb 26, 2020</td>\n",
       "      <td>Everyone</td>\n",
       "      <td>https://beniyizibyose.tk/projects/</td>\n",
       "      <td>False</td>\n",
       "      <td>False</td>\n",
       "      <td>False</td>\n",
       "      <td>2021-06-15 20:19:35</td>\n",
       "    </tr>\n",
       "    <tr>\n",
       "      <th>1</th>\n",
       "      <td>Ampere Battery Info</td>\n",
       "      <td>com.webserveis.batteryinfo</td>\n",
       "      <td>Tools</td>\n",
       "      <td>4.4</td>\n",
       "      <td>64.0</td>\n",
       "      <td>5,000+</td>\n",
       "      <td>5000.0</td>\n",
       "      <td>7662</td>\n",
       "      <td>True</td>\n",
       "      <td>0.0</td>\n",
       "      <td>...</td>\n",
       "      <td>https://webserveis.netlify.app/</td>\n",
       "      <td>webserveis@gmail.com</td>\n",
       "      <td>May 21, 2020</td>\n",
       "      <td>May 06, 2021</td>\n",
       "      <td>Everyone</td>\n",
       "      <td>https://dev4phones.wordpress.com/licencia-de-uso/</td>\n",
       "      <td>True</td>\n",
       "      <td>False</td>\n",
       "      <td>False</td>\n",
       "      <td>2021-06-15 20:19:35</td>\n",
       "    </tr>\n",
       "    <tr>\n",
       "      <th>2</th>\n",
       "      <td>Vibook</td>\n",
       "      <td>com.doantiepvien.crm</td>\n",
       "      <td>Productivity</td>\n",
       "      <td>0.0</td>\n",
       "      <td>0.0</td>\n",
       "      <td>50+</td>\n",
       "      <td>50.0</td>\n",
       "      <td>58</td>\n",
       "      <td>True</td>\n",
       "      <td>0.0</td>\n",
       "      <td>...</td>\n",
       "      <td>NaN</td>\n",
       "      <td>vnacrewit@gmail.com</td>\n",
       "      <td>Aug 9, 2019</td>\n",
       "      <td>Aug 19, 2019</td>\n",
       "      <td>Everyone</td>\n",
       "      <td>https://www.vietnamairlines.com/vn/en/terms-and-conditions/privacy-policy</td>\n",
       "      <td>False</td>\n",
       "      <td>False</td>\n",
       "      <td>False</td>\n",
       "      <td>2021-06-15 20:19:35</td>\n",
       "    </tr>\n",
       "    <tr>\n",
       "      <th>3</th>\n",
       "      <td>Smart City Trichy Public Service Vehicles 17UCS548</td>\n",
       "      <td>cst.stJoseph.ug17ucs548</td>\n",
       "      <td>Communication</td>\n",
       "      <td>5.0</td>\n",
       "      <td>5.0</td>\n",
       "      <td>10+</td>\n",
       "      <td>10.0</td>\n",
       "      <td>19</td>\n",
       "      <td>True</td>\n",
       "      <td>0.0</td>\n",
       "      <td>...</td>\n",
       "      <td>http://www.climatesmarttech.com/</td>\n",
       "      <td>climatesmarttech2@gmail.com</td>\n",
       "      <td>Sep 10, 2018</td>\n",
       "      <td>Oct 13, 2018</td>\n",
       "      <td>Everyone</td>\n",
       "      <td>NaN</td>\n",
       "      <td>True</td>\n",
       "      <td>False</td>\n",
       "      <td>False</td>\n",
       "      <td>2021-06-15 20:19:35</td>\n",
       "    </tr>\n",
       "    <tr>\n",
       "      <th>4</th>\n",
       "      <td>GROW.me</td>\n",
       "      <td>com.horodyski.grower</td>\n",
       "      <td>Tools</td>\n",
       "      <td>0.0</td>\n",
       "      <td>0.0</td>\n",
       "      <td>100+</td>\n",
       "      <td>100.0</td>\n",
       "      <td>478</td>\n",
       "      <td>True</td>\n",
       "      <td>0.0</td>\n",
       "      <td>...</td>\n",
       "      <td>http://www.horodyski.com.pl</td>\n",
       "      <td>rmilekhorodyski@gmail.com</td>\n",
       "      <td>Feb 21, 2020</td>\n",
       "      <td>Nov 12, 2018</td>\n",
       "      <td>Everyone</td>\n",
       "      <td>http://www.horodyski.com.pl</td>\n",
       "      <td>False</td>\n",
       "      <td>False</td>\n",
       "      <td>False</td>\n",
       "      <td>2021-06-15 20:19:35</td>\n",
       "    </tr>\n",
       "  </tbody>\n",
       "</table>\n",
       "<p>5 rows × 24 columns</p>\n",
       "</div>"
      ],
      "text/plain": [
       "                                             App Name  \\\n",
       "0                                             Gakondo   \n",
       "1                                 Ampere Battery Info   \n",
       "2                                              Vibook   \n",
       "3  Smart City Trichy Public Service Vehicles 17UCS548   \n",
       "4                                             GROW.me   \n",
       "\n",
       "                       App Id       Category  Rating  Rating Count Installs  \\\n",
       "0         com.ishakwe.gakondo      Adventure     0.0           0.0      10+   \n",
       "1  com.webserveis.batteryinfo          Tools     4.4          64.0   5,000+   \n",
       "2        com.doantiepvien.crm   Productivity     0.0           0.0      50+   \n",
       "3     cst.stJoseph.ug17ucs548  Communication     5.0           5.0      10+   \n",
       "4        com.horodyski.grower          Tools     0.0           0.0     100+   \n",
       "\n",
       "   Minimum Installs  Maximum Installs  Free  Price  ...  \\\n",
       "0              10.0                15  True    0.0  ...   \n",
       "1            5000.0              7662  True    0.0  ...   \n",
       "2              50.0                58  True    0.0  ...   \n",
       "3              10.0                19  True    0.0  ...   \n",
       "4             100.0               478  True    0.0  ...   \n",
       "\n",
       "                  Developer Website              Developer Email  \\\n",
       "0       https://beniyizibyose.tk/#/       jean21101999@gmail.com   \n",
       "1   https://webserveis.netlify.app/         webserveis@gmail.com   \n",
       "2                               NaN          vnacrewit@gmail.com   \n",
       "3  http://www.climatesmarttech.com/  climatesmarttech2@gmail.com   \n",
       "4       http://www.horodyski.com.pl    rmilekhorodyski@gmail.com   \n",
       "\n",
       "       Released  Last Updated Content Rating  \\\n",
       "0  Feb 26, 2020  Feb 26, 2020       Everyone   \n",
       "1  May 21, 2020  May 06, 2021       Everyone   \n",
       "2   Aug 9, 2019  Aug 19, 2019       Everyone   \n",
       "3  Sep 10, 2018  Oct 13, 2018       Everyone   \n",
       "4  Feb 21, 2020  Nov 12, 2018       Everyone   \n",
       "\n",
       "                                                              Privacy Policy  \\\n",
       "0                                         https://beniyizibyose.tk/projects/   \n",
       "1                          https://dev4phones.wordpress.com/licencia-de-uso/   \n",
       "2  https://www.vietnamairlines.com/vn/en/terms-and-conditions/privacy-policy   \n",
       "3                                                                        NaN   \n",
       "4                                                http://www.horodyski.com.pl   \n",
       "\n",
       "  Ad Supported In App Purchases Editors Choice         Scraped Time  \n",
       "0        False            False          False  2021-06-15 20:19:35  \n",
       "1         True            False          False  2021-06-15 20:19:35  \n",
       "2        False            False          False  2021-06-15 20:19:35  \n",
       "3         True            False          False  2021-06-15 20:19:35  \n",
       "4        False            False          False  2021-06-15 20:19:35  \n",
       "\n",
       "[5 rows x 24 columns]"
      ]
     },
     "execution_count": 4,
     "metadata": {},
     "output_type": "execute_result"
    }
   ],
   "source": [
    "google_apps.head()"
   ]
  },
  {
   "cell_type": "code",
   "execution_count": 5,
   "id": "89291724-6ad2-4a9d-8c4c-879b5c1a3809",
   "metadata": {},
   "outputs": [
    {
     "data": {
      "text/plain": [
       "(2312944, 24)"
      ]
     },
     "execution_count": 5,
     "metadata": {},
     "output_type": "execute_result"
    }
   ],
   "source": [
    "google_apps.shape"
   ]
  },
  {
   "cell_type": "markdown",
   "id": "8219a656-ad1e-4b16-9e45-754fad04a444",
   "metadata": {},
   "source": [
    "Next, we will investigate if there a difference in the number of ratings (as well as the rating itself) for identical apps published on the Google Play Store versus the Apple App Store."
   ]
  },
  {
   "cell_type": "code",
   "execution_count": 6,
   "id": "1bfa69aa-99c9-4aea-afac-0820ea3254a9",
   "metadata": {},
   "outputs": [],
   "source": [
    "apple_apps = pd.read_csv(r'Apple App Store Apps.zip')"
   ]
  },
  {
   "cell_type": "code",
   "execution_count": 7,
   "id": "708ca237-1d62-4e8d-9ec1-0a5ccc53a97b",
   "metadata": {},
   "outputs": [
    {
     "data": {
      "text/html": [
       "<div>\n",
       "<style scoped>\n",
       "    .dataframe tbody tr th:only-of-type {\n",
       "        vertical-align: middle;\n",
       "    }\n",
       "\n",
       "    .dataframe tbody tr th {\n",
       "        vertical-align: top;\n",
       "    }\n",
       "\n",
       "    .dataframe thead th {\n",
       "        text-align: right;\n",
       "    }\n",
       "</style>\n",
       "<table border=\"1\" class=\"dataframe\">\n",
       "  <thead>\n",
       "    <tr style=\"text-align: right;\">\n",
       "      <th></th>\n",
       "      <th>App_Id</th>\n",
       "      <th>App_Name</th>\n",
       "      <th>AppStore_Url</th>\n",
       "      <th>Primary_Genre</th>\n",
       "      <th>Content_Rating</th>\n",
       "      <th>Size_Bytes</th>\n",
       "      <th>Required_IOS_Version</th>\n",
       "      <th>Released</th>\n",
       "      <th>Updated</th>\n",
       "      <th>Version</th>\n",
       "      <th>...</th>\n",
       "      <th>Currency</th>\n",
       "      <th>Free</th>\n",
       "      <th>DeveloperId</th>\n",
       "      <th>Developer</th>\n",
       "      <th>Developer_Url</th>\n",
       "      <th>Developer_Website</th>\n",
       "      <th>Average_User_Rating</th>\n",
       "      <th>Reviews</th>\n",
       "      <th>Current_Version_Score</th>\n",
       "      <th>Current_Version_Reviews</th>\n",
       "    </tr>\n",
       "  </thead>\n",
       "  <tbody>\n",
       "    <tr>\n",
       "      <th>0</th>\n",
       "      <td>com.hkbu.arc.apaper</td>\n",
       "      <td>A+ Paper Guide</td>\n",
       "      <td>https://apps.apple.com/us/app/a-paper-guide/id1277517387?uo=4</td>\n",
       "      <td>Education</td>\n",
       "      <td>4+</td>\n",
       "      <td>21993472.0</td>\n",
       "      <td>8.0</td>\n",
       "      <td>2017-09-28T03:02:41Z</td>\n",
       "      <td>2018-12-21T21:30:36Z</td>\n",
       "      <td>1.1.2</td>\n",
       "      <td>...</td>\n",
       "      <td>USD</td>\n",
       "      <td>True</td>\n",
       "      <td>1375410542</td>\n",
       "      <td>HKBU ARC</td>\n",
       "      <td>https://apps.apple.com/us/developer/hkbu-arc/id1375410542?uo=4</td>\n",
       "      <td>NaN</td>\n",
       "      <td>0.0</td>\n",
       "      <td>0</td>\n",
       "      <td>0.0</td>\n",
       "      <td>0</td>\n",
       "    </tr>\n",
       "    <tr>\n",
       "      <th>1</th>\n",
       "      <td>com.dmitriev.abooks</td>\n",
       "      <td>A-Books</td>\n",
       "      <td>https://apps.apple.com/us/app/a-books/id1031572002?uo=4</td>\n",
       "      <td>Book</td>\n",
       "      <td>4+</td>\n",
       "      <td>13135872.0</td>\n",
       "      <td>10.0</td>\n",
       "      <td>2015-08-31T19:31:32Z</td>\n",
       "      <td>2019-07-23T20:31:09Z</td>\n",
       "      <td>1.3</td>\n",
       "      <td>...</td>\n",
       "      <td>USD</td>\n",
       "      <td>True</td>\n",
       "      <td>1031572001</td>\n",
       "      <td>Roman Dmitriev</td>\n",
       "      <td>https://apps.apple.com/us/developer/roman-dmitriev/id1031572001?uo=4</td>\n",
       "      <td>NaN</td>\n",
       "      <td>5.0</td>\n",
       "      <td>1</td>\n",
       "      <td>5.0</td>\n",
       "      <td>1</td>\n",
       "    </tr>\n",
       "    <tr>\n",
       "      <th>2</th>\n",
       "      <td>no.terp.abooks</td>\n",
       "      <td>A-books</td>\n",
       "      <td>https://apps.apple.com/us/app/a-books/id1457024164?uo=4</td>\n",
       "      <td>Book</td>\n",
       "      <td>4+</td>\n",
       "      <td>21943296.0</td>\n",
       "      <td>9.0</td>\n",
       "      <td>2021-04-14T07:00:00Z</td>\n",
       "      <td>2021-05-30T21:08:54Z</td>\n",
       "      <td>1.3.1</td>\n",
       "      <td>...</td>\n",
       "      <td>USD</td>\n",
       "      <td>True</td>\n",
       "      <td>1457024163</td>\n",
       "      <td>Terp AS</td>\n",
       "      <td>https://apps.apple.com/us/developer/terp-as/id1457024163?uo=4</td>\n",
       "      <td>NaN</td>\n",
       "      <td>0.0</td>\n",
       "      <td>0</td>\n",
       "      <td>0.0</td>\n",
       "      <td>0</td>\n",
       "    </tr>\n",
       "    <tr>\n",
       "      <th>3</th>\n",
       "      <td>fr.antoinettefleur.Book1</td>\n",
       "      <td>A-F Book #1</td>\n",
       "      <td>https://apps.apple.com/us/app/a-f-book-1/id500454885?uo=4</td>\n",
       "      <td>Book</td>\n",
       "      <td>4+</td>\n",
       "      <td>81851392.0</td>\n",
       "      <td>8.0</td>\n",
       "      <td>2012-02-10T03:40:07Z</td>\n",
       "      <td>2019-10-29T12:40:37Z</td>\n",
       "      <td>1.2</td>\n",
       "      <td>...</td>\n",
       "      <td>USD</td>\n",
       "      <td>False</td>\n",
       "      <td>439568839</td>\n",
       "      <td>i-editeur.com</td>\n",
       "      <td>https://apps.apple.com/us/developer/i-editeur-com/id439568839?uo=4</td>\n",
       "      <td>NaN</td>\n",
       "      <td>0.0</td>\n",
       "      <td>0</td>\n",
       "      <td>0.0</td>\n",
       "      <td>0</td>\n",
       "    </tr>\n",
       "    <tr>\n",
       "      <th>4</th>\n",
       "      <td>com.imonstersoft.azdictionaryios</td>\n",
       "      <td>A-Z Synonyms Dictionary</td>\n",
       "      <td>https://apps.apple.com/us/app/a-z-synonyms-dictionary/id1545096265?uo=4</td>\n",
       "      <td>Reference</td>\n",
       "      <td>4+</td>\n",
       "      <td>64692224.0</td>\n",
       "      <td>9.0</td>\n",
       "      <td>2020-12-16T08:00:00Z</td>\n",
       "      <td>2020-12-18T21:36:11Z</td>\n",
       "      <td>1.0.1</td>\n",
       "      <td>...</td>\n",
       "      <td>USD</td>\n",
       "      <td>True</td>\n",
       "      <td>656731821</td>\n",
       "      <td>Ngov chiheang</td>\n",
       "      <td>https://apps.apple.com/us/developer/ngov-chiheang/id656731821?uo=4</td>\n",
       "      <td>http://imonstersoft.com</td>\n",
       "      <td>0.0</td>\n",
       "      <td>0</td>\n",
       "      <td>0.0</td>\n",
       "      <td>0</td>\n",
       "    </tr>\n",
       "  </tbody>\n",
       "</table>\n",
       "<p>5 rows × 21 columns</p>\n",
       "</div>"
      ],
      "text/plain": [
       "                             App_Id                 App_Name  \\\n",
       "0               com.hkbu.arc.apaper           A+ Paper Guide   \n",
       "1               com.dmitriev.abooks                  A-Books   \n",
       "2                    no.terp.abooks                  A-books   \n",
       "3          fr.antoinettefleur.Book1              A-F Book #1   \n",
       "4  com.imonstersoft.azdictionaryios  A-Z Synonyms Dictionary   \n",
       "\n",
       "                                                              AppStore_Url  \\\n",
       "0            https://apps.apple.com/us/app/a-paper-guide/id1277517387?uo=4   \n",
       "1                  https://apps.apple.com/us/app/a-books/id1031572002?uo=4   \n",
       "2                  https://apps.apple.com/us/app/a-books/id1457024164?uo=4   \n",
       "3                https://apps.apple.com/us/app/a-f-book-1/id500454885?uo=4   \n",
       "4  https://apps.apple.com/us/app/a-z-synonyms-dictionary/id1545096265?uo=4   \n",
       "\n",
       "  Primary_Genre Content_Rating  Size_Bytes Required_IOS_Version  \\\n",
       "0     Education             4+  21993472.0                  8.0   \n",
       "1          Book             4+  13135872.0                 10.0   \n",
       "2          Book             4+  21943296.0                  9.0   \n",
       "3          Book             4+  81851392.0                  8.0   \n",
       "4     Reference             4+  64692224.0                  9.0   \n",
       "\n",
       "               Released               Updated Version  ...  Currency   Free  \\\n",
       "0  2017-09-28T03:02:41Z  2018-12-21T21:30:36Z   1.1.2  ...       USD   True   \n",
       "1  2015-08-31T19:31:32Z  2019-07-23T20:31:09Z     1.3  ...       USD   True   \n",
       "2  2021-04-14T07:00:00Z  2021-05-30T21:08:54Z   1.3.1  ...       USD   True   \n",
       "3  2012-02-10T03:40:07Z  2019-10-29T12:40:37Z     1.2  ...       USD  False   \n",
       "4  2020-12-16T08:00:00Z  2020-12-18T21:36:11Z   1.0.1  ...       USD   True   \n",
       "\n",
       "   DeveloperId       Developer  \\\n",
       "0   1375410542        HKBU ARC   \n",
       "1   1031572001  Roman Dmitriev   \n",
       "2   1457024163         Terp AS   \n",
       "3    439568839   i-editeur.com   \n",
       "4    656731821   Ngov chiheang   \n",
       "\n",
       "                                                          Developer_Url  \\\n",
       "0        https://apps.apple.com/us/developer/hkbu-arc/id1375410542?uo=4   \n",
       "1  https://apps.apple.com/us/developer/roman-dmitriev/id1031572001?uo=4   \n",
       "2         https://apps.apple.com/us/developer/terp-as/id1457024163?uo=4   \n",
       "3    https://apps.apple.com/us/developer/i-editeur-com/id439568839?uo=4   \n",
       "4    https://apps.apple.com/us/developer/ngov-chiheang/id656731821?uo=4   \n",
       "\n",
       "         Developer_Website Average_User_Rating  Reviews  \\\n",
       "0                      NaN                 0.0        0   \n",
       "1                      NaN                 5.0        1   \n",
       "2                      NaN                 0.0        0   \n",
       "3                      NaN                 0.0        0   \n",
       "4  http://imonstersoft.com                 0.0        0   \n",
       "\n",
       "   Current_Version_Score  Current_Version_Reviews  \n",
       "0                    0.0                        0  \n",
       "1                    5.0                        1  \n",
       "2                    0.0                        0  \n",
       "3                    0.0                        0  \n",
       "4                    0.0                        0  \n",
       "\n",
       "[5 rows x 21 columns]"
      ]
     },
     "execution_count": 7,
     "metadata": {},
     "output_type": "execute_result"
    }
   ],
   "source": [
    "apple_apps.head()"
   ]
  },
  {
   "cell_type": "code",
   "execution_count": 8,
   "id": "18014954-4100-46a7-b9f4-a1049234cd7c",
   "metadata": {},
   "outputs": [
    {
     "data": {
      "text/plain": [
       "(1230376, 21)"
      ]
     },
     "execution_count": 8,
     "metadata": {},
     "output_type": "execute_result"
    }
   ],
   "source": [
    "apple_apps.shape"
   ]
  },
  {
   "cell_type": "markdown",
   "id": "cd7d4e00-8826-4364-a26d-8ce4c24f40d6",
   "metadata": {},
   "source": [
    "Since apps on the Apple App Store store a separate identification ID in the url, we need to extract this because this is requred as input for scraping reviews later. "
   ]
  },
  {
   "cell_type": "code",
   "execution_count": 9,
   "id": "8bcbfc20-04fe-425a-86dd-f5d6fe4677fb",
   "metadata": {},
   "outputs": [],
   "source": [
    "pattern = re.compile(r'^.*/id(\\d+).*$')\n",
    "def extract_url_id(url): \n",
    "    match = pattern.match(url)\n",
    "    if match: \n",
    "        return match[1]\n",
    "    else: \n",
    "        return np.nan "
   ]
  },
  {
   "cell_type": "code",
   "execution_count": 10,
   "id": "5719aa76-ec01-4ed4-82a1-9d9015301011",
   "metadata": {},
   "outputs": [],
   "source": [
    "apple_apps['Url Id'] = apple_apps['AppStore_Url'].apply(lambda x: extract_url_id(x))"
   ]
  },
  {
   "cell_type": "code",
   "execution_count": 11,
   "id": "35529d2f-c111-418f-9a32-7a45b7373f62",
   "metadata": {},
   "outputs": [],
   "source": [
    "google_apps = google_apps[['App Id', 'App Name', 'Developer Id', 'Rating', 'Released', 'Rating Count']].copy()\n",
    "apple_apps = apple_apps[['App_Id', 'App_Name', 'Developer', 'Current_Version_Score', 'Released', 'Reviews', 'Url Id']].copy()"
   ]
  },
  {
   "cell_type": "code",
   "execution_count": 12,
   "id": "27411f7a-a872-466d-a492-11706c3730c5",
   "metadata": {},
   "outputs": [],
   "source": [
    "apple_apps.rename(columns={'App_Id': 'App Id', \n",
    "                           'App_Name': 'App Name',\n",
    "                           'Developer': 'Apple Developer', \n",
    "                           'Current_Version_Score': 'Apple Rating', \n",
    "                           'Released': 'Apple Released', \n",
    "                           'Reviews': 'Apple Rating Count'\n",
    "                          }, \n",
    "                  errors='raise', inplace=True)\n",
    "\n",
    "google_apps.rename(columns={'Rating': 'Google Rating', \n",
    "                            'Developer Id': 'Google Developer',\n",
    "                            'Released': 'Google Released', \n",
    "                            'Rating Count': 'Google Rating Count'},\n",
    "                  errors='raise', inplace=True)"
   ]
  },
  {
   "cell_type": "code",
   "execution_count": 13,
   "id": "040702be-7461-420c-b3c6-4ee8aaed4cf2",
   "metadata": {},
   "outputs": [],
   "source": [
    "combined_apps = google_apps.merge(apple_apps, on=['App Name','App Id'], how='inner')"
   ]
  },
  {
   "cell_type": "code",
   "execution_count": 14,
   "id": "4984ad29-a73d-492f-b6f2-7497e15afce0",
   "metadata": {},
   "outputs": [],
   "source": [
    "def remove_nonmatching_developers(apple_dev, google_dev): \n",
    "    sequence = difflib.SequenceMatcher(a=apple_dev, b=google_dev)\n",
    "    \n",
    "    # Measure of similarity \n",
    "    similarity = sequence.ratio()\n",
    "    if similarity > 0.6:\n",
    "        return google_dev # Arbitrary return one of the names\n",
    "    else: \n",
    "        return np.nan"
   ]
  },
  {
   "cell_type": "code",
   "execution_count": 15,
   "id": "c2ded4ef-f375-4c5b-9874-3dcb3345e363",
   "metadata": {},
   "outputs": [],
   "source": [
    "# To ensure that the apps' developers on the Google Play Store and the Apple App Store are the same, we will test for similairity \n",
    "combined_apps['Developer'] = combined_apps.apply(lambda x: \n",
    "                                                 remove_nonmatching_developers(x['Google Developer'], x['Apple Developer']), \n",
    "                                                 axis=1)\n",
    "combined_apps.dropna(subset=['Developer'], inplace=True)"
   ]
  },
  {
   "cell_type": "markdown",
   "id": "d47d44ee-b3f4-405f-a9bc-a9484b720e22",
   "metadata": {},
   "source": [
    "Now let's visualize the distribution of ratings of the Google Play Store and the Apple App Store"
   ]
  },
  {
   "cell_type": "code",
   "execution_count": 16,
   "id": "16e93fae-b0f0-4c18-86a8-ef3d5d70db85",
   "metadata": {},
   "outputs": [
    {
     "data": {
      "image/png": "[encoded data removed]",
      "text/plain": [
       "<Figure size 576x288 with 1 Axes>"
      ]
     },
     "metadata": {},
     "output_type": "display_data"
    }
   ],
   "source": [
    "figure = plt.figure(figsize=(8, 4))\n",
    "axis = plt.gca()\n",
    "plt.hist([combined_apps['Google Rating'], combined_apps['Apple Rating']], alpha=0.7)\n",
    "plt.xlabel('Rating', fontsize=15, labelpad=20)\n",
    "plt.ylabel('Count', fontsize=15, labelpad=20)\n",
    "plt.xticks(fontsize=15)\n",
    "plt.yticks(fontsize=15)\n",
    "plt.legend(['Google Play Store', 'Apple App Store'])\n",
    "plt.title('Distribution of the Number of Ratings: \\n Apple App Store vs. Google Play Store', fontsize=20, pad=20)\n",
    "plt.show()"
   ]
  },
  {
   "cell_type": "markdown",
   "id": "9cd8e0f0-e70f-4dc8-80ca-ea6046dd75a2",
   "metadata": {},
   "source": [
    "It appears that when we consider identical apps published on Google Play Store and Apple App Store, the latter has more apps that are not rated (0 rating) in addition to having more apps with a (near) 5 star rating! \n",
    "\n",
    "Why would the same app yield different ratings? \n",
    "\n",
    "As we explore this question, we will look at the reviews for these applications as well. "
   ]
  },
  {
   "cell_type": "markdown",
   "id": "55cd4095-d096-432c-85ae-4817af954b2e",
   "metadata": {},
   "source": [
    "Before we proceeded, we used our scraper program to scrape (up to) 100 Google Play Store reviews for all apps in the combined_apps data frame. That has already been done and the csv is stored as 'google_app_reviews.csv', so we can read it in with Pandas. \n",
    "\n",
    "Additionally, we could not scrape many reviews on this scale from the Apple App Store, as our IP was blocked after only approximately ~500 reviews. \n",
    "\n",
    "We also used the TextBlob library to compute a sentiment polarity score for each review. \n",
    "\n",
    "Let's find apps with the largest differences in rating betweeen the Google App Store and the Apple App Store. "
   ]
  },
  {
   "cell_type": "code",
   "execution_count": 17,
   "id": "81f5f618-1fc9-4d4f-b476-37633bd13221",
   "metadata": {},
   "outputs": [],
   "source": [
    "combined_apps['Rating Difference'] = abs(combined_apps['Google Rating'] - combined_apps['Apple Rating'])"
   ]
  },
  {
   "cell_type": "markdown",
   "id": "014a36c7-677e-49a0-a337-6fdfff952016",
   "metadata": {},
   "source": [
    "It appears that a large discrepancy can be caused if there are, say no ratings for the app on the Apple App Store but there is a 5 star rating on the Google Play Store. \n",
    "\n",
    "We will filter out such cases by considering apps that have at least 100 ratings in both stores. "
   ]
  },
  {
   "cell_type": "code",
   "execution_count": 18,
   "id": "e82f76dd-dce2-48f6-a059-04776863fbf7",
   "metadata": {},
   "outputs": [],
   "source": [
    "combined_apps_popular = combined_apps[(combined_apps['Google Rating Count'] > 100) & (combined_apps['Apple Rating Count'] > 100)].copy()\n",
    "combined_apps_popular.sort_values(by=['Rating Difference'], ascending=False, inplace=True)"
   ]
  },
  {
   "cell_type": "markdown",
   "id": "ed4cf988-ccf7-4d62-9b24-fb79ad1232c1",
   "metadata": {},
   "source": [
    "Let's analyze the top ten apps that have the highest rating differences between the two platforms"
   ]
  },
  {
   "cell_type": "code",
   "execution_count": 42,
   "id": "8d3eec1f-3235-48ce-8640-74cb0ca1c87e",
   "metadata": {},
   "outputs": [
    {
     "data": {
      "text/html": [
       "<div>\n",
       "<style scoped>\n",
       "    .dataframe tbody tr th:only-of-type {\n",
       "        vertical-align: middle;\n",
       "    }\n",
       "\n",
       "    .dataframe tbody tr th {\n",
       "        vertical-align: top;\n",
       "    }\n",
       "\n",
       "    .dataframe thead th {\n",
       "        text-align: right;\n",
       "    }\n",
       "</style>\n",
       "<table border=\"1\" class=\"dataframe\">\n",
       "  <thead>\n",
       "    <tr style=\"text-align: right;\">\n",
       "      <th></th>\n",
       "      <th>App Id</th>\n",
       "      <th>App Name</th>\n",
       "      <th>Google Developer</th>\n",
       "      <th>Google Rating</th>\n",
       "      <th>Google Released</th>\n",
       "      <th>Google Rating Count</th>\n",
       "      <th>Apple Developer</th>\n",
       "      <th>Apple Rating</th>\n",
       "      <th>Apple Released</th>\n",
       "      <th>Apple Rating Count</th>\n",
       "      <th>Url Id</th>\n",
       "      <th>Developer</th>\n",
       "      <th>Rating Difference</th>\n",
       "    </tr>\n",
       "  </thead>\n",
       "  <tbody>\n",
       "    <tr>\n",
       "      <th>53270</th>\n",
       "      <td>com.fanduel.scout</td>\n",
       "      <td>FanDuel Scout</td>\n",
       "      <td>FanDuel</td>\n",
       "      <td>1.8</td>\n",
       "      <td>Sep 6, 2017</td>\n",
       "      <td>2228.0</td>\n",
       "      <td>FanDuel, Inc.</td>\n",
       "      <td>4.73857</td>\n",
       "      <td>2017-09-07T00:47:41Z</td>\n",
       "      <td>13973</td>\n",
       "      <td>1275873422</td>\n",
       "      <td>FanDuel, Inc.</td>\n",
       "      <td>2.93857</td>\n",
       "    </tr>\n",
       "    <tr>\n",
       "      <th>9760</th>\n",
       "      <td>co.mixcord.acapella</td>\n",
       "      <td>Acapella from PicPlayPost</td>\n",
       "      <td>Mixcord Inc</td>\n",
       "      <td>1.7</td>\n",
       "      <td>Feb 5, 2016</td>\n",
       "      <td>2636.0</td>\n",
       "      <td>Mixcord Inc.</td>\n",
       "      <td>4.59440</td>\n",
       "      <td>2015-09-15T03:43:15Z</td>\n",
       "      <td>22870</td>\n",
       "      <td>924635678</td>\n",
       "      <td>Mixcord Inc.</td>\n",
       "      <td>2.89440</td>\n",
       "    </tr>\n",
       "    <tr>\n",
       "      <th>77051</th>\n",
       "      <td>com.mtvn.RateMyProfessors</td>\n",
       "      <td>Rate My Professors</td>\n",
       "      <td>Cheddar Inc</td>\n",
       "      <td>2.0</td>\n",
       "      <td>Jan 24, 2017</td>\n",
       "      <td>184.0</td>\n",
       "      <td>Cheddar Inc</td>\n",
       "      <td>4.86472</td>\n",
       "      <td>2010-01-06T21:12:01Z</td>\n",
       "      <td>16092</td>\n",
       "      <td>345381821</td>\n",
       "      <td>Cheddar Inc</td>\n",
       "      <td>2.86472</td>\n",
       "    </tr>\n",
       "    <tr>\n",
       "      <th>32756</th>\n",
       "      <td>com.atomiccu.ios1</td>\n",
       "      <td>Atomic Credit Union</td>\n",
       "      <td>Atomic Credit Union</td>\n",
       "      <td>1.8</td>\n",
       "      <td>Apr 12, 2021</td>\n",
       "      <td>108.0</td>\n",
       "      <td>Atomic Credit Union</td>\n",
       "      <td>4.61990</td>\n",
       "      <td>2016-02-19T15:16:08Z</td>\n",
       "      <td>1447</td>\n",
       "      <td>1085742428</td>\n",
       "      <td>Atomic Credit Union</td>\n",
       "      <td>2.81990</td>\n",
       "    </tr>\n",
       "    <tr>\n",
       "      <th>77815</th>\n",
       "      <td>com.punchh.smashburger</td>\n",
       "      <td>Smashburger Rewards</td>\n",
       "      <td>Smashburger/JFC</td>\n",
       "      <td>1.8</td>\n",
       "      <td>Mar 20, 2017</td>\n",
       "      <td>1250.0</td>\n",
       "      <td>Smashburger</td>\n",
       "      <td>4.57090</td>\n",
       "      <td>2017-03-21T00:12:21Z</td>\n",
       "      <td>1361</td>\n",
       "      <td>1207759409</td>\n",
       "      <td>Smashburger</td>\n",
       "      <td>2.77090</td>\n",
       "    </tr>\n",
       "    <tr>\n",
       "      <th>20255</th>\n",
       "      <td>com.walottery.mobileapp</td>\n",
       "      <td>Washington's Lottery</td>\n",
       "      <td>Scientific Games Corporation</td>\n",
       "      <td>4.2</td>\n",
       "      <td>Nov 11, 2014</td>\n",
       "      <td>2770.0</td>\n",
       "      <td>Scientific Games International</td>\n",
       "      <td>1.56195</td>\n",
       "      <td>2015-05-23T10:00:15Z</td>\n",
       "      <td>678</td>\n",
       "      <td>952379144</td>\n",
       "      <td>Scientific Games International</td>\n",
       "      <td>2.63805</td>\n",
       "    </tr>\n",
       "    <tr>\n",
       "      <th>105375</th>\n",
       "      <td>com.GPC.OCCMobile</td>\n",
       "      <td>Georgia Power</td>\n",
       "      <td>Georgia Power Company</td>\n",
       "      <td>4.0</td>\n",
       "      <td>Sep 22, 2014</td>\n",
       "      <td>1065.0</td>\n",
       "      <td>Georgia Power Company</td>\n",
       "      <td>1.39959</td>\n",
       "      <td>2014-08-25T16:10:13Z</td>\n",
       "      <td>483</td>\n",
       "      <td>905338462</td>\n",
       "      <td>Georgia Power Company</td>\n",
       "      <td>2.60041</td>\n",
       "    </tr>\n",
       "    <tr>\n",
       "      <th>118242</th>\n",
       "      <td>com.axiemsystems.photoeditor</td>\n",
       "      <td>Photo Editor+</td>\n",
       "      <td>Axiem Systems</td>\n",
       "      <td>2.1</td>\n",
       "      <td>Sep 7, 2012</td>\n",
       "      <td>1023.0</td>\n",
       "      <td>Axiem Systems</td>\n",
       "      <td>4.68119</td>\n",
       "      <td>2012-02-09T18:36:50Z</td>\n",
       "      <td>1468</td>\n",
       "      <td>499146288</td>\n",
       "      <td>Axiem Systems</td>\n",
       "      <td>2.58119</td>\n",
       "    </tr>\n",
       "    <tr>\n",
       "      <th>13903</th>\n",
       "      <td>com.flolivingalisavitti.myfloapp</td>\n",
       "      <td>MyFLO Period Tracker</td>\n",
       "      <td>FLO Living LLC</td>\n",
       "      <td>2.1</td>\n",
       "      <td>Jan 23, 2017</td>\n",
       "      <td>896.0</td>\n",
       "      <td>Flo Living</td>\n",
       "      <td>4.65041</td>\n",
       "      <td>2016-11-17T08:18:12Z</td>\n",
       "      <td>10086</td>\n",
       "      <td>1152657123</td>\n",
       "      <td>Flo Living</td>\n",
       "      <td>2.55041</td>\n",
       "    </tr>\n",
       "    <tr>\n",
       "      <th>117812</th>\n",
       "      <td>com.morganstanley.prod.SumSPC</td>\n",
       "      <td>StockPlan Connect</td>\n",
       "      <td>Morgan Stanley and Co. LLC</td>\n",
       "      <td>2.0</td>\n",
       "      <td>Feb 14, 2019</td>\n",
       "      <td>320.0</td>\n",
       "      <td>Morgan Stanley</td>\n",
       "      <td>4.54538</td>\n",
       "      <td>2019-02-16T19:39:49Z</td>\n",
       "      <td>4815</td>\n",
       "      <td>1354023603</td>\n",
       "      <td>Morgan Stanley</td>\n",
       "      <td>2.54538</td>\n",
       "    </tr>\n",
       "  </tbody>\n",
       "</table>\n",
       "</div>"
      ],
      "text/plain": [
       "                                  App Id                   App Name  \\\n",
       "53270                  com.fanduel.scout              FanDuel Scout   \n",
       "9760                 co.mixcord.acapella  Acapella from PicPlayPost   \n",
       "77051          com.mtvn.RateMyProfessors         Rate My Professors   \n",
       "32756                  com.atomiccu.ios1        Atomic Credit Union   \n",
       "77815             com.punchh.smashburger        Smashburger Rewards   \n",
       "20255            com.walottery.mobileapp       Washington's Lottery   \n",
       "105375                 com.GPC.OCCMobile              Georgia Power   \n",
       "118242      com.axiemsystems.photoeditor              Photo Editor+   \n",
       "13903   com.flolivingalisavitti.myfloapp       MyFLO Period Tracker   \n",
       "117812     com.morganstanley.prod.SumSPC          StockPlan Connect   \n",
       "\n",
       "                    Google Developer  Google Rating Google Released  \\\n",
       "53270                        FanDuel            1.8     Sep 6, 2017   \n",
       "9760                     Mixcord Inc            1.7     Feb 5, 2016   \n",
       "77051                    Cheddar Inc            2.0    Jan 24, 2017   \n",
       "32756            Atomic Credit Union            1.8    Apr 12, 2021   \n",
       "77815                Smashburger/JFC            1.8    Mar 20, 2017   \n",
       "20255   Scientific Games Corporation            4.2    Nov 11, 2014   \n",
       "105375         Georgia Power Company            4.0    Sep 22, 2014   \n",
       "118242                 Axiem Systems            2.1     Sep 7, 2012   \n",
       "13903                 FLO Living LLC            2.1    Jan 23, 2017   \n",
       "117812    Morgan Stanley and Co. LLC            2.0    Feb 14, 2019   \n",
       "\n",
       "        Google Rating Count                 Apple Developer  Apple Rating  \\\n",
       "53270                2228.0                   FanDuel, Inc.       4.73857   \n",
       "9760                 2636.0                    Mixcord Inc.       4.59440   \n",
       "77051                 184.0                     Cheddar Inc       4.86472   \n",
       "32756                 108.0             Atomic Credit Union       4.61990   \n",
       "77815                1250.0                     Smashburger       4.57090   \n",
       "20255                2770.0  Scientific Games International       1.56195   \n",
       "105375               1065.0           Georgia Power Company       1.39959   \n",
       "118242               1023.0                   Axiem Systems       4.68119   \n",
       "13903                 896.0                      Flo Living       4.65041   \n",
       "117812                320.0                  Morgan Stanley       4.54538   \n",
       "\n",
       "              Apple Released  Apple Rating Count      Url Id  \\\n",
       "53270   2017-09-07T00:47:41Z               13973  1275873422   \n",
       "9760    2015-09-15T03:43:15Z               22870   924635678   \n",
       "77051   2010-01-06T21:12:01Z               16092   345381821   \n",
       "32756   2016-02-19T15:16:08Z                1447  1085742428   \n",
       "77815   2017-03-21T00:12:21Z                1361  1207759409   \n",
       "20255   2015-05-23T10:00:15Z                 678   952379144   \n",
       "105375  2014-08-25T16:10:13Z                 483   905338462   \n",
       "118242  2012-02-09T18:36:50Z                1468   499146288   \n",
       "13903   2016-11-17T08:18:12Z               10086  1152657123   \n",
       "117812  2019-02-16T19:39:49Z                4815  1354023603   \n",
       "\n",
       "                             Developer  Rating Difference  \n",
       "53270                    FanDuel, Inc.            2.93857  \n",
       "9760                      Mixcord Inc.            2.89440  \n",
       "77051                      Cheddar Inc            2.86472  \n",
       "32756              Atomic Credit Union            2.81990  \n",
       "77815                      Smashburger            2.77090  \n",
       "20255   Scientific Games International            2.63805  \n",
       "105375           Georgia Power Company            2.60041  \n",
       "118242                   Axiem Systems            2.58119  \n",
       "13903                       Flo Living            2.55041  \n",
       "117812                  Morgan Stanley            2.54538  "
      ]
     },
     "execution_count": 42,
     "metadata": {},
     "output_type": "execute_result"
    }
   ],
   "source": [
    "combined_apps_ten = combined_apps_popular.head(10)\n",
    "combined_apps_ten"
   ]
  },
  {
   "cell_type": "markdown",
   "id": "ba04f71c-2a74-4585-bae7-0fdbfb919eb6",
   "metadata": {},
   "source": [
    "Wow! The highest app has a 2.93857 rating discrepancy! We note that there are a lot more ratings on the Apple App Store for this app, but the number of ratings on the Google Play Store is not small either. \n",
    "\n",
    "Looking at this list, it seems Apple has the higher rating for most of the apps. This supports the previously displayed graph -- there is a larger number of higher ratings on Apple's App Store. \n",
    "\n",
    "Before we proceeded, we scraped (up to) 100 reviews for each app in the combined_apps_ten dataframe from the Apple App Store. We've also computed a sentiment polarity score for each review using TextBlob. The csv is saved as 'apple_app_reviews.csv' so we can read it with Pandas. "
   ]
  },
  {
   "cell_type": "code",
   "execution_count": 43,
   "id": "ed78f013-32aa-495e-9e41-b673f0ac2410",
   "metadata": {},
   "outputs": [],
   "source": [
    "reviews_google = pd.read_csv('google_app_reviews.csv')\n",
    "reviews_google.rename(columns={'app_id': 'App Id'}, errors='raise', inplace=True)\n",
    "\n",
    "# Combine it with the larger dataframe that includes all the reviews, so we can get the rating\n",
    "reviews_google_selected = combined_apps_ten.merge(reviews_google, on=['App Id'], how='inner')"
   ]
  },
  {
   "cell_type": "code",
   "execution_count": 47,
   "id": "76ce4f8c-9dc2-448a-ade5-465927a878bf",
   "metadata": {},
   "outputs": [],
   "source": [
    "reviews_apple_selected = pd.read_csv('apple_app_reviews.csv')\n",
    "reviews_apple_selected.rename(columns={'app_id': 'App Id'}, errors='raise', inplace=True)"
   ]
  },
  {
   "cell_type": "code",
   "execution_count": 48,
   "id": "3903d085-1c8d-48fc-8d82-d395b3a3141d",
   "metadata": {},
   "outputs": [],
   "source": [
    "google_polarity_avg = reviews_google_selected.groupby(by=['App Id', 'App Name']).mean('polarity')\n",
    "apple_polarity_avg = reviews_apple_selected.groupby(by=['App Id']).mean('Polarity')"
   ]
  },
  {
   "cell_type": "code",
   "execution_count": 49,
   "id": "9a4b0e08-0e3a-4f24-beea-a8a2a569bd4c",
   "metadata": {},
   "outputs": [],
   "source": [
    "apple_polarity_avg.rename(columns={'score': 'Apple Score', 'Polarity': 'Apple Polarity'}, inplace=True)\n",
    "apple_polarity_avg.drop(columns=['Unnamed: 0'], inplace=True)\n",
    "apple_polarity_avg.reset_index(inplace=True)"
   ]
  },
  {
   "cell_type": "code",
   "execution_count": 50,
   "id": "e45d5bb9-bc6f-4803-ba33-ce5b39ffd56a",
   "metadata": {},
   "outputs": [],
   "source": [
    "google_polarity_avg.rename(columns={'score': 'Google Score', 'likes': 'Google Likes', 'polarity': 'Google Polarity'}, inplace=True)\n",
    "google_polarity_avg.drop(columns=['Unnamed: 0'], inplace=True)\n",
    "google_polarity_avg.reset_index(inplace=True)"
   ]
  },
  {
   "cell_type": "code",
   "execution_count": 51,
   "id": "cd23d478-46a6-4785-8fd3-a8dcb3e70fca",
   "metadata": {},
   "outputs": [],
   "source": [
    "polarity_combined = google_polarity_avg.merge(apple_polarity_avg, on='App Id', how='inner')"
   ]
  },
  {
   "cell_type": "code",
   "execution_count": 55,
   "id": "28bbc9d8-c054-46f8-8080-a8904aeb47e8",
   "metadata": {},
   "outputs": [
    {
     "data": {
      "image/png": "[encoded data removed]",
      "text/plain": [
       "<Figure size 1152x432 with 2 Axes>"
      ]
     },
     "metadata": {},
     "output_type": "display_data"
    }
   ],
   "source": [
    "figure, (axis_1, axis_2) = plt.subplots(1, 2, figsize=(16, 6))\n",
    "\n",
    "# Inspired from https://matplotlib.org/stable/gallery/lines_bars_and_markers/barchart.html\n",
    "x = np.arange(9)\n",
    "width = 0.3\n",
    "google_ratings = polarity_combined['Google Rating']\n",
    "apple_ratings = polarity_combined['Apple Rating']\n",
    "\n",
    "google_polarities = polarity_combined['Google Polarity']\n",
    "apple_polarities = polarity_combined['Apple Polarity']\n",
    "\n",
    "axis_1.set_xlabel('App Name', fontsize=15, labelpad=20)\n",
    "axis_1.set_ylabel('Rating', fontsize=15, labelpad=20)\n",
    "axis_1.set_title('App Ratings Between Google Play and Apple App Store', fontsize=20, pad=20)\n",
    "\n",
    "axis_1.bar(x-0.2, google_ratings, width, label='Google Rating', color=palette[2])\n",
    "axis_1.bar(x+0.2, apple_ratings, width, label='Apple Rating', color=palette[4])\n",
    "axis_1.legend()\n",
    "\n",
    "axis_2.set_xlabel('App Name', fontsize=15, labelpad=20)\n",
    "axis_2.set_ylabel('Polarity Rating', fontsize=15, labelpad=20)\n",
    "axis_2.set_title('App Polarity Ratings Between Google Play and Apple App Store', fontsize=20, pad=20)\n",
    "\n",
    "axis_2.bar(x-0.2, google_polarities, width, label='Google Polarity Rating', color=palette[2])\n",
    "axis_2.bar(x+0.2, apple_polarities, width, label='Apple Polarity Rating', color=palette[4])\n",
    "axis_2.legend()\n",
    "\n",
    "axis_1.set_xticks(ticks=polarity_combined.index)\n",
    "axis_1.set_xticklabels(labels=polarity_combined['App Name'],\n",
    "                       fontsize=15,\n",
    "                       rotation=90)\n",
    "\n",
    "axis_2.set_xticks(ticks=polarity_combined.index)\n",
    "axis_2.set_xticklabels(labels=polarity_combined['App Name'], \n",
    "                       fontsize=15,\n",
    "                       rotation=90)\n",
    "\n",
    "# From https://www.kite.com/python/answers/how-to-set-the-spacing-between-subplots-in-matplotlib-in-python\n",
    "figure.tight_layout()\n",
    "plt.show()"
   ]
  },
  {
   "cell_type": "markdown",
   "id": "54758a89-48a8-43c7-8852-aec426d557c8",
   "metadata": {},
   "source": [
    "Comparing the sentiment polarities and the ratings, we can see that the lower the rating the lower the sentiment polarity.\n",
    "\n",
    "In almost all these apps, it is rated lower on the Google Play Store. As a consequence, the polarity is lower too. "
   ]
  },
  {
   "cell_type": "markdown",
   "id": "f881793b-eaee-46e9-8567-91574c9c716f",
   "metadata": {},
   "source": [
    "Let's take a closer look at some of the reviews for FanDuel Scout -- the app with the largest rating discrepancy between the two platforms. "
   ]
  },
  {
   "cell_type": "code",
   "execution_count": 56,
   "id": "38432c05-d1e7-47a3-b8ff-74f533515ffb",
   "metadata": {},
   "outputs": [
    {
     "data": {
      "text/html": [
       "<div>\n",
       "<style scoped>\n",
       "    .dataframe tbody tr th:only-of-type {\n",
       "        vertical-align: middle;\n",
       "    }\n",
       "\n",
       "    .dataframe tbody tr th {\n",
       "        vertical-align: top;\n",
       "    }\n",
       "\n",
       "    .dataframe thead th {\n",
       "        text-align: right;\n",
       "    }\n",
       "</style>\n",
       "<table border=\"1\" class=\"dataframe\">\n",
       "  <thead>\n",
       "    <tr style=\"text-align: right;\">\n",
       "      <th></th>\n",
       "      <th>content</th>\n",
       "      <th>likes</th>\n",
       "    </tr>\n",
       "  </thead>\n",
       "  <tbody>\n",
       "    <tr>\n",
       "      <th>391855</th>\n",
       "      <td>I can't even use the app right now. I'm trying to use it for MLB and it won't let me sign in. Says my email or password is wrong, even though I'm using the same email and password I use for FanDuel. I finally got in after changing my password and it said JT Realmuto was injured and not starting, and a simple Google search showed that the Phillies have him starting. Then I closed app and reopen...</td>\n",
       "      <td>53</td>\n",
       "    </tr>\n",
       "    <tr>\n",
       "      <th>391797</th>\n",
       "      <td>When it works it's great, BUT just like everyone else it will not login even though I am using the correct login and password. I have even changed my password to be sure of it. I wish there was a way you could contact anyone to correct this problem because it is very annoying...real money on the line, and my tools are broken. Looks like we have a claim to get reimbursement on any monies lost.....</td>\n",
       "      <td>51</td>\n",
       "    </tr>\n",
       "    <tr>\n",
       "      <th>391796</th>\n",
       "      <td>It never has the correct info for my login. I had the password right and it wouldn't accept it, then I changed my password and put the new password in and it's somehow incorrect. This happens over and over again. Update: 10/24/20 I'm changing from 2 stars to 1 star because they have done nothing to correct the issue or communicate with those having issues.</td>\n",
       "      <td>50</td>\n",
       "    </tr>\n",
       "    <tr>\n",
       "      <th>391823</th>\n",
       "      <td>App keeps signing me out even though i'm signed in on the fanduel app. When I type in my username and password, it tells me that it's wrong. Can someone please help resolve this issue. Without this issue, I would rate 5 stars for the up to date news and articles.</td>\n",
       "      <td>37</td>\n",
       "    </tr>\n",
       "    <tr>\n",
       "      <th>391810</th>\n",
       "      <td>I would give it ZERO stars if it allowed me to. This app used to be great, now I can't log in too it, I even changed my password, still unable to log in. I emailed Fanduel, they said that they were aware of issues, that was nearly 6 months ago, still not fixed, COME ON Fanduel, get your act together!</td>\n",
       "      <td>35</td>\n",
       "    </tr>\n",
       "  </tbody>\n",
       "</table>\n",
       "</div>"
      ],
      "text/plain": [
       "                                                                                                                                                                                                                                                                                                                                                                                                                content  \\\n",
       "391855  I can't even use the app right now. I'm trying to use it for MLB and it won't let me sign in. Says my email or password is wrong, even though I'm using the same email and password I use for FanDuel. I finally got in after changing my password and it said JT Realmuto was injured and not starting, and a simple Google search showed that the Phillies have him starting. Then I closed app and reopen...   \n",
       "391797  When it works it's great, BUT just like everyone else it will not login even though I am using the correct login and password. I have even changed my password to be sure of it. I wish there was a way you could contact anyone to correct this problem because it is very annoying...real money on the line, and my tools are broken. Looks like we have a claim to get reimbursement on any monies lost.....   \n",
       "391796                                           It never has the correct info for my login. I had the password right and it wouldn't accept it, then I changed my password and put the new password in and it's somehow incorrect. This happens over and over again. Update: 10/24/20 I'm changing from 2 stars to 1 star because they have done nothing to correct the issue or communicate with those having issues.   \n",
       "391823                                                                                                                                          App keeps signing me out even though i'm signed in on the fanduel app. When I type in my username and password, it tells me that it's wrong. Can someone please help resolve this issue. Without this issue, I would rate 5 stars for the up to date news and articles.   \n",
       "391810                                                                                                    I would give it ZERO stars if it allowed me to. This app used to be great, now I can't log in too it, I even changed my password, still unable to log in. I emailed Fanduel, they said that they were aware of issues, that was nearly 6 months ago, still not fixed, COME ON Fanduel, get your act together!   \n",
       "\n",
       "        likes  \n",
       "391855     53  \n",
       "391797     51  \n",
       "391796     50  \n",
       "391823     37  \n",
       "391810     35  "
      ]
     },
     "execution_count": 56,
     "metadata": {},
     "output_type": "execute_result"
    }
   ],
   "source": [
    "fanduel_google = reviews_google[reviews_google['App Id'] == 'com.fanduel.scout'].copy()\n",
    "fanduel_google.sort_values(by=['likes'], ascending=False, inplace=True)\n",
    "fanduel_google[['content', 'likes']].head(5)"
   ]
  },
  {
   "cell_type": "markdown",
   "id": "a89e7806-a96e-47b0-b3ab-ef10e4821bc7",
   "metadata": {},
   "source": [
    "Taking a look at the top three most-liked reviews, it seems that the poor reviews stem from usability of the application and the lack of resolution. "
   ]
  },
  {
   "cell_type": "markdown",
   "id": "cbe29116-8e12-4dc2-909f-7335c1bde144",
   "metadata": {},
   "source": [
    "When we look at the same app on the Apple App Store: (There is no option to 'like' reviews on the Apple App Store so we cannot sort by likes)"
   ]
  },
  {
   "cell_type": "code",
   "execution_count": 57,
   "id": "a805356b-1093-40a0-a843-27b47b1389fd",
   "metadata": {},
   "outputs": [
    {
     "data": {
      "text/html": [
       "<div>\n",
       "<style scoped>\n",
       "    .dataframe tbody tr th:only-of-type {\n",
       "        vertical-align: middle;\n",
       "    }\n",
       "\n",
       "    .dataframe tbody tr th {\n",
       "        vertical-align: top;\n",
       "    }\n",
       "\n",
       "    .dataframe thead th {\n",
       "        text-align: right;\n",
       "    }\n",
       "</style>\n",
       "<table border=\"1\" class=\"dataframe\">\n",
       "  <thead>\n",
       "    <tr style=\"text-align: right;\">\n",
       "      <th></th>\n",
       "      <th>Unnamed: 0</th>\n",
       "      <th>App Id</th>\n",
       "      <th>user_name</th>\n",
       "      <th>score</th>\n",
       "      <th>content</th>\n",
       "      <th>Polarity</th>\n",
       "    </tr>\n",
       "  </thead>\n",
       "  <tbody>\n",
       "    <tr>\n",
       "      <th>397</th>\n",
       "      <td>397</td>\n",
       "      <td>com.fanduel.scout</td>\n",
       "      <td>slkkblack</td>\n",
       "      <td>5</td>\n",
       "      <td>It helps me out on last minute rotations. Awesome</td>\n",
       "      <td>0.5</td>\n",
       "    </tr>\n",
       "    <tr>\n",
       "      <th>398</th>\n",
       "      <td>398</td>\n",
       "      <td>com.fanduel.scout</td>\n",
       "      <td>ORLFlight</td>\n",
       "      <td>5</td>\n",
       "      <td>Helps me keep up with the breaking news.</td>\n",
       "      <td>0.0</td>\n",
       "    </tr>\n",
       "    <tr>\n",
       "      <th>399</th>\n",
       "      <td>399</td>\n",
       "      <td>com.fanduel.scout</td>\n",
       "      <td>😎😎🦍💵💵</td>\n",
       "      <td>5</td>\n",
       "      <td>I use it for finding out all the injuries</td>\n",
       "      <td>0.0</td>\n",
       "    </tr>\n",
       "    <tr>\n",
       "      <th>400</th>\n",
       "      <td>400</td>\n",
       "      <td>com.fanduel.scout</td>\n",
       "      <td>scootloco</td>\n",
       "      <td>5</td>\n",
       "      <td>I won 5,600 and had it within 3 days</td>\n",
       "      <td>0.0</td>\n",
       "    </tr>\n",
       "    <tr>\n",
       "      <th>401</th>\n",
       "      <td>401</td>\n",
       "      <td>com.fanduel.scout</td>\n",
       "      <td>GoKuSeN3</td>\n",
       "      <td>5</td>\n",
       "      <td>Helpful tool but pages have updated in a couple days</td>\n",
       "      <td>0.0</td>\n",
       "    </tr>\n",
       "  </tbody>\n",
       "</table>\n",
       "</div>"
      ],
      "text/plain": [
       "     Unnamed: 0             App Id  user_name  score  \\\n",
       "397         397  com.fanduel.scout  slkkblack      5   \n",
       "398         398  com.fanduel.scout  ORLFlight      5   \n",
       "399         399  com.fanduel.scout      😎😎🦍💵💵      5   \n",
       "400         400  com.fanduel.scout  scootloco      5   \n",
       "401         401  com.fanduel.scout   GoKuSeN3      5   \n",
       "\n",
       "                                                  content  Polarity  \n",
       "397     It helps me out on last minute rotations. Awesome       0.5  \n",
       "398              Helps me keep up with the breaking news.       0.0  \n",
       "399             I use it for finding out all the injuries       0.0  \n",
       "400                  I won 5,600 and had it within 3 days       0.0  \n",
       "401  Helpful tool but pages have updated in a couple days       0.0  "
      ]
     },
     "execution_count": 57,
     "metadata": {},
     "output_type": "execute_result"
    }
   ],
   "source": [
    "fanduel_apple = reviews_apple_selected[(reviews_apple_selected['App Id'] == 'com.fanduel.scout')].copy()\n",
    "fanduel_apple.head(5)"
   ]
  },
  {
   "cell_type": "markdown",
   "id": "d594e21f-eadf-4843-adb9-bdea8f566abb",
   "metadata": {},
   "source": [
    "Indeed, there are 1-star reviews as well that are releated to the (lack of) usability of the app. \n",
    "\n",
    "We proceed to make visualziation of the the distribution of reviews for this app:"
   ]
  },
  {
   "cell_type": "code",
   "execution_count": 58,
   "id": "e27392a8-b7ce-4145-b22c-a58095870fa7",
   "metadata": {},
   "outputs": [
    {
     "ename": "KeyError",
     "evalue": "'rating'",
     "output_type": "error",
     "traceback": [
      "\u001b[0;31m---------------------------------------------------------------------------\u001b[0m",
      "\u001b[0;31mKeyError\u001b[0m                                  Traceback (most recent call last)",
      "\u001b[0;32m<ipython-input-58-0982af82d110>\u001b[0m in \u001b[0;36m<module>\u001b[0;34m\u001b[0m\n\u001b[0;32m----> 1\u001b[0;31m \u001b[0mcount_fanduel_apple\u001b[0m \u001b[0;34m=\u001b[0m \u001b[0mfanduel_apple\u001b[0m\u001b[0;34m.\u001b[0m\u001b[0mgroupby\u001b[0m\u001b[0;34m(\u001b[0m\u001b[0mby\u001b[0m\u001b[0;34m=\u001b[0m\u001b[0;34m[\u001b[0m\u001b[0;34m'rating'\u001b[0m\u001b[0;34m]\u001b[0m\u001b[0;34m)\u001b[0m\u001b[0;34m.\u001b[0m\u001b[0mcount\u001b[0m\u001b[0;34m(\u001b[0m\u001b[0;34m)\u001b[0m\u001b[0;34m.\u001b[0m\u001b[0mreset_index\u001b[0m\u001b[0;34m(\u001b[0m\u001b[0;34m)\u001b[0m\u001b[0;34m\u001b[0m\u001b[0;34m\u001b[0m\u001b[0m\n\u001b[0m\u001b[1;32m      2\u001b[0m \u001b[0mcount_fanduel_google\u001b[0m \u001b[0;34m=\u001b[0m \u001b[0mfanduel_google\u001b[0m\u001b[0;34m.\u001b[0m\u001b[0mgroupby\u001b[0m\u001b[0;34m(\u001b[0m\u001b[0mby\u001b[0m\u001b[0;34m=\u001b[0m\u001b[0;34m[\u001b[0m\u001b[0;34m'score'\u001b[0m\u001b[0;34m]\u001b[0m\u001b[0;34m)\u001b[0m\u001b[0;34m.\u001b[0m\u001b[0mcount\u001b[0m\u001b[0;34m(\u001b[0m\u001b[0;34m)\u001b[0m\u001b[0;34m.\u001b[0m\u001b[0mreset_index\u001b[0m\u001b[0;34m(\u001b[0m\u001b[0;34m)\u001b[0m\u001b[0;34m\u001b[0m\u001b[0;34m\u001b[0m\u001b[0m\n",
      "\u001b[0;32m~/opt/anaconda3/lib/python3.8/site-packages/pandas/core/frame.py\u001b[0m in \u001b[0;36mgroupby\u001b[0;34m(self, by, axis, level, as_index, sort, group_keys, squeeze, observed, dropna)\u001b[0m\n\u001b[1;32m   6715\u001b[0m         \u001b[0maxis\u001b[0m \u001b[0;34m=\u001b[0m \u001b[0mself\u001b[0m\u001b[0;34m.\u001b[0m\u001b[0m_get_axis_number\u001b[0m\u001b[0;34m(\u001b[0m\u001b[0maxis\u001b[0m\u001b[0;34m)\u001b[0m\u001b[0;34m\u001b[0m\u001b[0;34m\u001b[0m\u001b[0m\n\u001b[1;32m   6716\u001b[0m \u001b[0;34m\u001b[0m\u001b[0m\n\u001b[0;32m-> 6717\u001b[0;31m         return DataFrameGroupBy(\n\u001b[0m\u001b[1;32m   6718\u001b[0m             \u001b[0mobj\u001b[0m\u001b[0;34m=\u001b[0m\u001b[0mself\u001b[0m\u001b[0;34m,\u001b[0m\u001b[0;34m\u001b[0m\u001b[0;34m\u001b[0m\u001b[0m\n\u001b[1;32m   6719\u001b[0m             \u001b[0mkeys\u001b[0m\u001b[0;34m=\u001b[0m\u001b[0mby\u001b[0m\u001b[0;34m,\u001b[0m\u001b[0;34m\u001b[0m\u001b[0;34m\u001b[0m\u001b[0m\n",
      "\u001b[0;32m~/opt/anaconda3/lib/python3.8/site-packages/pandas/core/groupby/groupby.py\u001b[0m in \u001b[0;36m__init__\u001b[0;34m(self, obj, keys, axis, level, grouper, exclusions, selection, as_index, sort, group_keys, squeeze, observed, mutated, dropna)\u001b[0m\n\u001b[1;32m    558\u001b[0m             \u001b[0;32mfrom\u001b[0m \u001b[0mpandas\u001b[0m\u001b[0;34m.\u001b[0m\u001b[0mcore\u001b[0m\u001b[0;34m.\u001b[0m\u001b[0mgroupby\u001b[0m\u001b[0;34m.\u001b[0m\u001b[0mgrouper\u001b[0m \u001b[0;32mimport\u001b[0m \u001b[0mget_grouper\u001b[0m\u001b[0;34m\u001b[0m\u001b[0;34m\u001b[0m\u001b[0m\n\u001b[1;32m    559\u001b[0m \u001b[0;34m\u001b[0m\u001b[0m\n\u001b[0;32m--> 560\u001b[0;31m             grouper, exclusions, obj = get_grouper(\n\u001b[0m\u001b[1;32m    561\u001b[0m                 \u001b[0mobj\u001b[0m\u001b[0;34m,\u001b[0m\u001b[0;34m\u001b[0m\u001b[0;34m\u001b[0m\u001b[0m\n\u001b[1;32m    562\u001b[0m                 \u001b[0mkeys\u001b[0m\u001b[0;34m,\u001b[0m\u001b[0;34m\u001b[0m\u001b[0;34m\u001b[0m\u001b[0m\n",
      "\u001b[0;32m~/opt/anaconda3/lib/python3.8/site-packages/pandas/core/groupby/grouper.py\u001b[0m in \u001b[0;36mget_grouper\u001b[0;34m(obj, key, axis, level, sort, observed, mutated, validate, dropna)\u001b[0m\n\u001b[1;32m    809\u001b[0m                 \u001b[0min_axis\u001b[0m\u001b[0;34m,\u001b[0m \u001b[0mname\u001b[0m\u001b[0;34m,\u001b[0m \u001b[0mlevel\u001b[0m\u001b[0;34m,\u001b[0m \u001b[0mgpr\u001b[0m \u001b[0;34m=\u001b[0m \u001b[0;32mFalse\u001b[0m\u001b[0;34m,\u001b[0m \u001b[0;32mNone\u001b[0m\u001b[0;34m,\u001b[0m \u001b[0mgpr\u001b[0m\u001b[0;34m,\u001b[0m \u001b[0;32mNone\u001b[0m\u001b[0;34m\u001b[0m\u001b[0;34m\u001b[0m\u001b[0m\n\u001b[1;32m    810\u001b[0m             \u001b[0;32melse\u001b[0m\u001b[0;34m:\u001b[0m\u001b[0;34m\u001b[0m\u001b[0;34m\u001b[0m\u001b[0m\n\u001b[0;32m--> 811\u001b[0;31m                 \u001b[0;32mraise\u001b[0m \u001b[0mKeyError\u001b[0m\u001b[0;34m(\u001b[0m\u001b[0mgpr\u001b[0m\u001b[0;34m)\u001b[0m\u001b[0;34m\u001b[0m\u001b[0;34m\u001b[0m\u001b[0m\n\u001b[0m\u001b[1;32m    812\u001b[0m         \u001b[0;32melif\u001b[0m \u001b[0misinstance\u001b[0m\u001b[0;34m(\u001b[0m\u001b[0mgpr\u001b[0m\u001b[0;34m,\u001b[0m \u001b[0mGrouper\u001b[0m\u001b[0;34m)\u001b[0m \u001b[0;32mand\u001b[0m \u001b[0mgpr\u001b[0m\u001b[0;34m.\u001b[0m\u001b[0mkey\u001b[0m \u001b[0;32mis\u001b[0m \u001b[0;32mnot\u001b[0m \u001b[0;32mNone\u001b[0m\u001b[0;34m:\u001b[0m\u001b[0;34m\u001b[0m\u001b[0;34m\u001b[0m\u001b[0m\n\u001b[1;32m    813\u001b[0m             \u001b[0;31m# Add key to exclusions\u001b[0m\u001b[0;34m\u001b[0m\u001b[0;34m\u001b[0m\u001b[0;34m\u001b[0m\u001b[0m\n",
      "\u001b[0;31mKeyError\u001b[0m: 'rating'"
     ]
    }
   ],
   "source": [
    "count_fanduel_apple = fanduel_apple.groupby(by=['rating']).count().reset_index()\n",
    "count_fanduel_google = fanduel_google.groupby(by=['score']).count().reset_index()"
   ]
  },
  {
   "cell_type": "code",
   "execution_count": 59,
   "id": "0ee72e4e-ef20-4833-964a-300c42650ba9",
   "metadata": {},
   "outputs": [
    {
     "ename": "NameError",
     "evalue": "name 'count_fanduel_apple' is not defined",
     "output_type": "error",
     "traceback": [
      "\u001b[0;31m---------------------------------------------------------------------------\u001b[0m",
      "\u001b[0;31mNameError\u001b[0m                                 Traceback (most recent call last)",
      "\u001b[0;32m<ipython-input-59-fbc6fbfd673b>\u001b[0m in \u001b[0;36m<module>\u001b[0;34m\u001b[0m\n\u001b[1;32m      2\u001b[0m \u001b[0maxis\u001b[0m \u001b[0;34m=\u001b[0m \u001b[0mplt\u001b[0m\u001b[0;34m.\u001b[0m\u001b[0mgca\u001b[0m\u001b[0;34m(\u001b[0m\u001b[0;34m)\u001b[0m\u001b[0;34m\u001b[0m\u001b[0;34m\u001b[0m\u001b[0m\n\u001b[1;32m      3\u001b[0m \u001b[0;34m\u001b[0m\u001b[0m\n\u001b[0;32m----> 4\u001b[0;31m \u001b[0mapple_fanduel\u001b[0m \u001b[0;34m=\u001b[0m \u001b[0mcount_fanduel_apple\u001b[0m\u001b[0;34m[\u001b[0m\u001b[0;34m'App Id'\u001b[0m\u001b[0;34m]\u001b[0m \u001b[0;31m# This is the count\u001b[0m\u001b[0;34m\u001b[0m\u001b[0;34m\u001b[0m\u001b[0m\n\u001b[0m\u001b[1;32m      5\u001b[0m \u001b[0mgoogle_fanduel\u001b[0m \u001b[0;34m=\u001b[0m \u001b[0mcount_fanduel_google\u001b[0m\u001b[0;34m[\u001b[0m\u001b[0;34m'App Id'\u001b[0m\u001b[0;34m]\u001b[0m\u001b[0;34m\u001b[0m\u001b[0;34m\u001b[0m\u001b[0m\n\u001b[1;32m      6\u001b[0m \u001b[0;34m\u001b[0m\u001b[0m\n",
      "\u001b[0;31mNameError\u001b[0m: name 'count_fanduel_apple' is not defined"
     ]
    },
    {
     "data": {
      "image/png": "[encoded data removed]",
      "text/plain": [
       "<Figure size 864x432 with 1 Axes>"
      ]
     },
     "metadata": {},
     "output_type": "display_data"
    }
   ],
   "source": [
    "figure = plt.figure(figsize=(12,6))\n",
    "axis = plt.gca()\n",
    "\n",
    "apple_fanduel = count_fanduel_apple['App Id'] # This is the count\n",
    "google_fanduel = count_fanduel_google['App Id']\n",
    "\n",
    "# Inspired from https://matplotlib.org/stable/gallery/lines_bars_and_markers/barchart.html\n",
    "x = np.arange(5)\n",
    "width = 0.3\n",
    "\n",
    "axis.bar(x+0.2, apple_fanduel, width, label='Apple App Store Ratings', color=palette[4])\n",
    "axis.bar(x-0.2, google_fanduel, width, label='Google Play Store Ratings', color=palette[3])\n",
    "axis.legend()\n",
    "\n",
    "axis.set_xlabel('Rating', fontsize=15, labelpad=20)\n",
    "axis.set_ylabel('Count', fontsize=15, labelpad=20)\n",
    "axis.set_title('Distribution of Ratings for FanDuel Scout', fontsize=20, pad=20)\n",
    "\n",
    "axis.set_xticks(ticks=count_fanduel_google.index)\n",
    "axis.set_xticklabels(labels=count_fanduel_google['score'], fontsize=15)\n",
    "\n",
    "plt.show()"
   ]
  },
  {
   "cell_type": "markdown",
   "id": "fb12b295-b4cd-4c98-9ed3-36b77cfbf9fc",
   "metadata": {},
   "source": [
    "We can see that there is an overwhelming number of 1-star reviews on the Google Play Store for FanDuel Scout. \n",
    "\n",
    "Perhaps the app malfunctions on the Android platform more often than on iOS. "
   ]
  },
  {
   "cell_type": "markdown",
   "id": "ffc8b088-dc9b-48c1-9c4d-bca48e5288b4",
   "metadata": {},
   "source": [
    "We return to our dataframe of google reviews and take a look at the most liked 1-star ratings. "
   ]
  },
  {
   "cell_type": "code",
   "execution_count": null,
   "id": "87d4a3ee-8410-446c-a18b-63287a815d9a",
   "metadata": {},
   "outputs": [],
   "source": [
    "reviews_google = reviews_google[reviews_google['score'] > 0].copy()\n",
    "reviews_google.sort_values(by=['score', 'likes'], ascending=[True, False], inplace=True)\n",
    "reviews_google.head()"
   ]
  },
  {
   "cell_type": "markdown",
   "id": "c8b437a3-d0d4-4f48-8448-ea44fc7b3cdd",
   "metadata": {},
   "source": [
    "It appears that the most liked 1-star reviews stem from annoyance due to advertisements and game usabilitity. \n",
    "\n",
    "Next we will investigate if there is a correlation between average review sentiment polarity and the rating of the app. "
   ]
  },
  {
   "cell_type": "code",
   "execution_count": null,
   "id": "0e14c13f-79f4-41d7-ab78-d15e16fd6d51",
   "metadata": {},
   "outputs": [],
   "source": [
    "reviews_google = reviews_google.merge(google_apps, on=['App Id'], how='inner')\n",
    "\n",
    "grouped_reviews_google = reviews_google.groupby(by=['App Id', 'Google Rating']).agg(mean_polarity=('polarity', 'mean'), mean_score=('score', 'mean'))\n",
    "grouped_reviews_google.reset_index(inplace=True)"
   ]
  },
  {
   "cell_type": "code",
   "execution_count": null,
   "id": "9c4a10b0-71e6-4f69-ad25-3b5a21c01c00",
   "metadata": {},
   "outputs": [],
   "source": [
    "grouped_reviews_google =  grouped_reviews_google[grouped_reviews_google['Google Rating'] > 0].copy()"
   ]
  },
  {
   "cell_type": "code",
   "execution_count": null,
   "id": "6f944217-e4d0-40b8-8d16-7c68060fc277",
   "metadata": {},
   "outputs": [],
   "source": [
    "r, p = stats.pearsonr(grouped_reviews_google['mean_polarity'], grouped_reviews_google['mean_score'])\n",
    "r, p"
   ]
  },
  {
   "cell_type": "markdown",
   "id": "6ce19201-cb3b-4b5d-a8ba-444fb2c6716c",
   "metadata": {},
   "source": [
    "And as expected, we observe a linear association between rating and sentiment polarity. We are confident in this claim due to the miniscule pvalue.\n",
    "\n",
    "Let's see a scatter plot with a best-fit line. "
   ]
  },
  {
   "cell_type": "code",
   "execution_count": null,
   "id": "978e6538-7fce-4e90-96c3-dd121ea6d715",
   "metadata": {},
   "outputs": [],
   "source": [
    "figure = plt.figure(figsize=(7, 4))\n",
    "axis = plt.gca()\n",
    "\n",
    "plt.scatter(grouped_reviews_google['mean_score'], grouped_reviews_google['mean_polarity'], alpha=0.6, color=palette[0])\n",
    "axis.set_xlabel(xlabel='Rating', fontsize=15, labelpad=20)\n",
    "axis.set_ylabel(ylabel='Sentiment Polarity', fontsize=15, labelpad=20)\n",
    "axis.set_title(label='Sentiment Polarity Against App Rating', fontsize=20, pad=20)\n",
    "\n",
    "fit = stats.linregress(grouped_reviews_google['mean_score'], grouped_reviews_google['mean_polarity'])\n",
    "grouped_reviews_google['prediction'] = fit.slope*grouped_reviews_google['mean_score'] + fit.intercept\n",
    "plt.plot('mean_score', 'prediction', data=grouped_reviews_google, color='red', linewidth=5, alpha=0.5)\n",
    "plt.xticks(fontsize=15)\n",
    "plt.yticks(fontsize=15)\n",
    "\n",
    "plt.show()"
   ]
  },
  {
   "cell_type": "markdown",
   "id": "73af956a-f211-4f7a-af26-eb22d9fd0fbf",
   "metadata": {},
   "source": [
    "Why are there still data comments with negative sentiments if they've received a rating of 5-stars? Let's investigate that. "
   ]
  },
  {
   "cell_type": "code",
   "execution_count": null,
   "id": "83e71685-2925-4c60-a654-795e06a8280f",
   "metadata": {},
   "outputs": [],
   "source": [
    "# From https://stackoverflow.com/questions/19913659/pandas-conditional-creation-of-a-series-dataframe-column\n",
    "# Categorize polarity values into sentiments\n",
    "conditions = [\n",
    "    reviews_google['polarity'] > 0,\n",
    "    reviews_google['polarity'] < 0,\n",
    "    reviews_google['polarity'] == 0\n",
    "]\n",
    "\n",
    "sentiments = ['positive', 'negative', 'neutral']\n",
    "reviews_google['Sentiment'] = np.select(conditions, sentiments, default='neutral')"
   ]
  },
  {
   "cell_type": "code",
   "execution_count": null,
   "id": "801f05ea-c7c0-4d65-bba5-413175014736",
   "metadata": {},
   "outputs": [],
   "source": [
    "five_star_reviews = reviews_google[reviews_google['score'] == 5]\n",
    "five_star_reviews = five_star_reviews[five_star_reviews['Sentiment'] == 'negative']\n",
    "five_star_reviews.head(5)"
   ]
  },
  {
   "cell_type": "code",
   "execution_count": null,
   "id": "a201a2a6-13dc-45c9-ad2a-9477c6f877c4",
   "metadata": {},
   "outputs": [],
   "source": [
    "five_star_reviews[five_star_reviews['polarity'] == -1].head()"
   ]
  },
  {
   "cell_type": "markdown",
   "id": "412a0e5e-6f66-4a09-89fe-c8f409a3f0d4",
   "metadata": {},
   "source": [
    "It seems like all the 5-star reviews are clearly positive comments, but their in-game suggestions are interpreted as having negative sentiment. "
   ]
  },
  {
   "cell_type": "markdown",
   "id": "f322ce10-b0f7-40ad-bec4-bfe82eb3e9fc",
   "metadata": {},
   "source": [
    "We will finish off this section by cheking if the mean polarity is different for the different review scores. "
   ]
  },
  {
   "cell_type": "code",
   "execution_count": null,
   "id": "78ae5fe5-a5d4-472d-b1fd-455184b6516e",
   "metadata": {},
   "outputs": [],
   "source": [
    "one_star_reviews = reviews_google[reviews_google['score'] == 1]\n",
    "two_star_reviews = reviews_google[reviews_google['score'] == 2]\n",
    "three_star_reviews = reviews_google[reviews_google['score'] == 3]\n",
    "four_star_reviews = reviews_google[reviews_google['score'] == 4]"
   ]
  },
  {
   "cell_type": "code",
   "execution_count": null,
   "id": "4d44a9da-29c3-44ac-a1f2-8cd74f58684b",
   "metadata": {},
   "outputs": [],
   "source": [
    "f_oneway(one_star_reviews['polarity'], \n",
    "         two_star_reviews['polarity'],\n",
    "         three_star_reviews['polarity'], \n",
    "         four_star_reviews['polarity'], \n",
    "         five_star_reviews['polarity'])"
   ]
  },
  {
   "cell_type": "markdown",
   "id": "a2e97882-7933-42e0-8bfa-e8cee25cfcea",
   "metadata": {},
   "source": [
    "With a pvalue of (virtually) 0, we can conclude that at least one of the means are different. We explore further with Tukey's test to see which means are different."
   ]
  },
  {
   "cell_type": "code",
   "execution_count": null,
   "id": "edc810e6-6fb5-45da-a9ae-7b55bfb8e27a",
   "metadata": {},
   "outputs": [],
   "source": [
    "results = pairwise_tukeyhsd(reviews_google['polarity'], reviews_google['score'])._results_table\n",
    "results"
   ]
  },
  {
   "cell_type": "markdown",
   "id": "c28b684a-55f0-4cb8-9b59-dce0672e1c2d",
   "metadata": {},
   "source": [
    "We can see that the means between every pair of group is different at an alpha of 0.05. The mean sentiment polarity between say, a rating of 4 and a rating of 5, is clearly distinguishable in this case. "
   ]
  },
  {
   "cell_type": "markdown",
   "id": "0c481ef7-26ab-4464-8593-934a18fca9cc",
   "metadata": {},
   "source": [
    "Next, we will explore the relationship between the number of likes that a review obtains and its sentiment polarity: are users more likely to 'thumbs up' reviews that are more postive or more negative? "
   ]
  },
  {
   "cell_type": "code",
   "execution_count": null,
   "id": "3d1b0f0d-3e58-4a67-9188-264c6e84c056",
   "metadata": {},
   "outputs": [],
   "source": [
    "figure = plt.figure(figsize=(9, 4))\n",
    "axis = plt.gca()\n",
    "\n",
    "plt.scatter(reviews_google['polarity'], reviews_google['likes'], alpha=0.4)\n",
    "axis.set_xlabel(xlabel='Polarity', fontsize=15, labelpad=20)\n",
    "axis.set_ylabel(ylabel='Likes', fontsize=15, labelpad=20)\n",
    "axis.set_title(label='Number of Likes Against Sentiment Polarity for Reivews', fontsize=20, pad=20)\n",
    "plt.xticks(fontsize=15)\n",
    "plt.yticks(fontsize=15)\n",
    "\n",
    "plt.show()"
   ]
  },
  {
   "cell_type": "markdown",
   "id": "62f5f5ba-9dc2-40dd-b3cc-67edbc6a0776",
   "metadata": {},
   "source": [
    "From the scatter plot, we can see that the most liked reviews are around 'neutral' in sentiment. \n",
    "\n",
    "Let's plot a distrubtion of sentiment polarities. "
   ]
  },
  {
   "cell_type": "code",
   "execution_count": null,
   "id": "198f074e-15cb-4c67-83c5-73d2bb3b151b",
   "metadata": {},
   "outputs": [],
   "source": [
    "figure = plt.figure(figsize=(9, 4))\n",
    "axis = plt.gca()\n",
    "\n",
    "sns.histplot(reviews_google['polarity'], binwidth=0.05, alpha=0.9, color=palette[2])\n",
    "axis.set_xlabel(xlabel='Polarity', fontsize=15, labelpad=20)\n",
    "axis.set_ylabel(ylabel='Count', fontsize=15, labelpad=20)\n",
    "axis.set_title(label='Histogram of Sentiment Polarity', fontsize=20, pad=20)\n",
    "plt.xticks(fontsize=15)\n",
    "plt.yticks(fontsize=15)\n",
    "\n",
    "plt.show()"
   ]
  },
  {
   "cell_type": "markdown",
   "id": "7241b5a9-130b-4df4-880f-8c544eb69b7d",
   "metadata": {},
   "source": [
    "We see that an overwhelming majority of reviewshave a neutral sentiment polarity, which explains why they are the most liked!"
   ]
  },
  {
   "cell_type": "markdown",
   "id": "a3f530d6-269e-4c53-8664-e3e63b0963f3",
   "metadata": {},
   "source": [
    "Next, we will explore if a reviewer gives different reviews. We will consider users who have left more than 5 reviews. "
   ]
  },
  {
   "cell_type": "code",
   "execution_count": null,
   "id": "1ba4aade-e8a0-493b-a091-c35b91d5ef8c",
   "metadata": {},
   "outputs": [],
   "source": [
    "users = reviews_google.groupby(by=['user_name', 'score']).agg(num_reviews=('content', 'count'))\n",
    "users = users[users['num_reviews'] > 5]\n",
    "users.reset_index(inplace=True)\n",
    "\n",
    "# Remove anonymous names and unidentifable names\n",
    "users = users[users['user_name'] != 'A Google user']\n",
    "users['user_name'] = users['user_name'].str.replace(r'\\r\\n|\\r|;|-|--|\\.|\\s+|\"\"|', '');\n",
    "users['user_name'].replace('', np.nan, inplace=True)\n",
    "users.dropna(inplace=True)"
   ]
  },
  {
   "cell_type": "code",
   "execution_count": null,
   "id": "a09bdf92-0ad9-4f6b-b9ec-4ef73575addd",
   "metadata": {},
   "outputs": [],
   "source": [
    "users['full_score'] = users['score'] * users['num_reviews']\n",
    "\n",
    "users_grouped = users.groupby(by=['user_name']).agg(total_reviews=('num_reviews', 'sum'), \n",
    "                                                    total_full_score=('full_score', 'sum'))\n",
    "users_grouped.reset_index(inplace=True)"
   ]
  },
  {
   "cell_type": "code",
   "execution_count": null,
   "id": "64648e5b-d305-43a2-82b8-6dbe0b0e73c6",
   "metadata": {},
   "outputs": [],
   "source": [
    "users_grouped['average_score'] = users_grouped['total_full_score'] / users_grouped['total_reviews']"
   ]
  },
  {
   "cell_type": "code",
   "execution_count": null,
   "id": "1a2150b2-07fe-4d20-9c2c-be806c3ebd87",
   "metadata": {},
   "outputs": [],
   "source": [
    "figure = plt.figure(figsize=(9, 4))\n",
    "axis = plt.gca()\n",
    "\n",
    "sns.histplot(users_grouped['average_score'], binwidth=0.3, alpha=0.9, color=palette[2])\n",
    "axis.set_xlabel(xlabel='Rating', fontsize=15, labelpad=20)\n",
    "axis.set_ylabel(ylabel='Number of Users', fontsize=15, labelpad=20)\n",
    "axis.set_title(label='Histogram of the Average Rating a User Gives', fontsize=20, pad=20)\n",
    "plt.xticks(fontsize=15)\n",
    "plt.yticks(fontsize=15)\n",
    "\n",
    "plt.show()"
   ]
  },
  {
   "cell_type": "markdown",
   "id": "33765553-2033-4d64-9119-6631d02719a4",
   "metadata": {},
   "source": [
    "We can see that the average user rating is either very low or very high. There are more users who *solely* give positive ratings than users who *solely* give negative ones. Very few give a mixture of positive and negative ratings. \n",
    "\n",
    "We speculate that a user has more incentive to rate an application if it is either exemplary or deplorable. If it's somewhere in between, they may not have much to say and hence, refrain from reviewing. \n",
    "\n",
    "We acknowledge the limitation of this small sample size, however. It is not representative of the entire data set. Additionally, two users apparently are allowed to have the same user name!"
   ]
  }
 ],
 "metadata": {
  "kernelspec": {
   "display_name": "Python 3",
   "language": "python",
   "name": "python3"
  },
  "language_info": {
   "codemirror_mode": {
    "name": "ipython",
    "version": 3
   },
   "file_extension": ".py",
   "mimetype": "text/x-python",
   "name": "python",
   "nbconvert_exporter": "python",
   "pygments_lexer": "ipython3",
   "version": "3.8.8"
  }
 },
 "nbformat": 4,
 "nbformat_minor": 5
}
