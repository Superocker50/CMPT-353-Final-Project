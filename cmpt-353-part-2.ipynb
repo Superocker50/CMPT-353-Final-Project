{
 "cells": [
  {
   "cell_type": "markdown",
   "id": "f618a2fb-7a97-4da0-839c-6b7445e8fa5c",
   "metadata": {},
   "source": [
    "In our first notebook, we performed analyses on individual data sets (Google Play Store apps and Strategy Games)\n",
    "\n",
    "In this notebook, we will combine different datasets. We will explore the following questions: \n",
    "    \n",
    " - Performing sentiment analysis on user reviews, does there exist a relationship between 'positive' reviews and higher ratings? \n",
    "    - Statistically, do apps with 'positive' reviews have higher ratings than apps that do have 'negative' reviews? \n",
    " - If a game has been featured in a trending YouTube video, does that increase its rating or the number of user ratings? \n",
    " - Are there differences, in terms of rating and the number of user ratings, for each app depending on where it is published? (Google Play Store versus Apple App Store)"
   ]
  },
  {
   "cell_type": "code",
   "execution_count": 355,
   "id": "feecacab-8a0e-4e6d-8322-08c13dd2543b",
   "metadata": {},
   "outputs": [],
   "source": [
    "import pandas as pd \n",
    "import numpy as np \n",
    "import matplotlib.pyplot as plt\n",
    "import scipy.stats as stats\n",
    "import seaborn as sns\n",
    "import ipywidgets as widgets\n",
    "import re"
   ]
  },
  {
   "cell_type": "code",
   "execution_count": 356,
   "id": "fa51d198-582c-4fe7-92cd-572af1950b76",
   "metadata": {},
   "outputs": [
    {
     "name": "stdout",
     "output_type": "stream",
     "text": [
      "Requirement already satisfied: textblob in /Users/allanche/opt/anaconda3/lib/python3.8/site-packages (0.17.1)\n",
      "Requirement already satisfied: nltk>=3.1 in /Users/allanche/opt/anaconda3/lib/python3.8/site-packages (from textblob) (3.6.1)\n",
      "Requirement already satisfied: click in /Users/allanche/opt/anaconda3/lib/python3.8/site-packages (from nltk>=3.1->textblob) (7.1.2)\n",
      "Requirement already satisfied: tqdm in /Users/allanche/opt/anaconda3/lib/python3.8/site-packages (from nltk>=3.1->textblob) (4.59.0)\n",
      "Requirement already satisfied: joblib in /Users/allanche/opt/anaconda3/lib/python3.8/site-packages (from nltk>=3.1->textblob) (1.0.1)\n",
      "Requirement already satisfied: regex in /Users/allanche/opt/anaconda3/lib/python3.8/site-packages (from nltk>=3.1->textblob) (2021.4.4)\n",
      "[nltk_data] Downloading package brown to /Users/allanche/nltk_data...\n",
      "[nltk_data]   Package brown is already up-to-date!\n",
      "[nltk_data] Downloading package punkt to /Users/allanche/nltk_data...\n",
      "[nltk_data]   Package punkt is already up-to-date!\n",
      "[nltk_data] Downloading package wordnet to\n",
      "[nltk_data]     /Users/allanche/nltk_data...\n",
      "[nltk_data]   Package wordnet is already up-to-date!\n",
      "[nltk_data] Downloading package averaged_perceptron_tagger to\n",
      "[nltk_data]     /Users/allanche/nltk_data...\n",
      "[nltk_data]   Package averaged_perceptron_tagger is already up-to-\n",
      "[nltk_data]       date!\n",
      "[nltk_data] Downloading package conll2000 to\n",
      "[nltk_data]     /Users/allanche/nltk_data...\n",
      "[nltk_data]   Package conll2000 is already up-to-date!\n",
      "[nltk_data] Downloading package movie_reviews to\n",
      "[nltk_data]     /Users/allanche/nltk_data...\n",
      "[nltk_data]   Package movie_reviews is already up-to-date!\n",
      "Finished.\n"
     ]
    }
   ],
   "source": [
    "# From https://jakevdp.github.io/blog/2017/12/05/installing-python-packages-from-jupyter/\n",
    "import sys\n",
    "# !{sys.executable} -m pip install -U pip setuptools wheel\n",
    "# !{sys.executable} -m pip install -U spacy\n",
    "# !{sys.executable} -m spacy download en\n",
    "!{sys.executable} -m pip install -U textblob\n",
    "!{sys.executable} -m textblob.download_corpora"
   ]
  },
  {
   "cell_type": "code",
   "execution_count": 357,
   "id": "6e6caed3-6f45-43da-80d8-dc6b63b496c2",
   "metadata": {},
   "outputs": [],
   "source": [
    "from textblob import TextBlob"
   ]
  },
  {
   "cell_type": "code",
   "execution_count": 358,
   "id": "a63d7a78-bd39-4330-bb32-6a3ddc9ce720",
   "metadata": {},
   "outputs": [],
   "source": [
    "sns.set()"
   ]
  },
  {
   "cell_type": "code",
   "execution_count": 359,
   "id": "55d6154d-3f70-4bf0-a0f7-7c6940afe151",
   "metadata": {},
   "outputs": [],
   "source": [
    "apps = pd.read_csv('googleplaystore.csv')"
   ]
  },
  {
   "cell_type": "code",
   "execution_count": 360,
   "id": "ba1a5d0b-5320-4d7d-b1e8-ec243bab55cc",
   "metadata": {},
   "outputs": [],
   "source": [
    "app_reviews = pd.read_csv('googleplaystore_user_reviews.csv')"
   ]
  },
  {
   "cell_type": "markdown",
   "id": "bee43cb3-fb68-46ce-95c5-5978d67370de",
   "metadata": {},
   "source": [
    "There seems to be previous sentiment values calculated already. We will calculate our own values with TextBlob. "
   ]
  },
  {
   "cell_type": "code",
   "execution_count": 361,
   "id": "9a3a01b0-76d4-4a90-95c8-3e6d115a41d3",
   "metadata": {},
   "outputs": [],
   "source": [
    "app_reviews = app_reviews[['App', 'Translated_Review']]\n",
    "app_reviews['Translated_Review'] = app_reviews['Translated_Review'].astype(str)"
   ]
  },
  {
   "cell_type": "code",
   "execution_count": 362,
   "id": "2402bd20-688b-4cea-b524-6574ca6d2251",
   "metadata": {},
   "outputs": [
    {
     "data": {
      "text/html": [
       "<div>\n",
       "<style scoped>\n",
       "    .dataframe tbody tr th:only-of-type {\n",
       "        vertical-align: middle;\n",
       "    }\n",
       "\n",
       "    .dataframe tbody tr th {\n",
       "        vertical-align: top;\n",
       "    }\n",
       "\n",
       "    .dataframe thead th {\n",
       "        text-align: right;\n",
       "    }\n",
       "</style>\n",
       "<table border=\"1\" class=\"dataframe\">\n",
       "  <thead>\n",
       "    <tr style=\"text-align: right;\">\n",
       "      <th></th>\n",
       "      <th>App</th>\n",
       "      <th>Translated_Review</th>\n",
       "    </tr>\n",
       "  </thead>\n",
       "  <tbody>\n",
       "    <tr>\n",
       "      <th>0</th>\n",
       "      <td>10 Best Foods for You</td>\n",
       "      <td>I like eat delicious food. That's I'm cooking ...</td>\n",
       "    </tr>\n",
       "    <tr>\n",
       "      <th>1</th>\n",
       "      <td>10 Best Foods for You</td>\n",
       "      <td>This help eating healthy exercise regular basis</td>\n",
       "    </tr>\n",
       "    <tr>\n",
       "      <th>3</th>\n",
       "      <td>10 Best Foods for You</td>\n",
       "      <td>Works great especially going grocery store</td>\n",
       "    </tr>\n",
       "    <tr>\n",
       "      <th>4</th>\n",
       "      <td>10 Best Foods for You</td>\n",
       "      <td>Best idea us</td>\n",
       "    </tr>\n",
       "    <tr>\n",
       "      <th>5</th>\n",
       "      <td>10 Best Foods for You</td>\n",
       "      <td>Best way</td>\n",
       "    </tr>\n",
       "  </tbody>\n",
       "</table>\n",
       "</div>"
      ],
      "text/plain": [
       "                     App                                  Translated_Review\n",
       "0  10 Best Foods for You  I like eat delicious food. That's I'm cooking ...\n",
       "1  10 Best Foods for You    This help eating healthy exercise regular basis\n",
       "3  10 Best Foods for You         Works great especially going grocery store\n",
       "4  10 Best Foods for You                                       Best idea us\n",
       "5  10 Best Foods for You                                           Best way"
      ]
     },
     "execution_count": 362,
     "metadata": {},
     "output_type": "execute_result"
    }
   ],
   "source": [
    "# Drop rows that have a nan review\n",
    "app_reviews = app_reviews[app_reviews['Translated_Review'] != 'nan']\n",
    "app_reviews.head()"
   ]
  },
  {
   "cell_type": "code",
   "execution_count": 363,
   "id": "e0cb4504-2595-4b11-b2c9-b89d849964d4",
   "metadata": {},
   "outputs": [],
   "source": [
    "def extract_sentiment(review): \n",
    "    textblob = TextBlob(review)\n",
    "    sentiment = textblob.sentiment\n",
    "    polarity = sentiment.polarity\n",
    "    return polarity"
   ]
  },
  {
   "cell_type": "code",
   "execution_count": 364,
   "id": "e5e6a1e4-aff7-4193-ab06-1599c0599c6b",
   "metadata": {},
   "outputs": [],
   "source": [
    "app_reviews['Polarity'] = app_reviews['Translated_Review'].apply(lambda x: extract_sentiment(x))"
   ]
  },
  {
   "cell_type": "code",
   "execution_count": 365,
   "id": "bd2aff8e-0234-4e21-b5b2-bd3107ef594f",
   "metadata": {},
   "outputs": [],
   "source": [
    "# Find the average polarity for each app \n",
    "avg_app_polarity = app_reviews.groupby(by=['App']).mean('Polarity')"
   ]
  },
  {
   "cell_type": "code",
   "execution_count": 366,
   "id": "2535c441-9cbf-4603-baaa-bf734b1b3a29",
   "metadata": {},
   "outputs": [],
   "source": [
    "# Combine this with the apps dataframe\n",
    "apps.drop_duplicates(subset=['App'], inplace=True)\n",
    "apps = apps.merge(avg_app_polarity, on='App', how='inner')"
   ]
  },
  {
   "cell_type": "code",
   "execution_count": 367,
   "id": "6d7822f0-af10-4952-91ad-4e0a6166a692",
   "metadata": {},
   "outputs": [],
   "source": [
    "# From https://stackoverflow.com/questions/19913659/pandas-conditional-creation-of-a-series-dataframe-column\n",
    "# Categorize polarity values into sentiments\n",
    "conditions = [\n",
    "    apps['Polarity'] > 0,\n",
    "    apps['Polarity'] < 0,\n",
    "    apps['Polarity'] == 0\n",
    "]\n",
    "\n",
    "sentiments = ['positive', 'negative', 'neutral']\n",
    "apps['Sentiment'] = np.select(conditions, sentiments, default='neutral')"
   ]
  },
  {
   "cell_type": "markdown",
   "id": "78daee40-ee1f-4f5d-b2c7-570f549f1909",
   "metadata": {},
   "source": [
    "Let's visualize a distribution of app popularity."
   ]
  },
  {
   "cell_type": "code",
   "execution_count": 368,
   "id": "c03146cc-6409-4706-8b71-271870f61f66",
   "metadata": {},
   "outputs": [
    {
     "data": {
      "image/png": "[encoded data removed]",
      "text/plain": [
       "<Figure size 864x432 with 1 Axes>"
      ]
     },
     "metadata": {},
     "output_type": "display_data"
    }
   ],
   "source": [
    "figure = plt.figure(figsize=(12, 6))\n",
    "sns.histplot(apps['Polarity'])\n",
    "plt.xlabel('Sentiment Polarity', fontsize=15, labelpad=20)\n",
    "plt.ylabel('Count', fontsize=15, labelpad=20)\n",
    "plt.title('Histogram of Mean Sentiment Polarity for Apps', fontsize=20, pad=20)\n",
    "plt.show()"
   ]
  },
  {
   "cell_type": "markdown",
   "id": "c2c5fe35-292a-4969-846a-48672d6295db",
   "metadata": {},
   "source": [
    "It appears that almost all apps have a positive average sentiment polarity. Not many have an average sentiment polarity below zero. \n",
    "\n",
    "Next, let's visualize a histogram of app ratings. "
   ]
  },
  {
   "cell_type": "code",
   "execution_count": 369,
   "id": "a4a621e7-1731-44b9-9c85-aa5c7c6740f0",
   "metadata": {},
   "outputs": [
    {
     "data": {
      "image/png": "[encoded data removed]",
      "text/plain": [
       "<Figure size 864x432 with 1 Axes>"
      ]
     },
     "metadata": {},
     "output_type": "display_data"
    }
   ],
   "source": [
    "figure = plt.figure(figsize=(12, 6))\n",
    "axis = plt.gca()\n",
    "sns.histplot(apps['Rating'])\n",
    "plt.xlabel('Rating', fontsize=15, labelpad=20)\n",
    "plt.ylabel('Count', fontsize=15, labelpad=20)\n",
    "plt.title('Histogram of App Ratings', fontsize=20, pad=20)\n",
    "plt.show()"
   ]
  },
  {
   "cell_type": "markdown",
   "id": "b082ea6c-1270-43ab-912c-06c8eae664ac",
   "metadata": {},
   "source": [
    "So it adds up. It seems like the majority of apps are highly rated, which seems to go hand in hand with high positive sentiment polarities. "
   ]
  },
  {
   "cell_type": "markdown",
   "id": "466304a8-44b7-4eb5-9227-ec9642e0d3ba",
   "metadata": {},
   "source": [
    "Let's test to see if apps that generally have positive sentiment polarity reviews have different ratings than apps that generally have negative sentiment polarity reviews. "
   ]
  },
  {
   "cell_type": "code",
   "execution_count": 370,
   "id": "e098b5e3-725c-4526-8595-35f563a749a7",
   "metadata": {},
   "outputs": [],
   "source": [
    "positive_reviews = apps[apps['Sentiment'] == 'positive']\n",
    "negative_reviews = apps[apps['Sentiment'] == 'negative']"
   ]
  },
  {
   "cell_type": "markdown",
   "id": "cd0bec6e-0c75-4051-badd-9f0bbaca166e",
   "metadata": {},
   "source": [
    "Perform a Mann-Whitney U rank test on the rating of apps between the two groups. \n",
    "\n",
    "Null Hypothesis: Positive and negative sentiment polarities' underlying distributions are the same. \n",
    "    \n",
    "Alternative Hypothesis: Positive and negative sentiment polarities' underlying distributions are not the same. The ratings for each group are different. "
   ]
  },
  {
   "cell_type": "code",
   "execution_count": 371,
   "id": "f6b2ade4-ae75-442f-bcb8-0935facccffc",
   "metadata": {},
   "outputs": [
    {
     "data": {
      "text/plain": [
       "3.96547235695702e-09"
      ]
     },
     "execution_count": 371,
     "metadata": {},
     "output_type": "execute_result"
    }
   ],
   "source": [
    "stats.mannwhitneyu(positive_reviews['Rating'], negative_reviews['Rating']).pvalue"
   ]
  },
  {
   "cell_type": "markdown",
   "id": "206aaf30-95eb-400f-93da-af20fa62ad61",
   "metadata": {},
   "source": [
    "With a pvalue of 3.96547235695702e-09, we strongly reject the null hypothesis and conclude that the app ratings are not the same for positive and negative sentiment polarities. "
   ]
  },
  {
   "cell_type": "markdown",
   "id": "af88da36-000b-4e02-b853-b3e93b5bc352",
   "metadata": {},
   "source": [
    "Let's compute a correlation coefficient between sentiment polarity and app rating"
   ]
  },
  {
   "cell_type": "code",
   "execution_count": 372,
   "id": "16f4a516-4787-4e1b-8036-c46894f9166a",
   "metadata": {},
   "outputs": [
    {
     "data": {
      "text/plain": [
       "(0.26405321132736725, 1.7496906302583513e-14)"
      ]
     },
     "execution_count": 372,
     "metadata": {},
     "output_type": "execute_result"
    }
   ],
   "source": [
    "# apps['log_polarity'] = np.log(apps['Polarity'])\n",
    "# apps['log_rating'] = np.log(apps['Rating'])\n",
    "# apps = apps[~apps['log_polarity'].isin([np.nan, 0])]\n",
    "# apps = apps[~apps['log_rating'].isin([np.nan, 0])]\n",
    "# stats.pearsonr(apps['log_polarity'], apps['log_rating'])\n",
    "\n",
    "stats.pearsonr(apps['Polarity'], apps['Rating'])"
   ]
  },
  {
   "cell_type": "markdown",
   "id": "5b74f01b-c4db-44a8-b43a-21c657d51869",
   "metadata": {},
   "source": [
    "With r = 0.265, they seem to be slightly linearly associated, although not by much. The tiny pvalue allows us to conclude that with 95% confidence, this is true correlation coefficient. \n",
    "\n",
    "Why is r so tiny? Let's analyze the scatter plot."
   ]
  },
  {
   "cell_type": "code",
   "execution_count": 373,
   "id": "63266199-8835-41f9-8601-1a2acc17e05c",
   "metadata": {},
   "outputs": [
    {
     "data": {
      "text/plain": [
       "<matplotlib.collections.PathCollection at 0x7faa0665fcd0>"
      ]
     },
     "execution_count": 373,
     "metadata": {},
     "output_type": "execute_result"
    },
    {
     "data": {
      "image/png": "[encoded data removed]",
      "text/plain": [
       "<Figure size 432x288 with 1 Axes>"
      ]
     },
     "metadata": {},
     "output_type": "display_data"
    }
   ],
   "source": [
    "plt.scatter(apps['Polarity'], apps['Rating'])"
   ]
  },
  {
   "cell_type": "markdown",
   "id": "c32ef48d-756b-47ed-9c4c-9bdd1376a88f",
   "metadata": {},
   "source": [
    "Not many apps have a mean negative sentiment polarity. \n"
   ]
  },
  {
   "cell_type": "markdown",
   "id": "18b6f7ef-c761-4ff1-81c3-2bea3140dcd8",
   "metadata": {},
   "source": [
    "For some reason, the two apps with the lowest sentiment polarity have a rating of above 4. Let's explore why. "
   ]
  },
  {
   "cell_type": "code",
   "execution_count": 392,
   "id": "1a7d2d58-300b-4b00-a196-4e042573958a",
   "metadata": {},
   "outputs": [],
   "source": [
    "lowest_polarity_app = apps.iloc[[apps['Polarity'].idxmin()]]\n",
    "\n",
    "#From https://stackoverflow.com/questions/62219868/how-to-find-the-index-of-the-second-minimum-in-pandas-dataframe\n",
    "second_lowest_polarity_app = apps.iloc[[apps['Polarity'].nsmallest(2).index[1]]]\n",
    "\n",
    "app_reviews_lowest_polarity_app = app_reviews.merge(lowest_polarity_app, on='App', how='right')\n",
    "app_reviews_second_lowest_polarity_app = app_reviews.merge(second_lowest_polarity_app, on='App', how='right')"
   ]
  },
  {
   "cell_type": "code",
   "execution_count": 405,
   "id": "daa2769e-4c2b-4e9b-83f2-93b1122624ed",
   "metadata": {},
   "outputs": [
    {
     "data": {
      "text/html": [
       "<div>\n",
       "<style scoped>\n",
       "    .dataframe tbody tr th:only-of-type {\n",
       "        vertical-align: middle;\n",
       "    }\n",
       "\n",
       "    .dataframe tbody tr th {\n",
       "        vertical-align: top;\n",
       "    }\n",
       "\n",
       "    .dataframe thead th {\n",
       "        text-align: right;\n",
       "    }\n",
       "</style>\n",
       "<table border=\"1\" class=\"dataframe\">\n",
       "  <thead>\n",
       "    <tr style=\"text-align: right;\">\n",
       "      <th></th>\n",
       "      <th>Translated_Review</th>\n",
       "    </tr>\n",
       "  </thead>\n",
       "  <tbody>\n",
       "    <tr>\n",
       "      <th>0</th>\n",
       "      <td>From I read update, nothing value improvement app, added features functionality tuan selected group people. My point Google bloating useless features. It like giving person permission go movie, informing allowed watch it.</td>\n",
       "    </tr>\n",
       "    <tr>\n",
       "      <th>1</th>\n",
       "      <td>Please keep updating the picture, because my house is in 2015. My cellphone is bad so the picture quality is bad. Makasi</td>\n",
       "    </tr>\n",
       "    <tr>\n",
       "      <th>2</th>\n",
       "      <td>I hate</td>\n",
       "    </tr>\n",
       "    <tr>\n",
       "      <th>3</th>\n",
       "      <td>Can guys make possible places offline?</td>\n",
       "    </tr>\n",
       "  </tbody>\n",
       "</table>\n",
       "</div>"
      ],
      "text/plain": [
       "                                                                                                                                                                                                               Translated_Review\n",
       "0  From I read update, nothing value improvement app, added features functionality tuan selected group people. My point Google bloating useless features. It like giving person permission go movie, informing allowed watch it.\n",
       "1                                                                                                       Please keep updating the picture, because my house is in 2015. My cellphone is bad so the picture quality is bad. Makasi\n",
       "2                                                                                                                                                                                                                         I hate\n",
       "3                                                                                                                                                                                         Can guys make possible places offline?"
      ]
     },
     "execution_count": 405,
     "metadata": {},
     "output_type": "execute_result"
    }
   ],
   "source": [
    "# https://stackoverflow.com/questions/39680147/can-i-set-variable-column-widths-in-pandas\n",
    "pd.set_option('max_colwidth', 400)\n",
    "app_reviews_lowest_polarity_app[['Translated_Review']]"
   ]
  },
  {
   "cell_type": "code",
   "execution_count": 399,
   "id": "31d02450-d6d1-4759-9bf3-c95fedddd5e8",
   "metadata": {},
   "outputs": [
    {
     "data": {
      "text/html": [
       "<div>\n",
       "<style scoped>\n",
       "    .dataframe tbody tr th:only-of-type {\n",
       "        vertical-align: middle;\n",
       "    }\n",
       "\n",
       "    .dataframe tbody tr th {\n",
       "        vertical-align: top;\n",
       "    }\n",
       "\n",
       "    .dataframe thead th {\n",
       "        text-align: right;\n",
       "    }\n",
       "</style>\n",
       "<table border=\"1\" class=\"dataframe\">\n",
       "  <thead>\n",
       "    <tr style=\"text-align: right;\">\n",
       "      <th></th>\n",
       "      <th>App</th>\n",
       "      <th>Translated_Review</th>\n",
       "      <th>Polarity</th>\n",
       "    </tr>\n",
       "  </thead>\n",
       "  <tbody>\n",
       "    <tr>\n",
       "      <th>43381</th>\n",
       "      <td>Fake Call - Fake Caller ID</td>\n",
       "      <td>Worst it. Weast time. I'm getting tension.</td>\n",
       "      <td>-1.0</td>\n",
       "    </tr>\n",
       "    <tr>\n",
       "      <th>45608</th>\n",
       "      <td>FilterGrid - Cam&amp;Photo Editor</td>\n",
       "      <td>I HATE THAT IT KEEPS SAYING TO RATE THEN! ITS ...</td>\n",
       "      <td>-1.0</td>\n",
       "    </tr>\n",
       "    <tr>\n",
       "      <th>5410</th>\n",
       "      <td>AliExpress - Smarter Shopping, Better Living</td>\n",
       "      <td>Horrible service, horrible quality products on...</td>\n",
       "      <td>-1.0</td>\n",
       "    </tr>\n",
       "    <tr>\n",
       "      <th>49867</th>\n",
       "      <td>Freeletics: Personal Trainer &amp; Fitness Workouts</td>\n",
       "      <td>Worst appp I seen till</td>\n",
       "      <td>-1.0</td>\n",
       "    </tr>\n",
       "    <tr>\n",
       "      <th>35209</th>\n",
       "      <td>Doctor Pets</td>\n",
       "      <td>awful</td>\n",
       "      <td>-1.0</td>\n",
       "    </tr>\n",
       "    <tr>\n",
       "      <th>...</th>\n",
       "      <td>...</td>\n",
       "      <td>...</td>\n",
       "      <td>...</td>\n",
       "    </tr>\n",
       "    <tr>\n",
       "      <th>41328</th>\n",
       "      <td>ExDialer - Dialer &amp; Contacts</td>\n",
       "      <td>Best dialer I've found seems take things hands...</td>\n",
       "      <td>1.0</td>\n",
       "    </tr>\n",
       "    <tr>\n",
       "      <th>41310</th>\n",
       "      <td>ExDialer - Dialer &amp; Contacts</td>\n",
       "      <td>THE BEST NON STOCK ANDROID DIALER INDEED. ***H...</td>\n",
       "      <td>1.0</td>\n",
       "    </tr>\n",
       "    <tr>\n",
       "      <th>41276</th>\n",
       "      <td>Evie Launcher</td>\n",
       "      <td>Best launcher around, doubt it.</td>\n",
       "      <td>1.0</td>\n",
       "    </tr>\n",
       "    <tr>\n",
       "      <th>41935</th>\n",
       "      <td>EyeEm - Camera &amp; Photo Filter</td>\n",
       "      <td>Awesome platform get photography seen photogra...</td>\n",
       "      <td>1.0</td>\n",
       "    </tr>\n",
       "    <tr>\n",
       "      <th>31685</th>\n",
       "      <td>DC Super Hero Girls™</td>\n",
       "      <td>Excellent</td>\n",
       "      <td>1.0</td>\n",
       "    </tr>\n",
       "  </tbody>\n",
       "</table>\n",
       "<p>37427 rows × 3 columns</p>\n",
       "</div>"
      ],
      "text/plain": [
       "                                                   App                                  Translated_Review  Polarity\n",
       "43381                       Fake Call - Fake Caller ID         Worst it. Weast time. I'm getting tension.      -1.0\n",
       "45608                    FilterGrid - Cam&Photo Editor  I HATE THAT IT KEEPS SAYING TO RATE THEN! ITS ...      -1.0\n",
       "5410      AliExpress - Smarter Shopping, Better Living  Horrible service, horrible quality products on...      -1.0\n",
       "49867  Freeletics: Personal Trainer & Fitness Workouts                             Worst appp I seen till      -1.0\n",
       "35209                                      Doctor Pets                                              awful      -1.0\n",
       "...                                                ...                                                ...       ...\n",
       "41328                     ExDialer - Dialer & Contacts  Best dialer I've found seems take things hands...       1.0\n",
       "41310                     ExDialer - Dialer & Contacts  THE BEST NON STOCK ANDROID DIALER INDEED. ***H...       1.0\n",
       "41276                                    Evie Launcher                    Best launcher around, doubt it.       1.0\n",
       "41935                    EyeEm - Camera & Photo Filter  Awesome platform get photography seen photogra...       1.0\n",
       "31685                             DC Super Hero Girls™                                          Excellent       1.0\n",
       "\n",
       "[37427 rows x 3 columns]"
      ]
     },
     "execution_count": 399,
     "metadata": {},
     "output_type": "execute_result"
    }
   ],
   "source": [
    "\n",
    "app_reviews.sort_values(by=['Polarity'], inplace=True)\n",
    "app_reviews"
   ]
  },
  {
   "cell_type": "markdown",
   "id": "c0ff466e-c2a6-4a6f-ac48-b20fe06b0665",
   "metadata": {},
   "source": []
  },
  {
   "cell_type": "code",
   "execution_count": null,
   "id": "00bb07a5-10f8-4817-9120-99d2c4afa98b",
   "metadata": {},
   "outputs": [],
   "source": []
  }
 ],
 "metadata": {
  "kernelspec": {
   "display_name": "Python 3",
   "language": "python",
   "name": "python3"
  },
  "language_info": {
   "codemirror_mode": {
    "name": "ipython",
    "version": 3
   },
   "file_extension": ".py",
   "mimetype": "text/x-python",
   "name": "python",
   "nbconvert_exporter": "python",
   "pygments_lexer": "ipython3",
   "version": "3.8.8"
  }
 },
 "nbformat": 4,
 "nbformat_minor": 5
}
