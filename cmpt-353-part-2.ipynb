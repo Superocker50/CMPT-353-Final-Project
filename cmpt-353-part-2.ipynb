{
 "cells": [
  {
   "cell_type": "markdown",
   "id": "f618a2fb-7a97-4da0-839c-6b7445e8fa5c",
   "metadata": {},
   "source": [
    "In our first notebook, we performed analyses on individual data sets (Google Play Store apps and Strategy Games)\n",
    "\n",
    "In this notebook, we will combine different datasets. We will explore the following questions: \n",
    "    \n",
    " - Performing sentiment analysis on user reviews, does there exist a relationship between 'positive' reviews and higher ratings? \n",
    "    - Statistically, do apps with 'positive' reviews have higher ratings than apps that do have 'negative' reviews? \n",
    " - If a game has been featured in a trending YouTube video, does that increase its rating or the number of user ratings? \n",
    " - Are there differences, in terms of rating and the number of user ratings, for each app depending on where it is published? (Google Play Store versus Apple App Store)"
   ]
  },
  {
   "cell_type": "code",
   "execution_count": 87,
   "id": "feecacab-8a0e-4e6d-8322-08c13dd2543b",
   "metadata": {},
   "outputs": [],
   "source": [
    "import pandas as pd \n",
    "import numpy as np \n",
    "import matplotlib.pyplot as plt\n",
    "import scipy.stats as stats\n",
    "import seaborn as sns\n",
    "import ipywidgets as widgets\n",
    "import re\n",
    "import difflib"
   ]
  },
  {
   "cell_type": "code",
   "execution_count": 88,
   "id": "faff3f1b-b01a-4c19-9a41-668d21f89faf",
   "metadata": {},
   "outputs": [],
   "source": [
    "sns.set()"
   ]
  },
  {
   "cell_type": "code",
   "execution_count": 356,
   "id": "fa51d198-582c-4fe7-92cd-572af1950b76",
   "metadata": {},
   "outputs": [
    {
     "name": "stdout",
     "output_type": "stream",
     "text": [
      "Requirement already satisfied: textblob in /Users/allanche/opt/anaconda3/lib/python3.8/site-packages (0.17.1)\n",
      "Requirement already satisfied: nltk>=3.1 in /Users/allanche/opt/anaconda3/lib/python3.8/site-packages (from textblob) (3.6.1)\n",
      "Requirement already satisfied: click in /Users/allanche/opt/anaconda3/lib/python3.8/site-packages (from nltk>=3.1->textblob) (7.1.2)\n",
      "Requirement already satisfied: tqdm in /Users/allanche/opt/anaconda3/lib/python3.8/site-packages (from nltk>=3.1->textblob) (4.59.0)\n",
      "Requirement already satisfied: joblib in /Users/allanche/opt/anaconda3/lib/python3.8/site-packages (from nltk>=3.1->textblob) (1.0.1)\n",
      "Requirement already satisfied: regex in /Users/allanche/opt/anaconda3/lib/python3.8/site-packages (from nltk>=3.1->textblob) (2021.4.4)\n",
      "[nltk_data] Downloading package brown to /Users/allanche/nltk_data...\n",
      "[nltk_data]   Package brown is already up-to-date!\n",
      "[nltk_data] Downloading package punkt to /Users/allanche/nltk_data...\n",
      "[nltk_data]   Package punkt is already up-to-date!\n",
      "[nltk_data] Downloading package wordnet to\n",
      "[nltk_data]     /Users/allanche/nltk_data...\n",
      "[nltk_data]   Package wordnet is already up-to-date!\n",
      "[nltk_data] Downloading package averaged_perceptron_tagger to\n",
      "[nltk_data]     /Users/allanche/nltk_data...\n",
      "[nltk_data]   Package averaged_perceptron_tagger is already up-to-\n",
      "[nltk_data]       date!\n",
      "[nltk_data] Downloading package conll2000 to\n",
      "[nltk_data]     /Users/allanche/nltk_data...\n",
      "[nltk_data]   Package conll2000 is already up-to-date!\n",
      "[nltk_data] Downloading package movie_reviews to\n",
      "[nltk_data]     /Users/allanche/nltk_data...\n",
      "[nltk_data]   Package movie_reviews is already up-to-date!\n",
      "Finished.\n"
     ]
    }
   ],
   "source": [
    "# From https://jakevdp.github.io/blog/2017/12/05/installing-python-packages-from-jupyter/\n",
    "import sys\n",
    "# !{sys.executable} -m pip install -U pip setuptools wheel\n",
    "# !{sys.executable} -m pip install -U spacy\n",
    "# !{sys.executable} -m spacy download en\n",
    "!{sys.executable} -m pip install -U textblob\n",
    "!{sys.executable} -m textblob.download_corpora"
   ]
  },
  {
   "cell_type": "code",
   "execution_count": 357,
   "id": "6e6caed3-6f45-43da-80d8-dc6b63b496c2",
   "metadata": {},
   "outputs": [],
   "source": [
    "from textblob import TextBlob"
   ]
  },
  {
   "cell_type": "code",
   "execution_count": 358,
   "id": "a63d7a78-bd39-4330-bb32-6a3ddc9ce720",
   "metadata": {},
   "outputs": [],
   "source": [
    "sns.set()"
   ]
  },
  {
   "cell_type": "code",
   "execution_count": 359,
   "id": "55d6154d-3f70-4bf0-a0f7-7c6940afe151",
   "metadata": {},
   "outputs": [],
   "source": [
    "apps = pd.read_csv('googleplaystore.csv')"
   ]
  },
  {
   "cell_type": "code",
   "execution_count": 360,
   "id": "ba1a5d0b-5320-4d7d-b1e8-ec243bab55cc",
   "metadata": {},
   "outputs": [],
   "source": [
    "app_reviews = pd.read_csv('googleplaystore_user_reviews.csv')"
   ]
  },
  {
   "cell_type": "markdown",
   "id": "bee43cb3-fb68-46ce-95c5-5978d67370de",
   "metadata": {},
   "source": [
    "There seems to be previous sentiment values calculated already. We will calculate our own values with TextBlob. "
   ]
  },
  {
   "cell_type": "code",
   "execution_count": 361,
   "id": "9a3a01b0-76d4-4a90-95c8-3e6d115a41d3",
   "metadata": {},
   "outputs": [],
   "source": [
    "app_reviews = app_reviews[['App', 'Translated_Review']]\n",
    "app_reviews['Translated_Review'] = app_reviews['Translated_Review'].astype(str)"
   ]
  },
  {
   "cell_type": "code",
   "execution_count": 362,
   "id": "2402bd20-688b-4cea-b524-6574ca6d2251",
   "metadata": {},
   "outputs": [
    {
     "data": {
      "text/html": [
       "<div>\n",
       "<style scoped>\n",
       "    .dataframe tbody tr th:only-of-type {\n",
       "        vertical-align: middle;\n",
       "    }\n",
       "\n",
       "    .dataframe tbody tr th {\n",
       "        vertical-align: top;\n",
       "    }\n",
       "\n",
       "    .dataframe thead th {\n",
       "        text-align: right;\n",
       "    }\n",
       "</style>\n",
       "<table border=\"1\" class=\"dataframe\">\n",
       "  <thead>\n",
       "    <tr style=\"text-align: right;\">\n",
       "      <th></th>\n",
       "      <th>App</th>\n",
       "      <th>Translated_Review</th>\n",
       "    </tr>\n",
       "  </thead>\n",
       "  <tbody>\n",
       "    <tr>\n",
       "      <th>0</th>\n",
       "      <td>10 Best Foods for You</td>\n",
       "      <td>I like eat delicious food. That's I'm cooking ...</td>\n",
       "    </tr>\n",
       "    <tr>\n",
       "      <th>1</th>\n",
       "      <td>10 Best Foods for You</td>\n",
       "      <td>This help eating healthy exercise regular basis</td>\n",
       "    </tr>\n",
       "    <tr>\n",
       "      <th>3</th>\n",
       "      <td>10 Best Foods for You</td>\n",
       "      <td>Works great especially going grocery store</td>\n",
       "    </tr>\n",
       "    <tr>\n",
       "      <th>4</th>\n",
       "      <td>10 Best Foods for You</td>\n",
       "      <td>Best idea us</td>\n",
       "    </tr>\n",
       "    <tr>\n",
       "      <th>5</th>\n",
       "      <td>10 Best Foods for You</td>\n",
       "      <td>Best way</td>\n",
       "    </tr>\n",
       "  </tbody>\n",
       "</table>\n",
       "</div>"
      ],
      "text/plain": [
       "                     App                                  Translated_Review\n",
       "0  10 Best Foods for You  I like eat delicious food. That's I'm cooking ...\n",
       "1  10 Best Foods for You    This help eating healthy exercise regular basis\n",
       "3  10 Best Foods for You         Works great especially going grocery store\n",
       "4  10 Best Foods for You                                       Best idea us\n",
       "5  10 Best Foods for You                                           Best way"
      ]
     },
     "execution_count": 362,
     "metadata": {},
     "output_type": "execute_result"
    }
   ],
   "source": [
    "# Drop rows that have a nan review\n",
    "app_reviews = app_reviews[app_reviews['Translated_Review'] != 'nan']\n",
    "app_reviews.head()"
   ]
  },
  {
   "cell_type": "code",
   "execution_count": 363,
   "id": "e0cb4504-2595-4b11-b2c9-b89d849964d4",
   "metadata": {},
   "outputs": [],
   "source": [
    "def extract_sentiment(review): \n",
    "    textblob = TextBlob(review)\n",
    "    sentiment = textblob.sentiment\n",
    "    polarity = sentiment.polarity\n",
    "    return polarity"
   ]
  },
  {
   "cell_type": "code",
   "execution_count": 364,
   "id": "e5e6a1e4-aff7-4193-ab06-1599c0599c6b",
   "metadata": {},
   "outputs": [],
   "source": [
    "app_reviews['Polarity'] = app_reviews['Translated_Review'].apply(lambda x: extract_sentiment(x))"
   ]
  },
  {
   "cell_type": "code",
   "execution_count": 365,
   "id": "bd2aff8e-0234-4e21-b5b2-bd3107ef594f",
   "metadata": {},
   "outputs": [],
   "source": [
    "# Find the average polarity for each app \n",
    "avg_app_polarity = app_reviews.groupby(by=['App']).mean('Polarity')"
   ]
  },
  {
   "cell_type": "code",
   "execution_count": 366,
   "id": "2535c441-9cbf-4603-baaa-bf734b1b3a29",
   "metadata": {},
   "outputs": [],
   "source": [
    "# Combine this with the apps dataframe\n",
    "apps.drop_duplicates(subset=['App'], inplace=True)\n",
    "apps = apps.merge(avg_app_polarity, on='App', how='inner')"
   ]
  },
  {
   "cell_type": "code",
   "execution_count": 367,
   "id": "6d7822f0-af10-4952-91ad-4e0a6166a692",
   "metadata": {},
   "outputs": [],
   "source": [
    "# From https://stackoverflow.com/questions/19913659/pandas-conditional-creation-of-a-series-dataframe-column\n",
    "# Categorize polarity values into sentiments\n",
    "conditions = [\n",
    "    apps['Polarity'] > 0,\n",
    "    apps['Polarity'] < 0,\n",
    "    apps['Polarity'] == 0\n",
    "]\n",
    "\n",
    "sentiments = ['positive', 'negative', 'neutral']\n",
    "apps['Sentiment'] = np.select(conditions, sentiments, default='neutral')"
   ]
  },
  {
   "cell_type": "markdown",
   "id": "78daee40-ee1f-4f5d-b2c7-570f549f1909",
   "metadata": {},
   "source": [
    "Let's visualize a distribution of app popularity."
   ]
  },
  {
   "cell_type": "code",
   "execution_count": 368,
   "id": "c03146cc-6409-4706-8b71-271870f61f66",
   "metadata": {},
   "outputs": [
    {
     "data": {
      "image/png": "[encoded data removed]",
      "text/plain": [
       "<Figure size 864x432 with 1 Axes>"
      ]
     },
     "metadata": {},
     "output_type": "display_data"
    }
   ],
   "source": [
    "figure = plt.figure(figsize=(12, 6))\n",
    "sns.histplot(apps['Polarity'])\n",
    "plt.xlabel('Sentiment Polarity', fontsize=15, labelpad=20)\n",
    "plt.ylabel('Count', fontsize=15, labelpad=20)\n",
    "plt.title('Histogram of Mean Sentiment Polarity for Apps', fontsize=20, pad=20)\n",
    "plt.show()"
   ]
  },
  {
   "cell_type": "markdown",
   "id": "c2c5fe35-292a-4969-846a-48672d6295db",
   "metadata": {},
   "source": [
    "It appears that almost all apps have a positive average sentiment polarity. Not many have an average sentiment polarity below zero. \n",
    "\n",
    "Next, let's visualize a histogram of app ratings. "
   ]
  },
  {
   "cell_type": "code",
   "execution_count": 369,
   "id": "a4a621e7-1731-44b9-9c85-aa5c7c6740f0",
   "metadata": {},
   "outputs": [
    {
     "data": {
      "image/png": "[encoded data removed]",
      "text/plain": [
       "<Figure size 864x432 with 1 Axes>"
      ]
     },
     "metadata": {},
     "output_type": "display_data"
    }
   ],
   "source": [
    "figure = plt.figure(figsize=(12, 6))\n",
    "axis = plt.gca()\n",
    "sns.histplot(apps['Rating'])\n",
    "plt.xlabel('Rating', fontsize=15, labelpad=20)\n",
    "plt.ylabel('Count', fontsize=15, labelpad=20)\n",
    "plt.title('Histogram of App Ratings', fontsize=20, pad=20)\n",
    "plt.show()"
   ]
  },
  {
   "cell_type": "markdown",
   "id": "b082ea6c-1270-43ab-912c-06c8eae664ac",
   "metadata": {},
   "source": [
    "So it adds up. It seems like the majority of apps are highly rated, which seems to go hand in hand with high positive sentiment polarities. "
   ]
  },
  {
   "cell_type": "markdown",
   "id": "466304a8-44b7-4eb5-9227-ec9642e0d3ba",
   "metadata": {},
   "source": [
    "Let's test to see if apps that generally have positive sentiment polarity reviews have different ratings than apps that generally have negative sentiment polarity reviews. "
   ]
  },
  {
   "cell_type": "code",
   "execution_count": 370,
   "id": "e098b5e3-725c-4526-8595-35f563a749a7",
   "metadata": {},
   "outputs": [],
   "source": [
    "positive_reviews = apps[apps['Sentiment'] == 'positive']\n",
    "negative_reviews = apps[apps['Sentiment'] == 'negative']"
   ]
  },
  {
   "cell_type": "markdown",
   "id": "cd0bec6e-0c75-4051-badd-9f0bbaca166e",
   "metadata": {},
   "source": [
    "Perform a Mann-Whitney U rank test on the rating of apps between the two groups. \n",
    "\n",
    "Null Hypothesis: Positive and negative sentiment polarities' underlying distributions are the same. \n",
    "    \n",
    "Alternative Hypothesis: Positive and negative sentiment polarities' underlying distributions are not the same. The ratings for each group are different. "
   ]
  },
  {
   "cell_type": "code",
   "execution_count": 371,
   "id": "f6b2ade4-ae75-442f-bcb8-0935facccffc",
   "metadata": {},
   "outputs": [
    {
     "data": {
      "text/plain": [
       "3.96547235695702e-09"
      ]
     },
     "execution_count": 371,
     "metadata": {},
     "output_type": "execute_result"
    }
   ],
   "source": [
    "stats.mannwhitneyu(positive_reviews['Rating'], negative_reviews['Rating']).pvalue"
   ]
  },
  {
   "cell_type": "markdown",
   "id": "206aaf30-95eb-400f-93da-af20fa62ad61",
   "metadata": {},
   "source": [
    "With a pvalue of 3.96547235695702e-09, we strongly reject the null hypothesis and conclude that the app ratings are not the same for positive and negative sentiment polarities. "
   ]
  },
  {
   "cell_type": "markdown",
   "id": "af88da36-000b-4e02-b853-b3e93b5bc352",
   "metadata": {},
   "source": [
    "Let's compute a correlation coefficient between sentiment polarity and app rating"
   ]
  },
  {
   "cell_type": "code",
   "execution_count": 372,
   "id": "16f4a516-4787-4e1b-8036-c46894f9166a",
   "metadata": {},
   "outputs": [
    {
     "data": {
      "text/plain": [
       "(0.26405321132736725, 1.7496906302583513e-14)"
      ]
     },
     "execution_count": 372,
     "metadata": {},
     "output_type": "execute_result"
    }
   ],
   "source": [
    "# apps['log_polarity'] = np.log(apps['Polarity'])\n",
    "# apps['log_rating'] = np.log(apps['Rating'])\n",
    "# apps = apps[~apps['log_polarity'].isin([np.nan, 0])]\n",
    "# apps = apps[~apps['log_rating'].isin([np.nan, 0])]\n",
    "# stats.pearsonr(apps['log_polarity'], apps['log_rating'])\n",
    "\n",
    "stats.pearsonr(apps['Polarity'], apps['Rating'])"
   ]
  },
  {
   "cell_type": "markdown",
   "id": "5b74f01b-c4db-44a8-b43a-21c657d51869",
   "metadata": {},
   "source": [
    "With r = 0.265, they seem to be slightly linearly associated, although not by much. The tiny pvalue allows us to conclude that with 95% confidence, this is true correlation coefficient. \n",
    "\n",
    "Why is r so tiny? Let's analyze the scatter plot."
   ]
  },
  {
   "cell_type": "code",
   "execution_count": 373,
   "id": "63266199-8835-41f9-8601-1a2acc17e05c",
   "metadata": {},
   "outputs": [
    {
     "data": {
      "text/plain": [
       "<matplotlib.collections.PathCollection at 0x7faa0665fcd0>"
      ]
     },
     "execution_count": 373,
     "metadata": {},
     "output_type": "execute_result"
    },
    {
     "data": {
      "image/png": "[encoded data removed]",
      "text/plain": [
       "<Figure size 432x288 with 1 Axes>"
      ]
     },
     "metadata": {},
     "output_type": "display_data"
    }
   ],
   "source": [
    "plt.scatter(apps['Polarity'], apps['Rating'])"
   ]
  },
  {
   "cell_type": "markdown",
   "id": "c32ef48d-756b-47ed-9c4c-9bdd1376a88f",
   "metadata": {},
   "source": [
    "Not many apps have a mean negative sentiment polarity. \n"
   ]
  },
  {
   "cell_type": "markdown",
   "id": "18b6f7ef-c761-4ff1-81c3-2bea3140dcd8",
   "metadata": {},
   "source": [
    "For some reason, the two apps with the lowest sentiment polarity have a rating of above 4. Let's explore why. "
   ]
  },
  {
   "cell_type": "code",
   "execution_count": 392,
   "id": "1a7d2d58-300b-4b00-a196-4e042573958a",
   "metadata": {},
   "outputs": [],
   "source": [
    "lowest_polarity_app = apps.iloc[[apps['Polarity'].idxmin()]]\n",
    "\n",
    "#From https://stackoverflow.com/questions/62219868/how-to-find-the-index-of-the-second-minimum-in-pandas-dataframe\n",
    "second_lowest_polarity_app = apps.iloc[[apps['Polarity'].nsmallest(2).index[1]]]\n",
    "\n",
    "app_reviews_lowest_polarity_app = app_reviews.merge(lowest_polarity_app, on='App', how='right')\n",
    "app_reviews_second_lowest_polarity_app = app_reviews.merge(second_lowest_polarity_app, on='App', how='right')"
   ]
  },
  {
   "cell_type": "code",
   "execution_count": 405,
   "id": "daa2769e-4c2b-4e9b-83f2-93b1122624ed",
   "metadata": {},
   "outputs": [
    {
     "data": {
      "text/html": [
       "<div>\n",
       "<style scoped>\n",
       "    .dataframe tbody tr th:only-of-type {\n",
       "        vertical-align: middle;\n",
       "    }\n",
       "\n",
       "    .dataframe tbody tr th {\n",
       "        vertical-align: top;\n",
       "    }\n",
       "\n",
       "    .dataframe thead th {\n",
       "        text-align: right;\n",
       "    }\n",
       "</style>\n",
       "<table border=\"1\" class=\"dataframe\">\n",
       "  <thead>\n",
       "    <tr style=\"text-align: right;\">\n",
       "      <th></th>\n",
       "      <th>Translated_Review</th>\n",
       "    </tr>\n",
       "  </thead>\n",
       "  <tbody>\n",
       "    <tr>\n",
       "      <th>0</th>\n",
       "      <td>From I read update, nothing value improvement app, added features functionality tuan selected group people. My point Google bloating useless features. It like giving person permission go movie, informing allowed watch it.</td>\n",
       "    </tr>\n",
       "    <tr>\n",
       "      <th>1</th>\n",
       "      <td>Please keep updating the picture, because my house is in 2015. My cellphone is bad so the picture quality is bad. Makasi</td>\n",
       "    </tr>\n",
       "    <tr>\n",
       "      <th>2</th>\n",
       "      <td>I hate</td>\n",
       "    </tr>\n",
       "    <tr>\n",
       "      <th>3</th>\n",
       "      <td>Can guys make possible places offline?</td>\n",
       "    </tr>\n",
       "  </tbody>\n",
       "</table>\n",
       "</div>"
      ],
      "text/plain": [
       "                                                                                                                                                                                                               Translated_Review\n",
       "0  From I read update, nothing value improvement app, added features functionality tuan selected group people. My point Google bloating useless features. It like giving person permission go movie, informing allowed watch it.\n",
       "1                                                                                                       Please keep updating the picture, because my house is in 2015. My cellphone is bad so the picture quality is bad. Makasi\n",
       "2                                                                                                                                                                                                                         I hate\n",
       "3                                                                                                                                                                                         Can guys make possible places offline?"
      ]
     },
     "execution_count": 405,
     "metadata": {},
     "output_type": "execute_result"
    }
   ],
   "source": [
    "# https://stackoverflow.com/questions/39680147/can-i-set-variable-column-widths-in-pandas\n",
    "pd.set_option('max_colwidth', 400)\n",
    "app_reviews_lowest_polarity_app[['Translated_Review']]"
   ]
  },
  {
   "cell_type": "code",
   "execution_count": 399,
   "id": "31d02450-d6d1-4759-9bf3-c95fedddd5e8",
   "metadata": {},
   "outputs": [
    {
     "data": {
      "text/html": [
       "<div>\n",
       "<style scoped>\n",
       "    .dataframe tbody tr th:only-of-type {\n",
       "        vertical-align: middle;\n",
       "    }\n",
       "\n",
       "    .dataframe tbody tr th {\n",
       "        vertical-align: top;\n",
       "    }\n",
       "\n",
       "    .dataframe thead th {\n",
       "        text-align: right;\n",
       "    }\n",
       "</style>\n",
       "<table border=\"1\" class=\"dataframe\">\n",
       "  <thead>\n",
       "    <tr style=\"text-align: right;\">\n",
       "      <th></th>\n",
       "      <th>App</th>\n",
       "      <th>Translated_Review</th>\n",
       "      <th>Polarity</th>\n",
       "    </tr>\n",
       "  </thead>\n",
       "  <tbody>\n",
       "    <tr>\n",
       "      <th>43381</th>\n",
       "      <td>Fake Call - Fake Caller ID</td>\n",
       "      <td>Worst it. Weast time. I'm getting tension.</td>\n",
       "      <td>-1.0</td>\n",
       "    </tr>\n",
       "    <tr>\n",
       "      <th>45608</th>\n",
       "      <td>FilterGrid - Cam&amp;Photo Editor</td>\n",
       "      <td>I HATE THAT IT KEEPS SAYING TO RATE THEN! ITS ...</td>\n",
       "      <td>-1.0</td>\n",
       "    </tr>\n",
       "    <tr>\n",
       "      <th>5410</th>\n",
       "      <td>AliExpress - Smarter Shopping, Better Living</td>\n",
       "      <td>Horrible service, horrible quality products on...</td>\n",
       "      <td>-1.0</td>\n",
       "    </tr>\n",
       "    <tr>\n",
       "      <th>49867</th>\n",
       "      <td>Freeletics: Personal Trainer &amp; Fitness Workouts</td>\n",
       "      <td>Worst appp I seen till</td>\n",
       "      <td>-1.0</td>\n",
       "    </tr>\n",
       "    <tr>\n",
       "      <th>35209</th>\n",
       "      <td>Doctor Pets</td>\n",
       "      <td>awful</td>\n",
       "      <td>-1.0</td>\n",
       "    </tr>\n",
       "    <tr>\n",
       "      <th>...</th>\n",
       "      <td>...</td>\n",
       "      <td>...</td>\n",
       "      <td>...</td>\n",
       "    </tr>\n",
       "    <tr>\n",
       "      <th>41328</th>\n",
       "      <td>ExDialer - Dialer &amp; Contacts</td>\n",
       "      <td>Best dialer I've found seems take things hands...</td>\n",
       "      <td>1.0</td>\n",
       "    </tr>\n",
       "    <tr>\n",
       "      <th>41310</th>\n",
       "      <td>ExDialer - Dialer &amp; Contacts</td>\n",
       "      <td>THE BEST NON STOCK ANDROID DIALER INDEED. ***H...</td>\n",
       "      <td>1.0</td>\n",
       "    </tr>\n",
       "    <tr>\n",
       "      <th>41276</th>\n",
       "      <td>Evie Launcher</td>\n",
       "      <td>Best launcher around, doubt it.</td>\n",
       "      <td>1.0</td>\n",
       "    </tr>\n",
       "    <tr>\n",
       "      <th>41935</th>\n",
       "      <td>EyeEm - Camera &amp; Photo Filter</td>\n",
       "      <td>Awesome platform get photography seen photogra...</td>\n",
       "      <td>1.0</td>\n",
       "    </tr>\n",
       "    <tr>\n",
       "      <th>31685</th>\n",
       "      <td>DC Super Hero Girls™</td>\n",
       "      <td>Excellent</td>\n",
       "      <td>1.0</td>\n",
       "    </tr>\n",
       "  </tbody>\n",
       "</table>\n",
       "<p>37427 rows × 3 columns</p>\n",
       "</div>"
      ],
      "text/plain": [
       "                                                   App                                  Translated_Review  Polarity\n",
       "43381                       Fake Call - Fake Caller ID         Worst it. Weast time. I'm getting tension.      -1.0\n",
       "45608                    FilterGrid - Cam&Photo Editor  I HATE THAT IT KEEPS SAYING TO RATE THEN! ITS ...      -1.0\n",
       "5410      AliExpress - Smarter Shopping, Better Living  Horrible service, horrible quality products on...      -1.0\n",
       "49867  Freeletics: Personal Trainer & Fitness Workouts                             Worst appp I seen till      -1.0\n",
       "35209                                      Doctor Pets                                              awful      -1.0\n",
       "...                                                ...                                                ...       ...\n",
       "41328                     ExDialer - Dialer & Contacts  Best dialer I've found seems take things hands...       1.0\n",
       "41310                     ExDialer - Dialer & Contacts  THE BEST NON STOCK ANDROID DIALER INDEED. ***H...       1.0\n",
       "41276                                    Evie Launcher                    Best launcher around, doubt it.       1.0\n",
       "41935                    EyeEm - Camera & Photo Filter  Awesome platform get photography seen photogra...       1.0\n",
       "31685                             DC Super Hero Girls™                                          Excellent       1.0\n",
       "\n",
       "[37427 rows x 3 columns]"
      ]
     },
     "execution_count": 399,
     "metadata": {},
     "output_type": "execute_result"
    }
   ],
   "source": [
    "\n",
    "app_reviews.sort_values(by=['Polarity'], inplace=True)\n",
    "app_reviews"
   ]
  },
  {
   "cell_type": "markdown",
   "id": "c0ff466e-c2a6-4a6f-ac48-b20fe06b0665",
   "metadata": {},
   "source": [
    "We proceed to investigate if there a difference in the number of ratings (as well as the rating itself) for identical apps published on the Google Play Store versus the Apple App Store"
   ]
  },
  {
   "cell_type": "code",
   "execution_count": 114,
   "id": "00bb07a5-10f8-4817-9120-99d2c4afa98b",
   "metadata": {},
   "outputs": [],
   "source": [
    "google_apps = pd.read_csv(r'Google Play Store Apps.zip')\n",
    "apple_apps = pd.read_csv(r'Apple App Store Apps.zip')"
   ]
  },
  {
   "cell_type": "code",
   "execution_count": 115,
   "id": "85f2977c-bec3-467f-9334-c2010bb6bbe2",
   "metadata": {},
   "outputs": [
    {
     "data": {
      "text/html": [
       "<div>\n",
       "<style scoped>\n",
       "    .dataframe tbody tr th:only-of-type {\n",
       "        vertical-align: middle;\n",
       "    }\n",
       "\n",
       "    .dataframe tbody tr th {\n",
       "        vertical-align: top;\n",
       "    }\n",
       "\n",
       "    .dataframe thead th {\n",
       "        text-align: right;\n",
       "    }\n",
       "</style>\n",
       "<table border=\"1\" class=\"dataframe\">\n",
       "  <thead>\n",
       "    <tr style=\"text-align: right;\">\n",
       "      <th></th>\n",
       "      <th>App Name</th>\n",
       "      <th>App Id</th>\n",
       "      <th>Category</th>\n",
       "      <th>Rating</th>\n",
       "      <th>Rating Count</th>\n",
       "      <th>Installs</th>\n",
       "      <th>Minimum Installs</th>\n",
       "      <th>Maximum Installs</th>\n",
       "      <th>Free</th>\n",
       "      <th>Price</th>\n",
       "      <th>...</th>\n",
       "      <th>Developer Website</th>\n",
       "      <th>Developer Email</th>\n",
       "      <th>Released</th>\n",
       "      <th>Last Updated</th>\n",
       "      <th>Content Rating</th>\n",
       "      <th>Privacy Policy</th>\n",
       "      <th>Ad Supported</th>\n",
       "      <th>In App Purchases</th>\n",
       "      <th>Editors Choice</th>\n",
       "      <th>Scraped Time</th>\n",
       "    </tr>\n",
       "  </thead>\n",
       "  <tbody>\n",
       "    <tr>\n",
       "      <th>0</th>\n",
       "      <td>Gakondo</td>\n",
       "      <td>com.ishakwe.gakondo</td>\n",
       "      <td>Adventure</td>\n",
       "      <td>0.0</td>\n",
       "      <td>0.0</td>\n",
       "      <td>10+</td>\n",
       "      <td>10.0</td>\n",
       "      <td>15</td>\n",
       "      <td>True</td>\n",
       "      <td>0.0</td>\n",
       "      <td>...</td>\n",
       "      <td>https://beniyizibyose.tk/#/</td>\n",
       "      <td>jean21101999@gmail.com</td>\n",
       "      <td>Feb 26, 2020</td>\n",
       "      <td>Feb 26, 2020</td>\n",
       "      <td>Everyone</td>\n",
       "      <td>https://beniyizibyose.tk/projects/</td>\n",
       "      <td>False</td>\n",
       "      <td>False</td>\n",
       "      <td>False</td>\n",
       "      <td>2021-06-15 20:19:35</td>\n",
       "    </tr>\n",
       "    <tr>\n",
       "      <th>1</th>\n",
       "      <td>Ampere Battery Info</td>\n",
       "      <td>com.webserveis.batteryinfo</td>\n",
       "      <td>Tools</td>\n",
       "      <td>4.4</td>\n",
       "      <td>64.0</td>\n",
       "      <td>5,000+</td>\n",
       "      <td>5000.0</td>\n",
       "      <td>7662</td>\n",
       "      <td>True</td>\n",
       "      <td>0.0</td>\n",
       "      <td>...</td>\n",
       "      <td>https://webserveis.netlify.app/</td>\n",
       "      <td>webserveis@gmail.com</td>\n",
       "      <td>May 21, 2020</td>\n",
       "      <td>May 06, 2021</td>\n",
       "      <td>Everyone</td>\n",
       "      <td>https://dev4phones.wordpress.com/licencia-de-uso/</td>\n",
       "      <td>True</td>\n",
       "      <td>False</td>\n",
       "      <td>False</td>\n",
       "      <td>2021-06-15 20:19:35</td>\n",
       "    </tr>\n",
       "    <tr>\n",
       "      <th>2</th>\n",
       "      <td>Vibook</td>\n",
       "      <td>com.doantiepvien.crm</td>\n",
       "      <td>Productivity</td>\n",
       "      <td>0.0</td>\n",
       "      <td>0.0</td>\n",
       "      <td>50+</td>\n",
       "      <td>50.0</td>\n",
       "      <td>58</td>\n",
       "      <td>True</td>\n",
       "      <td>0.0</td>\n",
       "      <td>...</td>\n",
       "      <td>NaN</td>\n",
       "      <td>vnacrewit@gmail.com</td>\n",
       "      <td>Aug 9, 2019</td>\n",
       "      <td>Aug 19, 2019</td>\n",
       "      <td>Everyone</td>\n",
       "      <td>https://www.vietnamairlines.com/vn/en/terms-an...</td>\n",
       "      <td>False</td>\n",
       "      <td>False</td>\n",
       "      <td>False</td>\n",
       "      <td>2021-06-15 20:19:35</td>\n",
       "    </tr>\n",
       "    <tr>\n",
       "      <th>3</th>\n",
       "      <td>Smart City Trichy Public Service Vehicles 17UC...</td>\n",
       "      <td>cst.stJoseph.ug17ucs548</td>\n",
       "      <td>Communication</td>\n",
       "      <td>5.0</td>\n",
       "      <td>5.0</td>\n",
       "      <td>10+</td>\n",
       "      <td>10.0</td>\n",
       "      <td>19</td>\n",
       "      <td>True</td>\n",
       "      <td>0.0</td>\n",
       "      <td>...</td>\n",
       "      <td>http://www.climatesmarttech.com/</td>\n",
       "      <td>climatesmarttech2@gmail.com</td>\n",
       "      <td>Sep 10, 2018</td>\n",
       "      <td>Oct 13, 2018</td>\n",
       "      <td>Everyone</td>\n",
       "      <td>NaN</td>\n",
       "      <td>True</td>\n",
       "      <td>False</td>\n",
       "      <td>False</td>\n",
       "      <td>2021-06-15 20:19:35</td>\n",
       "    </tr>\n",
       "    <tr>\n",
       "      <th>4</th>\n",
       "      <td>GROW.me</td>\n",
       "      <td>com.horodyski.grower</td>\n",
       "      <td>Tools</td>\n",
       "      <td>0.0</td>\n",
       "      <td>0.0</td>\n",
       "      <td>100+</td>\n",
       "      <td>100.0</td>\n",
       "      <td>478</td>\n",
       "      <td>True</td>\n",
       "      <td>0.0</td>\n",
       "      <td>...</td>\n",
       "      <td>http://www.horodyski.com.pl</td>\n",
       "      <td>rmilekhorodyski@gmail.com</td>\n",
       "      <td>Feb 21, 2020</td>\n",
       "      <td>Nov 12, 2018</td>\n",
       "      <td>Everyone</td>\n",
       "      <td>http://www.horodyski.com.pl</td>\n",
       "      <td>False</td>\n",
       "      <td>False</td>\n",
       "      <td>False</td>\n",
       "      <td>2021-06-15 20:19:35</td>\n",
       "    </tr>\n",
       "  </tbody>\n",
       "</table>\n",
       "<p>5 rows × 24 columns</p>\n",
       "</div>"
      ],
      "text/plain": [
       "                                            App Name  \\\n",
       "0                                            Gakondo   \n",
       "1                                Ampere Battery Info   \n",
       "2                                             Vibook   \n",
       "3  Smart City Trichy Public Service Vehicles 17UC...   \n",
       "4                                            GROW.me   \n",
       "\n",
       "                       App Id       Category  Rating  Rating Count Installs  \\\n",
       "0         com.ishakwe.gakondo      Adventure     0.0           0.0      10+   \n",
       "1  com.webserveis.batteryinfo          Tools     4.4          64.0   5,000+   \n",
       "2        com.doantiepvien.crm   Productivity     0.0           0.0      50+   \n",
       "3     cst.stJoseph.ug17ucs548  Communication     5.0           5.0      10+   \n",
       "4        com.horodyski.grower          Tools     0.0           0.0     100+   \n",
       "\n",
       "   Minimum Installs  Maximum Installs  Free  Price  ...  \\\n",
       "0              10.0                15  True    0.0  ...   \n",
       "1            5000.0              7662  True    0.0  ...   \n",
       "2              50.0                58  True    0.0  ...   \n",
       "3              10.0                19  True    0.0  ...   \n",
       "4             100.0               478  True    0.0  ...   \n",
       "\n",
       "                  Developer Website              Developer Email  \\\n",
       "0       https://beniyizibyose.tk/#/       jean21101999@gmail.com   \n",
       "1   https://webserveis.netlify.app/         webserveis@gmail.com   \n",
       "2                               NaN          vnacrewit@gmail.com   \n",
       "3  http://www.climatesmarttech.com/  climatesmarttech2@gmail.com   \n",
       "4       http://www.horodyski.com.pl    rmilekhorodyski@gmail.com   \n",
       "\n",
       "       Released  Last Updated Content Rating  \\\n",
       "0  Feb 26, 2020  Feb 26, 2020       Everyone   \n",
       "1  May 21, 2020  May 06, 2021       Everyone   \n",
       "2   Aug 9, 2019  Aug 19, 2019       Everyone   \n",
       "3  Sep 10, 2018  Oct 13, 2018       Everyone   \n",
       "4  Feb 21, 2020  Nov 12, 2018       Everyone   \n",
       "\n",
       "                                      Privacy Policy Ad Supported  \\\n",
       "0                 https://beniyizibyose.tk/projects/        False   \n",
       "1  https://dev4phones.wordpress.com/licencia-de-uso/         True   \n",
       "2  https://www.vietnamairlines.com/vn/en/terms-an...        False   \n",
       "3                                                NaN         True   \n",
       "4                        http://www.horodyski.com.pl        False   \n",
       "\n",
       "  In App Purchases Editors Choice         Scraped Time  \n",
       "0            False          False  2021-06-15 20:19:35  \n",
       "1            False          False  2021-06-15 20:19:35  \n",
       "2            False          False  2021-06-15 20:19:35  \n",
       "3            False          False  2021-06-15 20:19:35  \n",
       "4            False          False  2021-06-15 20:19:35  \n",
       "\n",
       "[5 rows x 24 columns]"
      ]
     },
     "execution_count": 115,
     "metadata": {},
     "output_type": "execute_result"
    }
   ],
   "source": [
    "google_apps.head()"
   ]
  },
  {
   "cell_type": "code",
   "execution_count": 116,
   "id": "89291724-6ad2-4a9d-8c4c-879b5c1a3809",
   "metadata": {},
   "outputs": [
    {
     "data": {
      "text/plain": [
       "(2312944, 24)"
      ]
     },
     "execution_count": 116,
     "metadata": {},
     "output_type": "execute_result"
    }
   ],
   "source": [
    "google_apps.shape"
   ]
  },
  {
   "cell_type": "code",
   "execution_count": 117,
   "id": "708ca237-1d62-4e8d-9ec1-0a5ccc53a97b",
   "metadata": {},
   "outputs": [
    {
     "data": {
      "text/html": [
       "<div>\n",
       "<style scoped>\n",
       "    .dataframe tbody tr th:only-of-type {\n",
       "        vertical-align: middle;\n",
       "    }\n",
       "\n",
       "    .dataframe tbody tr th {\n",
       "        vertical-align: top;\n",
       "    }\n",
       "\n",
       "    .dataframe thead th {\n",
       "        text-align: right;\n",
       "    }\n",
       "</style>\n",
       "<table border=\"1\" class=\"dataframe\">\n",
       "  <thead>\n",
       "    <tr style=\"text-align: right;\">\n",
       "      <th></th>\n",
       "      <th>App_Id</th>\n",
       "      <th>App_Name</th>\n",
       "      <th>AppStore_Url</th>\n",
       "      <th>Primary_Genre</th>\n",
       "      <th>Content_Rating</th>\n",
       "      <th>Size_Bytes</th>\n",
       "      <th>Required_IOS_Version</th>\n",
       "      <th>Released</th>\n",
       "      <th>Updated</th>\n",
       "      <th>Version</th>\n",
       "      <th>...</th>\n",
       "      <th>Currency</th>\n",
       "      <th>Free</th>\n",
       "      <th>DeveloperId</th>\n",
       "      <th>Developer</th>\n",
       "      <th>Developer_Url</th>\n",
       "      <th>Developer_Website</th>\n",
       "      <th>Average_User_Rating</th>\n",
       "      <th>Reviews</th>\n",
       "      <th>Current_Version_Score</th>\n",
       "      <th>Current_Version_Reviews</th>\n",
       "    </tr>\n",
       "  </thead>\n",
       "  <tbody>\n",
       "    <tr>\n",
       "      <th>0</th>\n",
       "      <td>com.hkbu.arc.apaper</td>\n",
       "      <td>A+ Paper Guide</td>\n",
       "      <td>https://apps.apple.com/us/app/a-paper-guide/id...</td>\n",
       "      <td>Education</td>\n",
       "      <td>4+</td>\n",
       "      <td>21993472.0</td>\n",
       "      <td>8.0</td>\n",
       "      <td>2017-09-28T03:02:41Z</td>\n",
       "      <td>2018-12-21T21:30:36Z</td>\n",
       "      <td>1.1.2</td>\n",
       "      <td>...</td>\n",
       "      <td>USD</td>\n",
       "      <td>True</td>\n",
       "      <td>1375410542</td>\n",
       "      <td>HKBU ARC</td>\n",
       "      <td>https://apps.apple.com/us/developer/hkbu-arc/i...</td>\n",
       "      <td>NaN</td>\n",
       "      <td>0.0</td>\n",
       "      <td>0</td>\n",
       "      <td>0.0</td>\n",
       "      <td>0</td>\n",
       "    </tr>\n",
       "    <tr>\n",
       "      <th>1</th>\n",
       "      <td>com.dmitriev.abooks</td>\n",
       "      <td>A-Books</td>\n",
       "      <td>https://apps.apple.com/us/app/a-books/id103157...</td>\n",
       "      <td>Book</td>\n",
       "      <td>4+</td>\n",
       "      <td>13135872.0</td>\n",
       "      <td>10.0</td>\n",
       "      <td>2015-08-31T19:31:32Z</td>\n",
       "      <td>2019-07-23T20:31:09Z</td>\n",
       "      <td>1.3</td>\n",
       "      <td>...</td>\n",
       "      <td>USD</td>\n",
       "      <td>True</td>\n",
       "      <td>1031572001</td>\n",
       "      <td>Roman Dmitriev</td>\n",
       "      <td>https://apps.apple.com/us/developer/roman-dmit...</td>\n",
       "      <td>NaN</td>\n",
       "      <td>5.0</td>\n",
       "      <td>1</td>\n",
       "      <td>5.0</td>\n",
       "      <td>1</td>\n",
       "    </tr>\n",
       "    <tr>\n",
       "      <th>2</th>\n",
       "      <td>no.terp.abooks</td>\n",
       "      <td>A-books</td>\n",
       "      <td>https://apps.apple.com/us/app/a-books/id145702...</td>\n",
       "      <td>Book</td>\n",
       "      <td>4+</td>\n",
       "      <td>21943296.0</td>\n",
       "      <td>9.0</td>\n",
       "      <td>2021-04-14T07:00:00Z</td>\n",
       "      <td>2021-05-30T21:08:54Z</td>\n",
       "      <td>1.3.1</td>\n",
       "      <td>...</td>\n",
       "      <td>USD</td>\n",
       "      <td>True</td>\n",
       "      <td>1457024163</td>\n",
       "      <td>Terp AS</td>\n",
       "      <td>https://apps.apple.com/us/developer/terp-as/id...</td>\n",
       "      <td>NaN</td>\n",
       "      <td>0.0</td>\n",
       "      <td>0</td>\n",
       "      <td>0.0</td>\n",
       "      <td>0</td>\n",
       "    </tr>\n",
       "    <tr>\n",
       "      <th>3</th>\n",
       "      <td>fr.antoinettefleur.Book1</td>\n",
       "      <td>A-F Book #1</td>\n",
       "      <td>https://apps.apple.com/us/app/a-f-book-1/id500...</td>\n",
       "      <td>Book</td>\n",
       "      <td>4+</td>\n",
       "      <td>81851392.0</td>\n",
       "      <td>8.0</td>\n",
       "      <td>2012-02-10T03:40:07Z</td>\n",
       "      <td>2019-10-29T12:40:37Z</td>\n",
       "      <td>1.2</td>\n",
       "      <td>...</td>\n",
       "      <td>USD</td>\n",
       "      <td>False</td>\n",
       "      <td>439568839</td>\n",
       "      <td>i-editeur.com</td>\n",
       "      <td>https://apps.apple.com/us/developer/i-editeur-...</td>\n",
       "      <td>NaN</td>\n",
       "      <td>0.0</td>\n",
       "      <td>0</td>\n",
       "      <td>0.0</td>\n",
       "      <td>0</td>\n",
       "    </tr>\n",
       "    <tr>\n",
       "      <th>4</th>\n",
       "      <td>com.imonstersoft.azdictionaryios</td>\n",
       "      <td>A-Z Synonyms Dictionary</td>\n",
       "      <td>https://apps.apple.com/us/app/a-z-synonyms-dic...</td>\n",
       "      <td>Reference</td>\n",
       "      <td>4+</td>\n",
       "      <td>64692224.0</td>\n",
       "      <td>9.0</td>\n",
       "      <td>2020-12-16T08:00:00Z</td>\n",
       "      <td>2020-12-18T21:36:11Z</td>\n",
       "      <td>1.0.1</td>\n",
       "      <td>...</td>\n",
       "      <td>USD</td>\n",
       "      <td>True</td>\n",
       "      <td>656731821</td>\n",
       "      <td>Ngov chiheang</td>\n",
       "      <td>https://apps.apple.com/us/developer/ngov-chihe...</td>\n",
       "      <td>http://imonstersoft.com</td>\n",
       "      <td>0.0</td>\n",
       "      <td>0</td>\n",
       "      <td>0.0</td>\n",
       "      <td>0</td>\n",
       "    </tr>\n",
       "  </tbody>\n",
       "</table>\n",
       "<p>5 rows × 21 columns</p>\n",
       "</div>"
      ],
      "text/plain": [
       "                             App_Id                 App_Name  \\\n",
       "0               com.hkbu.arc.apaper           A+ Paper Guide   \n",
       "1               com.dmitriev.abooks                  A-Books   \n",
       "2                    no.terp.abooks                  A-books   \n",
       "3          fr.antoinettefleur.Book1              A-F Book #1   \n",
       "4  com.imonstersoft.azdictionaryios  A-Z Synonyms Dictionary   \n",
       "\n",
       "                                        AppStore_Url Primary_Genre  \\\n",
       "0  https://apps.apple.com/us/app/a-paper-guide/id...     Education   \n",
       "1  https://apps.apple.com/us/app/a-books/id103157...          Book   \n",
       "2  https://apps.apple.com/us/app/a-books/id145702...          Book   \n",
       "3  https://apps.apple.com/us/app/a-f-book-1/id500...          Book   \n",
       "4  https://apps.apple.com/us/app/a-z-synonyms-dic...     Reference   \n",
       "\n",
       "  Content_Rating  Size_Bytes Required_IOS_Version              Released  \\\n",
       "0             4+  21993472.0                  8.0  2017-09-28T03:02:41Z   \n",
       "1             4+  13135872.0                 10.0  2015-08-31T19:31:32Z   \n",
       "2             4+  21943296.0                  9.0  2021-04-14T07:00:00Z   \n",
       "3             4+  81851392.0                  8.0  2012-02-10T03:40:07Z   \n",
       "4             4+  64692224.0                  9.0  2020-12-16T08:00:00Z   \n",
       "\n",
       "                Updated Version  ...  Currency   Free  DeveloperId  \\\n",
       "0  2018-12-21T21:30:36Z   1.1.2  ...       USD   True   1375410542   \n",
       "1  2019-07-23T20:31:09Z     1.3  ...       USD   True   1031572001   \n",
       "2  2021-05-30T21:08:54Z   1.3.1  ...       USD   True   1457024163   \n",
       "3  2019-10-29T12:40:37Z     1.2  ...       USD  False    439568839   \n",
       "4  2020-12-18T21:36:11Z   1.0.1  ...       USD   True    656731821   \n",
       "\n",
       "        Developer                                      Developer_Url  \\\n",
       "0        HKBU ARC  https://apps.apple.com/us/developer/hkbu-arc/i...   \n",
       "1  Roman Dmitriev  https://apps.apple.com/us/developer/roman-dmit...   \n",
       "2         Terp AS  https://apps.apple.com/us/developer/terp-as/id...   \n",
       "3   i-editeur.com  https://apps.apple.com/us/developer/i-editeur-...   \n",
       "4   Ngov chiheang  https://apps.apple.com/us/developer/ngov-chihe...   \n",
       "\n",
       "         Developer_Website Average_User_Rating  Reviews  \\\n",
       "0                      NaN                 0.0        0   \n",
       "1                      NaN                 5.0        1   \n",
       "2                      NaN                 0.0        0   \n",
       "3                      NaN                 0.0        0   \n",
       "4  http://imonstersoft.com                 0.0        0   \n",
       "\n",
       "   Current_Version_Score  Current_Version_Reviews  \n",
       "0                    0.0                        0  \n",
       "1                    5.0                        1  \n",
       "2                    0.0                        0  \n",
       "3                    0.0                        0  \n",
       "4                    0.0                        0  \n",
       "\n",
       "[5 rows x 21 columns]"
      ]
     },
     "execution_count": 117,
     "metadata": {},
     "output_type": "execute_result"
    }
   ],
   "source": [
    "apple_apps.head()"
   ]
  },
  {
   "cell_type": "code",
   "execution_count": 118,
   "id": "18014954-4100-46a7-b9f4-a1049234cd7c",
   "metadata": {},
   "outputs": [
    {
     "data": {
      "text/plain": [
       "(1230376, 21)"
      ]
     },
     "execution_count": 118,
     "metadata": {},
     "output_type": "execute_result"
    }
   ],
   "source": [
    "apple_apps.shape"
   ]
  },
  {
   "cell_type": "code",
   "execution_count": 119,
   "id": "35529d2f-c111-418f-9a32-7a45b7373f62",
   "metadata": {},
   "outputs": [],
   "source": [
    "google_apps = google_apps[['App Id', 'App Name', 'Developer Id', 'Rating', 'Released', 'Rating Count']]\n",
    "apple_apps = apple_apps[['App_Id', 'App_Name', 'Developer', 'Current_Version_Score', 'Released', 'Reviews']]"
   ]
  },
  {
   "cell_type": "code",
   "execution_count": 120,
   "id": "27411f7a-a872-466d-a492-11706c3730c5",
   "metadata": {},
   "outputs": [],
   "source": [
    "apple_apps.rename(columns={'App_Id': 'App Id', \n",
    "                           'App_Name': 'App Name',\n",
    "                           'Developer': 'Apple Developer', \n",
    "                           'Current_Version_Score': 'Apple Rating', \n",
    "                           'Released': 'Apple Released', \n",
    "                           'Reviews': 'Apple Rating Count'\n",
    "                          }, \n",
    "                  errors='raise', inplace=True)\n",
    "\n",
    "google_apps.rename(columns={'Rating': 'Google Rating', \n",
    "                            'Developer Id': 'Google Developer',\n",
    "                            'Released': 'Google Released', \n",
    "                            'Rating Count': 'Google Rating Count'},\n",
    "                  errors='raise', inplace=True)"
   ]
  },
  {
   "cell_type": "code",
   "execution_count": 121,
   "id": "040702be-7461-420c-b3c6-4ee8aaed4cf2",
   "metadata": {},
   "outputs": [],
   "source": [
    "combined_apps = google_apps.merge(apple_apps, on=['App Name','App Id'], how='inner')"
   ]
  },
  {
   "cell_type": "code",
   "execution_count": 122,
   "id": "4984ad29-a73d-492f-b6f2-7497e15afce0",
   "metadata": {},
   "outputs": [],
   "source": [
    "def remove_nonmatching_developers(apple_dev, google_dev): \n",
    "    sequence = difflib.SequenceMatcher(a=apple_dev, b=google_dev)\n",
    "    \n",
    "    # Measure of similarity \n",
    "    similarity = sequence.ratio()\n",
    "    if similarity > 0.6:\n",
    "        return google_dev # Arbitrary return one of the names\n",
    "    else: \n",
    "        return np.nan"
   ]
  },
  {
   "cell_type": "code",
   "execution_count": 123,
   "id": "c2ded4ef-f375-4c5b-9874-3dcb3345e363",
   "metadata": {},
   "outputs": [],
   "source": [
    "# To ensure that the apps' developers on the Google Play Store and the Apple App Store are the same, we will test for similairity \n",
    "combined_apps['Developer'] = combined_apps.apply(lambda x: \n",
    "                                                 remove_nonmatching_developers(x['Google Developer'], x['Apple Developer']), \n",
    "                                                 axis=1)\n",
    "combined_apps.dropna(subset=['Developer'], inplace=True)"
   ]
  },
  {
   "cell_type": "markdown",
   "id": "d47d44ee-b3f4-405f-a9bc-a9484b720e22",
   "metadata": {},
   "source": [
    "Now let's visualize the distribution of ratings of the Google Play Store and the Apple App Store"
   ]
  },
  {
   "cell_type": "code",
   "execution_count": 124,
   "id": "16e93fae-b0f0-4c18-86a8-ef3d5d70db85",
   "metadata": {},
   "outputs": [
    {
     "data": {
      "image/png": "[encoded data removed]",
      "text/plain": [
       "<Figure size 1008x432 with 1 Axes>"
      ]
     },
     "metadata": {},
     "output_type": "display_data"
    }
   ],
   "source": [
    "figure = plt.figure(figsize=(14, 6))\n",
    "axis = plt.gca()\n",
    "plt.hist([combined_apps['Google Rating'], combined_apps['Apple Rating']], alpha=0.7)\n",
    "plt.xlabel('Rating', fontsize=15, labelpad=20)\n",
    "plt.ylabel('Count', fontsize=15, labelpad=20)\n",
    "plt.legend(['Google Play Store', 'Apple App Store'])\n",
    "plt.title('Distribution of the Number of Ratings for Apple App Store and Google Play Store', fontsize=20, pad=20)\n",
    "plt.show()"
   ]
  },
  {
   "cell_type": "markdown",
   "id": "9cd8e0f0-e70f-4dc8-80ca-ea6046dd75a2",
   "metadata": {},
   "source": [
    "It appears that when we consider identical apps published on Google Play Store and Apple App Store, the latter has more apps that are not rated (0 rating) in addition to having more apps with a 5 star rating! \n",
    "\n",
    "Why would the same app yield different ratings? \n",
    "\n",
    "As we explore this question, we will look at the reviews for these applications as well. "
   ]
  },
  {
   "cell_type": "code",
   "execution_count": null,
   "id": "e8086c88-b88a-4c29-8005-f76440719607",
   "metadata": {},
   "outputs": [],
   "source": []
  }
 ],
 "metadata": {
  "kernelspec": {
   "display_name": "Python 3",
   "language": "python",
   "name": "python3"
  },
  "language_info": {
   "codemirror_mode": {
    "name": "ipython",
    "version": 3
   },
   "file_extension": ".py",
   "mimetype": "text/x-python",
   "name": "python",
   "nbconvert_exporter": "python",
   "pygments_lexer": "ipython3",
   "version": "3.8.8"
  }
 },
 "nbformat": 4,
 "nbformat_minor": 5
}
