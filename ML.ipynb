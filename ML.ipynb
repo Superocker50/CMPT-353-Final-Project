{
 "cells": [
  {
   "cell_type": "code",
   "execution_count": 49,
   "id": "2dc6344f",
   "metadata": {},
   "outputs": [],
   "source": [
    "import numpy as np\n",
    "import pandas as pd\n",
    "import matplotlib.pyplot as plt\n",
    "import seaborn as sns\n",
    "\n",
    "from sklearn.model_selection import train_test_split\n",
    "from sklearn.tree import DecisionTreeRegressor\n",
    "from sklearn.ensemble import RandomForestRegressor\n",
    "from sklearn.ensemble import GradientBoostingRegressor\n",
    "from sklearn.metrics import mean_absolute_error\n",
    "\n",
    "from sklearn.neighbors import KNeighborsRegressor\n",
    "from sklearn.svm import SVR\n",
    "from sklearn.pipeline import make_pipeline\n",
    "from sklearn.preprocessing import MinMaxScaler, StandardScaler\n",
    "from sklearn.pipeline import Pipeline\n",
    "from sklearn.feature_selection import SelectFromModel\n",
    "from sklearn.svm import LinearSVC"
   ]
  },
  {
   "cell_type": "code",
   "execution_count": 50,
   "id": "79e08e7a",
   "metadata": {},
   "outputs": [],
   "source": [
    "google_apps = pd.read_csv('Google Play Store Apps.zip')\n",
    "google_reviews = pd.read_csv('google_app_reviews.csv')"
   ]
  },
  {
   "cell_type": "code",
   "execution_count": 51,
   "id": "cb1be84f",
   "metadata": {},
   "outputs": [],
   "source": [
    "google_apps.rename(columns={'App Id': 'app_id'}, inplace=True)"
   ]
  },
  {
   "cell_type": "code",
   "execution_count": 52,
   "id": "cf358b7b",
   "metadata": {},
   "outputs": [],
   "source": [
    "apps = google_apps.merge(google_reviews, on=\"app_id\", how='inner')"
   ]
  },
  {
   "cell_type": "code",
   "execution_count": 53,
   "id": "dcd79d3e-5c9b-4635-936e-64f632464ac6",
   "metadata": {},
   "outputs": [
    {
     "data": {
      "text/plain": [
       "Index(['App Name', 'app_id', 'Category', 'Rating', 'Rating Count', 'Installs',\n",
       "       'Minimum Installs', 'Maximum Installs', 'Free', 'Price', 'Currency',\n",
       "       'Size', 'Minimum Android', 'Developer Id', 'Developer Website',\n",
       "       'Developer Email', 'Released', 'Last Updated', 'Content Rating',\n",
       "       'Privacy Policy', 'Ad Supported', 'In App Purchases', 'Editors Choice',\n",
       "       'Scraped Time', 'Unnamed: 0', 'user_name', 'score', 'content', 'likes',\n",
       "       'polarity'],\n",
       "      dtype='object')"
      ]
     },
     "execution_count": 53,
     "metadata": {},
     "output_type": "execute_result"
    }
   ],
   "source": [
    "apps.columns"
   ]
  },
  {
   "cell_type": "code",
   "execution_count": 44,
   "id": "e0ab01b9-0cee-47e2-b70f-a80f8a27e5d8",
   "metadata": {},
   "outputs": [],
   "source": [
    "#"
   ]
  },
  {
   "cell_type": "code",
   "execution_count": 5,
   "id": "5b350789",
   "metadata": {},
   "outputs": [],
   "source": [
    "# apps = apps.groupby('app_id').mean()"
   ]
  },
  {
   "cell_type": "code",
   "execution_count": 54,
   "id": "87d93975",
   "metadata": {},
   "outputs": [],
   "source": [
    "apps = apps[apps['Rating'] > 0]\n",
    "fdsa = apps[apps['polarity'] == 0]\n",
    "\n",
    "asdf = apps.copy()\n",
    "# asdf = asdf[asdf['WHOOP'] != 0]\n",
    "asdf.dropna(inplace=True)\n",
    "\n",
    "# asdf['WHOOP'] = np.log(asdf['WHOOP'])\n",
    "asdf['Rating Count'] = np.log(asdf['Rating Count'])\n",
    "asdf['Rating'] = np.sqrt(asdf['Rating'])\n",
    "# asdf['polarity'] = asdf[asdf['polarity'] != 0]\n",
    "# asdf['polarity'] = asdf['polarity']\n",
    "# asdf['polarity'] = asdf[asdf['polarity'] > -10]"
   ]
  },
  {
   "cell_type": "code",
   "execution_count": 55,
   "id": "ed1b3ef5-c492-4ba0-980c-5cc641878ec8",
   "metadata": {},
   "outputs": [],
   "source": [
    "asdf['likes'] = asdf['likes'] + 1\n",
    "asdf['WHOOP'] = asdf['likes'] * asdf['polarity']"
   ]
  },
  {
   "cell_type": "code",
   "execution_count": 87,
   "id": "94ed2956",
   "metadata": {},
   "outputs": [
    {
     "data": {
      "text/plain": [
       "<matplotlib.collections.PathCollection at 0x7ffd3f584190>"
      ]
     },
     "execution_count": 87,
     "metadata": {},
     "output_type": "execute_result"
    },
    {
     "data": {
      "image/png": "[encoded data removed]",
      "text/plain": [
       "<Figure size 432x288 with 1 Axes>"
      ]
     },
     "metadata": {
      "needs_background": "light"
     },
     "output_type": "display_data"
    }
   ],
   "source": [
    "import scipy.stats as stats\n",
    "stats.pearsonr(asdf['Rating'], asdf['polarity'])\n",
    "\n",
    "plt.scatter(asdf['Rating'], asdf['WHOOP'])"
   ]
  },
  {
   "cell_type": "code",
   "execution_count": 67,
   "id": "856f29b0",
   "metadata": {},
   "outputs": [
    {
     "data": {
      "text/plain": [
       "Index(['Rating', 'polarity', 'Rating Count', 'Minimum Installs',\n",
       "       'Maximum Installs', 'Free', 'Price'],\n",
       "      dtype='object')"
      ]
     },
     "execution_count": 67,
     "metadata": {},
     "output_type": "execute_result"
    }
   ],
   "source": [
    "apps.columns"
   ]
  },
  {
   "cell_type": "code",
   "execution_count": 20,
   "id": "50cbb2b3-6144-4dae-858c-5320caec36bb",
   "metadata": {},
   "outputs": [
    {
     "data": {
      "text/html": [
       "<div>\n",
       "<style scoped>\n",
       "    .dataframe tbody tr th:only-of-type {\n",
       "        vertical-align: middle;\n",
       "    }\n",
       "\n",
       "    .dataframe tbody tr th {\n",
       "        vertical-align: top;\n",
       "    }\n",
       "\n",
       "    .dataframe thead th {\n",
       "        text-align: right;\n",
       "    }\n",
       "</style>\n",
       "<table border=\"1\" class=\"dataframe\">\n",
       "  <thead>\n",
       "    <tr style=\"text-align: right;\">\n",
       "      <th></th>\n",
       "      <th>App Name</th>\n",
       "      <th>app_id</th>\n",
       "      <th>Category</th>\n",
       "      <th>Rating</th>\n",
       "      <th>Rating Count</th>\n",
       "      <th>Installs</th>\n",
       "      <th>Minimum Installs</th>\n",
       "      <th>Maximum Installs</th>\n",
       "      <th>Free</th>\n",
       "      <th>Price</th>\n",
       "      <th>...</th>\n",
       "      <th>In App Purchases</th>\n",
       "      <th>Editors Choice</th>\n",
       "      <th>Scraped Time</th>\n",
       "      <th>Unnamed: 0</th>\n",
       "      <th>user_name</th>\n",
       "      <th>score</th>\n",
       "      <th>content</th>\n",
       "      <th>likes</th>\n",
       "      <th>polarity</th>\n",
       "      <th>WHOOP</th>\n",
       "    </tr>\n",
       "  </thead>\n",
       "  <tbody>\n",
       "    <tr>\n",
       "      <th>2</th>\n",
       "      <td>GaiaZOO</td>\n",
       "      <td>nl.haveaniceday.gaiazoo</td>\n",
       "      <td>Travel &amp; Local</td>\n",
       "      <td>1.843909</td>\n",
       "      <td>4.204693</td>\n",
       "      <td>10,000+</td>\n",
       "      <td>10000.0</td>\n",
       "      <td>30921</td>\n",
       "      <td>True</td>\n",
       "      <td>0.0</td>\n",
       "      <td>...</td>\n",
       "      <td>False</td>\n",
       "      <td>False</td>\n",
       "      <td>2021-06-15 20:19:37</td>\n",
       "      <td>0.0</td>\n",
       "      <td>Chris Breederveld</td>\n",
       "      <td>4</td>\n",
       "      <td>Handige kaart met locatie, leuke quiz, maar he...</td>\n",
       "      <td>1</td>\n",
       "      <td>0.000000</td>\n",
       "      <td>0.000000</td>\n",
       "    </tr>\n",
       "    <tr>\n",
       "      <th>3</th>\n",
       "      <td>GaiaZOO</td>\n",
       "      <td>nl.haveaniceday.gaiazoo</td>\n",
       "      <td>Travel &amp; Local</td>\n",
       "      <td>1.843909</td>\n",
       "      <td>4.204693</td>\n",
       "      <td>10,000+</td>\n",
       "      <td>10000.0</td>\n",
       "      <td>30921</td>\n",
       "      <td>True</td>\n",
       "      <td>0.0</td>\n",
       "      <td>...</td>\n",
       "      <td>False</td>\n",
       "      <td>False</td>\n",
       "      <td>2021-06-15 20:19:37</td>\n",
       "      <td>0.0</td>\n",
       "      <td>Fantom</td>\n",
       "      <td>2</td>\n",
       "      <td>Back button anywhere kills the app instead of ...</td>\n",
       "      <td>1</td>\n",
       "      <td>0.052381</td>\n",
       "      <td>0.052381</td>\n",
       "    </tr>\n",
       "    <tr>\n",
       "      <th>4</th>\n",
       "      <td>GaiaZOO</td>\n",
       "      <td>nl.haveaniceday.gaiazoo</td>\n",
       "      <td>Travel &amp; Local</td>\n",
       "      <td>1.843909</td>\n",
       "      <td>4.204693</td>\n",
       "      <td>10,000+</td>\n",
       "      <td>10000.0</td>\n",
       "      <td>30921</td>\n",
       "      <td>True</td>\n",
       "      <td>0.0</td>\n",
       "      <td>...</td>\n",
       "      <td>False</td>\n",
       "      <td>False</td>\n",
       "      <td>2021-06-15 20:19:37</td>\n",
       "      <td>0.0</td>\n",
       "      <td>A Google user</td>\n",
       "      <td>2</td>\n",
       "      <td>Doet het niet</td>\n",
       "      <td>2</td>\n",
       "      <td>0.000000</td>\n",
       "      <td>0.000000</td>\n",
       "    </tr>\n",
       "    <tr>\n",
       "      <th>5</th>\n",
       "      <td>GaiaZOO</td>\n",
       "      <td>nl.haveaniceday.gaiazoo</td>\n",
       "      <td>Travel &amp; Local</td>\n",
       "      <td>1.843909</td>\n",
       "      <td>4.204693</td>\n",
       "      <td>10,000+</td>\n",
       "      <td>10000.0</td>\n",
       "      <td>30921</td>\n",
       "      <td>True</td>\n",
       "      <td>0.0</td>\n",
       "      <td>...</td>\n",
       "      <td>False</td>\n",
       "      <td>False</td>\n",
       "      <td>2021-06-15 20:19:37</td>\n",
       "      <td>0.0</td>\n",
       "      <td>Janneman96</td>\n",
       "      <td>5</td>\n",
       "      <td>Echt super vet!! :)</td>\n",
       "      <td>2</td>\n",
       "      <td>0.510417</td>\n",
       "      <td>1.020833</td>\n",
       "    </tr>\n",
       "    <tr>\n",
       "      <th>6</th>\n",
       "      <td>ICE Connect</td>\n",
       "      <td>com.theice.marketdata</td>\n",
       "      <td>Finance</td>\n",
       "      <td>2.000000</td>\n",
       "      <td>2.397895</td>\n",
       "      <td>1,000+</td>\n",
       "      <td>1000.0</td>\n",
       "      <td>4134</td>\n",
       "      <td>True</td>\n",
       "      <td>0.0</td>\n",
       "      <td>...</td>\n",
       "      <td>False</td>\n",
       "      <td>False</td>\n",
       "      <td>2021-06-15 20:19:42</td>\n",
       "      <td>0.0</td>\n",
       "      <td>Zod Bahr</td>\n",
       "      <td>1</td>\n",
       "      <td>It didn't work. It said login failed. When I l...</td>\n",
       "      <td>5</td>\n",
       "      <td>-0.500000</td>\n",
       "      <td>-2.500000</td>\n",
       "    </tr>\n",
       "    <tr>\n",
       "      <th>...</th>\n",
       "      <td>...</td>\n",
       "      <td>...</td>\n",
       "      <td>...</td>\n",
       "      <td>...</td>\n",
       "      <td>...</td>\n",
       "      <td>...</td>\n",
       "      <td>...</td>\n",
       "      <td>...</td>\n",
       "      <td>...</td>\n",
       "      <td>...</td>\n",
       "      <td>...</td>\n",
       "      <td>...</td>\n",
       "      <td>...</td>\n",
       "      <td>...</td>\n",
       "      <td>...</td>\n",
       "      <td>...</td>\n",
       "      <td>...</td>\n",
       "      <td>...</td>\n",
       "      <td>...</td>\n",
       "      <td>...</td>\n",
       "      <td>...</td>\n",
       "    </tr>\n",
       "    <tr>\n",
       "      <th>1130994</th>\n",
       "      <td>Politiken Podcast</td>\n",
       "      <td>dk.pol.podcast</td>\n",
       "      <td>News &amp; Magazines</td>\n",
       "      <td>1.516575</td>\n",
       "      <td>4.804021</td>\n",
       "      <td>10,000+</td>\n",
       "      <td>10000.0</td>\n",
       "      <td>44275</td>\n",
       "      <td>True</td>\n",
       "      <td>0.0</td>\n",
       "      <td>...</td>\n",
       "      <td>False</td>\n",
       "      <td>False</td>\n",
       "      <td>2021-06-16 12:59:03</td>\n",
       "      <td>0.0</td>\n",
       "      <td>A Google user</td>\n",
       "      <td>4</td>\n",
       "      <td>Efter at have brugt appen et par uger fungerer...</td>\n",
       "      <td>5</td>\n",
       "      <td>0.000000</td>\n",
       "      <td>0.000000</td>\n",
       "    </tr>\n",
       "    <tr>\n",
       "      <th>1130995</th>\n",
       "      <td>Politiken Podcast</td>\n",
       "      <td>dk.pol.podcast</td>\n",
       "      <td>News &amp; Magazines</td>\n",
       "      <td>1.516575</td>\n",
       "      <td>4.804021</td>\n",
       "      <td>10,000+</td>\n",
       "      <td>10000.0</td>\n",
       "      <td>44275</td>\n",
       "      <td>True</td>\n",
       "      <td>0.0</td>\n",
       "      <td>...</td>\n",
       "      <td>False</td>\n",
       "      <td>False</td>\n",
       "      <td>2021-06-16 12:59:03</td>\n",
       "      <td>0.0</td>\n",
       "      <td>Christopher Bjerre</td>\n",
       "      <td>4</td>\n",
       "      <td>Dejligt simpel. Kunne godt bruge Chromecast</td>\n",
       "      <td>2</td>\n",
       "      <td>0.000000</td>\n",
       "      <td>0.000000</td>\n",
       "    </tr>\n",
       "    <tr>\n",
       "      <th>1130996</th>\n",
       "      <td>Politiken Podcast</td>\n",
       "      <td>dk.pol.podcast</td>\n",
       "      <td>News &amp; Magazines</td>\n",
       "      <td>1.516575</td>\n",
       "      <td>4.804021</td>\n",
       "      <td>10,000+</td>\n",
       "      <td>10000.0</td>\n",
       "      <td>44275</td>\n",
       "      <td>True</td>\n",
       "      <td>0.0</td>\n",
       "      <td>...</td>\n",
       "      <td>False</td>\n",
       "      <td>False</td>\n",
       "      <td>2021-06-16 12:59:03</td>\n",
       "      <td>0.0</td>\n",
       "      <td>Jesper Red Denmark</td>\n",
       "      <td>3</td>\n",
       "      <td>Fungerer rigtig godt og meget spændende podcas...</td>\n",
       "      <td>2</td>\n",
       "      <td>0.333333</td>\n",
       "      <td>0.666667</td>\n",
       "    </tr>\n",
       "    <tr>\n",
       "      <th>1131000</th>\n",
       "      <td>Century College</td>\n",
       "      <td>com.readyeducation.centurycollege</td>\n",
       "      <td>Education</td>\n",
       "      <td>2.236068</td>\n",
       "      <td>2.302585</td>\n",
       "      <td>100+</td>\n",
       "      <td>100.0</td>\n",
       "      <td>230</td>\n",
       "      <td>True</td>\n",
       "      <td>0.0</td>\n",
       "      <td>...</td>\n",
       "      <td>False</td>\n",
       "      <td>False</td>\n",
       "      <td>2021-06-16 12:59:17</td>\n",
       "      <td>0.0</td>\n",
       "      <td>JoMarie Marks</td>\n",
       "      <td>5</td>\n",
       "      <td>The app has been pretty helpful so far! If you...</td>\n",
       "      <td>2</td>\n",
       "      <td>0.302083</td>\n",
       "      <td>0.604167</td>\n",
       "    </tr>\n",
       "    <tr>\n",
       "      <th>1131001</th>\n",
       "      <td>Century College</td>\n",
       "      <td>com.readyeducation.centurycollege</td>\n",
       "      <td>Education</td>\n",
       "      <td>2.236068</td>\n",
       "      <td>2.302585</td>\n",
       "      <td>100+</td>\n",
       "      <td>100.0</td>\n",
       "      <td>230</td>\n",
       "      <td>True</td>\n",
       "      <td>0.0</td>\n",
       "      <td>...</td>\n",
       "      <td>False</td>\n",
       "      <td>False</td>\n",
       "      <td>2021-06-16 12:59:17</td>\n",
       "      <td>0.0</td>\n",
       "      <td>Danielle lynn Buettner</td>\n",
       "      <td>3</td>\n",
       "      <td>It needs to be up to date.</td>\n",
       "      <td>2</td>\n",
       "      <td>0.000000</td>\n",
       "      <td>0.000000</td>\n",
       "    </tr>\n",
       "  </tbody>\n",
       "</table>\n",
       "<p>1000397 rows × 31 columns</p>\n",
       "</div>"
      ],
      "text/plain": [
       "                  App Name                             app_id  \\\n",
       "2                  GaiaZOO            nl.haveaniceday.gaiazoo   \n",
       "3                  GaiaZOO            nl.haveaniceday.gaiazoo   \n",
       "4                  GaiaZOO            nl.haveaniceday.gaiazoo   \n",
       "5                  GaiaZOO            nl.haveaniceday.gaiazoo   \n",
       "6              ICE Connect              com.theice.marketdata   \n",
       "...                    ...                                ...   \n",
       "1130994  Politiken Podcast                     dk.pol.podcast   \n",
       "1130995  Politiken Podcast                     dk.pol.podcast   \n",
       "1130996  Politiken Podcast                     dk.pol.podcast   \n",
       "1131000    Century College  com.readyeducation.centurycollege   \n",
       "1131001    Century College  com.readyeducation.centurycollege   \n",
       "\n",
       "                 Category    Rating  Rating Count Installs  Minimum Installs  \\\n",
       "2          Travel & Local  1.843909      4.204693  10,000+           10000.0   \n",
       "3          Travel & Local  1.843909      4.204693  10,000+           10000.0   \n",
       "4          Travel & Local  1.843909      4.204693  10,000+           10000.0   \n",
       "5          Travel & Local  1.843909      4.204693  10,000+           10000.0   \n",
       "6                 Finance  2.000000      2.397895   1,000+            1000.0   \n",
       "...                   ...       ...           ...      ...               ...   \n",
       "1130994  News & Magazines  1.516575      4.804021  10,000+           10000.0   \n",
       "1130995  News & Magazines  1.516575      4.804021  10,000+           10000.0   \n",
       "1130996  News & Magazines  1.516575      4.804021  10,000+           10000.0   \n",
       "1131000         Education  2.236068      2.302585     100+             100.0   \n",
       "1131001         Education  2.236068      2.302585     100+             100.0   \n",
       "\n",
       "         Maximum Installs  Free  Price  ... In App Purchases Editors Choice  \\\n",
       "2                   30921  True    0.0  ...            False          False   \n",
       "3                   30921  True    0.0  ...            False          False   \n",
       "4                   30921  True    0.0  ...            False          False   \n",
       "5                   30921  True    0.0  ...            False          False   \n",
       "6                    4134  True    0.0  ...            False          False   \n",
       "...                   ...   ...    ...  ...              ...            ...   \n",
       "1130994             44275  True    0.0  ...            False          False   \n",
       "1130995             44275  True    0.0  ...            False          False   \n",
       "1130996             44275  True    0.0  ...            False          False   \n",
       "1131000               230  True    0.0  ...            False          False   \n",
       "1131001               230  True    0.0  ...            False          False   \n",
       "\n",
       "                Scraped Time Unnamed: 0               user_name score  \\\n",
       "2        2021-06-15 20:19:37        0.0       Chris Breederveld     4   \n",
       "3        2021-06-15 20:19:37        0.0                  Fantom     2   \n",
       "4        2021-06-15 20:19:37        0.0           A Google user     2   \n",
       "5        2021-06-15 20:19:37        0.0              Janneman96     5   \n",
       "6        2021-06-15 20:19:42        0.0                Zod Bahr     1   \n",
       "...                      ...        ...                     ...   ...   \n",
       "1130994  2021-06-16 12:59:03        0.0           A Google user     4   \n",
       "1130995  2021-06-16 12:59:03        0.0      Christopher Bjerre     4   \n",
       "1130996  2021-06-16 12:59:03        0.0      Jesper Red Denmark     3   \n",
       "1131000  2021-06-16 12:59:17        0.0           JoMarie Marks     5   \n",
       "1131001  2021-06-16 12:59:17        0.0  Danielle lynn Buettner     3   \n",
       "\n",
       "                                                   content likes  polarity  \\\n",
       "2        Handige kaart met locatie, leuke quiz, maar he...     1  0.000000   \n",
       "3        Back button anywhere kills the app instead of ...     1  0.052381   \n",
       "4                                            Doet het niet     2  0.000000   \n",
       "5                                      Echt super vet!! :)     2  0.510417   \n",
       "6        It didn't work. It said login failed. When I l...     5 -0.500000   \n",
       "...                                                    ...   ...       ...   \n",
       "1130994  Efter at have brugt appen et par uger fungerer...     5  0.000000   \n",
       "1130995        Dejligt simpel. Kunne godt bruge Chromecast     2  0.000000   \n",
       "1130996  Fungerer rigtig godt og meget spændende podcas...     2  0.333333   \n",
       "1131000  The app has been pretty helpful so far! If you...     2  0.302083   \n",
       "1131001                         It needs to be up to date.     2  0.000000   \n",
       "\n",
       "            WHOOP  \n",
       "2        0.000000  \n",
       "3        0.052381  \n",
       "4        0.000000  \n",
       "5        1.020833  \n",
       "6       -2.500000  \n",
       "...           ...  \n",
       "1130994  0.000000  \n",
       "1130995  0.000000  \n",
       "1130996  0.666667  \n",
       "1131000  0.604167  \n",
       "1131001  0.000000  \n",
       "\n",
       "[1000397 rows x 31 columns]"
      ]
     },
     "execution_count": 20,
     "metadata": {},
     "output_type": "execute_result"
    }
   ],
   "source": [
    "asdf"
   ]
  },
  {
   "cell_type": "code",
   "execution_count": 46,
   "id": "a5d21ff1",
   "metadata": {},
   "outputs": [],
   "source": [
    "features = ['Rating', 'polarity', 'Rating Count', 'Minimum Installs', 'Maximum Installs', 'Free', 'Price']\n",
    "# apps = apps[features]"
   ]
  },
  {
   "cell_type": "code",
   "execution_count": 10,
   "id": "91aac105",
   "metadata": {},
   "outputs": [
    {
     "data": {
      "text/html": [
       "<div>\n",
       "<style scoped>\n",
       "    .dataframe tbody tr th:only-of-type {\n",
       "        vertical-align: middle;\n",
       "    }\n",
       "\n",
       "    .dataframe tbody tr th {\n",
       "        vertical-align: top;\n",
       "    }\n",
       "\n",
       "    .dataframe thead th {\n",
       "        text-align: right;\n",
       "    }\n",
       "</style>\n",
       "<table border=\"1\" class=\"dataframe\">\n",
       "  <thead>\n",
       "    <tr style=\"text-align: right;\">\n",
       "      <th></th>\n",
       "      <th>Rating</th>\n",
       "      <th>polarity</th>\n",
       "      <th>Rating Count</th>\n",
       "      <th>Minimum Installs</th>\n",
       "      <th>Maximum Installs</th>\n",
       "      <th>Free</th>\n",
       "      <th>Price</th>\n",
       "      <th>installs</th>\n",
       "    </tr>\n",
       "    <tr>\n",
       "      <th>app_id</th>\n",
       "      <th></th>\n",
       "      <th></th>\n",
       "      <th></th>\n",
       "      <th></th>\n",
       "      <th></th>\n",
       "      <th></th>\n",
       "      <th></th>\n",
       "      <th></th>\n",
       "    </tr>\n",
       "  </thead>\n",
       "  <tbody>\n",
       "    <tr>\n",
       "      <th>ac.lite</th>\n",
       "      <td>4.1</td>\n",
       "      <td>0.023030</td>\n",
       "      <td>16677.0</td>\n",
       "      <td>1000000.0</td>\n",
       "      <td>2863010.0</td>\n",
       "      <td>True</td>\n",
       "      <td>0.0</td>\n",
       "      <td>1931505.0</td>\n",
       "    </tr>\n",
       "    <tr>\n",
       "      <th>ad.RailWiki</th>\n",
       "      <td>5.0</td>\n",
       "      <td>0.517929</td>\n",
       "      <td>111.0</td>\n",
       "      <td>100.0</td>\n",
       "      <td>199.0</td>\n",
       "      <td>True</td>\n",
       "      <td>0.0</td>\n",
       "      <td>149.5</td>\n",
       "    </tr>\n",
       "    <tr>\n",
       "      <th>ad.my.plan</th>\n",
       "      <td>3.4</td>\n",
       "      <td>0.240000</td>\n",
       "      <td>14.0</td>\n",
       "      <td>5000.0</td>\n",
       "      <td>5468.0</td>\n",
       "      <td>True</td>\n",
       "      <td>0.0</td>\n",
       "      <td>5234.0</td>\n",
       "    </tr>\n",
       "    <tr>\n",
       "      <th>advenworks.com.snakeblast</th>\n",
       "      <td>3.8</td>\n",
       "      <td>0.020089</td>\n",
       "      <td>8191.0</td>\n",
       "      <td>500000.0</td>\n",
       "      <td>507611.0</td>\n",
       "      <td>True</td>\n",
       "      <td>0.0</td>\n",
       "      <td>503805.5</td>\n",
       "    </tr>\n",
       "    <tr>\n",
       "      <th>ae.ac.sharjah.UOSmobile</th>\n",
       "      <td>3.8</td>\n",
       "      <td>0.236684</td>\n",
       "      <td>17.0</td>\n",
       "      <td>1000.0</td>\n",
       "      <td>4996.0</td>\n",
       "      <td>True</td>\n",
       "      <td>0.0</td>\n",
       "      <td>2998.0</td>\n",
       "    </tr>\n",
       "    <tr>\n",
       "      <th>ae.admedia.adfm</th>\n",
       "      <td>4.7</td>\n",
       "      <td>0.000000</td>\n",
       "      <td>20.0</td>\n",
       "      <td>1000.0</td>\n",
       "      <td>2892.0</td>\n",
       "      <td>True</td>\n",
       "      <td>0.0</td>\n",
       "      <td>1946.0</td>\n",
       "    </tr>\n",
       "    <tr>\n",
       "      <th>ae.admedia.qurankareem</th>\n",
       "      <td>4.5</td>\n",
       "      <td>0.250769</td>\n",
       "      <td>52.0</td>\n",
       "      <td>5000.0</td>\n",
       "      <td>5524.0</td>\n",
       "      <td>True</td>\n",
       "      <td>0.0</td>\n",
       "      <td>5262.0</td>\n",
       "    </tr>\n",
       "    <tr>\n",
       "      <th>ae.admedia.starfm</th>\n",
       "      <td>4.9</td>\n",
       "      <td>0.650000</td>\n",
       "      <td>20.0</td>\n",
       "      <td>1000.0</td>\n",
       "      <td>3684.0</td>\n",
       "      <td>True</td>\n",
       "      <td>0.0</td>\n",
       "      <td>2342.0</td>\n",
       "    </tr>\n",
       "    <tr>\n",
       "      <th>ae.adnoc.offers</th>\n",
       "      <td>3.5</td>\n",
       "      <td>0.187095</td>\n",
       "      <td>88.0</td>\n",
       "      <td>10000.0</td>\n",
       "      <td>20275.0</td>\n",
       "      <td>True</td>\n",
       "      <td>0.0</td>\n",
       "      <td>15137.5</td>\n",
       "    </tr>\n",
       "    <tr>\n",
       "      <th>ae.adports.maqtagateway.margo</th>\n",
       "      <td>5.0</td>\n",
       "      <td>0.147672</td>\n",
       "      <td>10.0</td>\n",
       "      <td>50.0</td>\n",
       "      <td>87.0</td>\n",
       "      <td>True</td>\n",
       "      <td>0.0</td>\n",
       "      <td>68.5</td>\n",
       "    </tr>\n",
       "  </tbody>\n",
       "</table>\n",
       "</div>"
      ],
      "text/plain": [
       "                               Rating  polarity  Rating Count  \\\n",
       "app_id                                                          \n",
       "ac.lite                           4.1  0.023030       16677.0   \n",
       "ad.RailWiki                       5.0  0.517929         111.0   \n",
       "ad.my.plan                        3.4  0.240000          14.0   \n",
       "advenworks.com.snakeblast         3.8  0.020089        8191.0   \n",
       "ae.ac.sharjah.UOSmobile           3.8  0.236684          17.0   \n",
       "ae.admedia.adfm                   4.7  0.000000          20.0   \n",
       "ae.admedia.qurankareem            4.5  0.250769          52.0   \n",
       "ae.admedia.starfm                 4.9  0.650000          20.0   \n",
       "ae.adnoc.offers                   3.5  0.187095          88.0   \n",
       "ae.adports.maqtagateway.margo     5.0  0.147672          10.0   \n",
       "\n",
       "                               Minimum Installs  Maximum Installs  Free  \\\n",
       "app_id                                                                    \n",
       "ac.lite                               1000000.0         2863010.0  True   \n",
       "ad.RailWiki                               100.0             199.0  True   \n",
       "ad.my.plan                               5000.0            5468.0  True   \n",
       "advenworks.com.snakeblast              500000.0          507611.0  True   \n",
       "ae.ac.sharjah.UOSmobile                  1000.0            4996.0  True   \n",
       "ae.admedia.adfm                          1000.0            2892.0  True   \n",
       "ae.admedia.qurankareem                   5000.0            5524.0  True   \n",
       "ae.admedia.starfm                        1000.0            3684.0  True   \n",
       "ae.adnoc.offers                         10000.0           20275.0  True   \n",
       "ae.adports.maqtagateway.margo              50.0              87.0  True   \n",
       "\n",
       "                               Price   installs  \n",
       "app_id                                           \n",
       "ac.lite                          0.0  1931505.0  \n",
       "ad.RailWiki                      0.0      149.5  \n",
       "ad.my.plan                       0.0     5234.0  \n",
       "advenworks.com.snakeblast        0.0   503805.5  \n",
       "ae.ac.sharjah.UOSmobile          0.0     2998.0  \n",
       "ae.admedia.adfm                  0.0     1946.0  \n",
       "ae.admedia.qurankareem           0.0     5262.0  \n",
       "ae.admedia.starfm                0.0     2342.0  \n",
       "ae.adnoc.offers                  0.0    15137.5  \n",
       "ae.adports.maqtagateway.margo    0.0       68.5  "
      ]
     },
     "execution_count": 10,
     "metadata": {},
     "output_type": "execute_result"
    }
   ],
   "source": [
    "apps['installs'] = (apps['Minimum Installs'] + apps['Maximum Installs']) / 2\n",
    "# apps.drop(['Minimum Installs', 'Maximum Installs'], axis=1, inplace=True)\n",
    "apps.head(10)"
   ]
  },
  {
   "cell_type": "code",
   "execution_count": 11,
   "id": "83718092",
   "metadata": {},
   "outputs": [
    {
     "data": {
      "text/html": [
       "<div>\n",
       "<style scoped>\n",
       "    .dataframe tbody tr th:only-of-type {\n",
       "        vertical-align: middle;\n",
       "    }\n",
       "\n",
       "    .dataframe tbody tr th {\n",
       "        vertical-align: top;\n",
       "    }\n",
       "\n",
       "    .dataframe thead th {\n",
       "        text-align: right;\n",
       "    }\n",
       "</style>\n",
       "<table border=\"1\" class=\"dataframe\">\n",
       "  <thead>\n",
       "    <tr style=\"text-align: right;\">\n",
       "      <th></th>\n",
       "      <th>Rating</th>\n",
       "      <th>polarity</th>\n",
       "      <th>Rating Count</th>\n",
       "      <th>Minimum Installs</th>\n",
       "      <th>Maximum Installs</th>\n",
       "      <th>Free</th>\n",
       "      <th>Price</th>\n",
       "      <th>installs</th>\n",
       "    </tr>\n",
       "  </thead>\n",
       "  <tbody>\n",
       "    <tr>\n",
       "      <th>Rating</th>\n",
       "      <td>1.000000</td>\n",
       "      <td>0.493591</td>\n",
       "      <td>0.023201</td>\n",
       "      <td>0.019362</td>\n",
       "      <td>0.019194</td>\n",
       "      <td>-0.062361</td>\n",
       "      <td>0.045104</td>\n",
       "      <td>0.019397</td>\n",
       "    </tr>\n",
       "    <tr>\n",
       "      <th>polarity</th>\n",
       "      <td>0.493591</td>\n",
       "      <td>1.000000</td>\n",
       "      <td>-0.028042</td>\n",
       "      <td>-0.033051</td>\n",
       "      <td>-0.032300</td>\n",
       "      <td>0.007907</td>\n",
       "      <td>-0.000756</td>\n",
       "      <td>-0.032809</td>\n",
       "    </tr>\n",
       "    <tr>\n",
       "      <th>Rating Count</th>\n",
       "      <td>0.023201</td>\n",
       "      <td>-0.028042</td>\n",
       "      <td>1.000000</td>\n",
       "      <td>0.749918</td>\n",
       "      <td>0.729861</td>\n",
       "      <td>0.003840</td>\n",
       "      <td>-0.001806</td>\n",
       "      <td>0.742463</td>\n",
       "    </tr>\n",
       "    <tr>\n",
       "      <th>Minimum Installs</th>\n",
       "      <td>0.019362</td>\n",
       "      <td>-0.033051</td>\n",
       "      <td>0.749918</td>\n",
       "      <td>1.000000</td>\n",
       "      <td>0.967621</td>\n",
       "      <td>0.009605</td>\n",
       "      <td>-0.006921</td>\n",
       "      <td>0.986390</td>\n",
       "    </tr>\n",
       "    <tr>\n",
       "      <th>Maximum Installs</th>\n",
       "      <td>0.019194</td>\n",
       "      <td>-0.032300</td>\n",
       "      <td>0.729861</td>\n",
       "      <td>0.967621</td>\n",
       "      <td>1.000000</td>\n",
       "      <td>0.009309</td>\n",
       "      <td>-0.006634</td>\n",
       "      <td>0.995954</td>\n",
       "    </tr>\n",
       "    <tr>\n",
       "      <th>Free</th>\n",
       "      <td>-0.062361</td>\n",
       "      <td>0.007907</td>\n",
       "      <td>0.003840</td>\n",
       "      <td>0.009605</td>\n",
       "      <td>0.009309</td>\n",
       "      <td>1.000000</td>\n",
       "      <td>-0.716347</td>\n",
       "      <td>0.009484</td>\n",
       "    </tr>\n",
       "    <tr>\n",
       "      <th>Price</th>\n",
       "      <td>0.045104</td>\n",
       "      <td>-0.000756</td>\n",
       "      <td>-0.001806</td>\n",
       "      <td>-0.006921</td>\n",
       "      <td>-0.006634</td>\n",
       "      <td>-0.716347</td>\n",
       "      <td>1.000000</td>\n",
       "      <td>-0.006786</td>\n",
       "    </tr>\n",
       "    <tr>\n",
       "      <th>installs</th>\n",
       "      <td>0.019397</td>\n",
       "      <td>-0.032809</td>\n",
       "      <td>0.742463</td>\n",
       "      <td>0.986390</td>\n",
       "      <td>0.995954</td>\n",
       "      <td>0.009484</td>\n",
       "      <td>-0.006786</td>\n",
       "      <td>1.000000</td>\n",
       "    </tr>\n",
       "  </tbody>\n",
       "</table>\n",
       "</div>"
      ],
      "text/plain": [
       "                    Rating  polarity  Rating Count  Minimum Installs  \\\n",
       "Rating            1.000000  0.493591      0.023201          0.019362   \n",
       "polarity          0.493591  1.000000     -0.028042         -0.033051   \n",
       "Rating Count      0.023201 -0.028042      1.000000          0.749918   \n",
       "Minimum Installs  0.019362 -0.033051      0.749918          1.000000   \n",
       "Maximum Installs  0.019194 -0.032300      0.729861          0.967621   \n",
       "Free             -0.062361  0.007907      0.003840          0.009605   \n",
       "Price             0.045104 -0.000756     -0.001806         -0.006921   \n",
       "installs          0.019397 -0.032809      0.742463          0.986390   \n",
       "\n",
       "                  Maximum Installs      Free     Price  installs  \n",
       "Rating                    0.019194 -0.062361  0.045104  0.019397  \n",
       "polarity                 -0.032300  0.007907 -0.000756 -0.032809  \n",
       "Rating Count              0.729861  0.003840 -0.001806  0.742463  \n",
       "Minimum Installs          0.967621  0.009605 -0.006921  0.986390  \n",
       "Maximum Installs          1.000000  0.009309 -0.006634  0.995954  \n",
       "Free                      0.009309  1.000000 -0.716347  0.009484  \n",
       "Price                    -0.006634 -0.716347  1.000000 -0.006786  \n",
       "installs                  0.995954  0.009484 -0.006786  1.000000  "
      ]
     },
     "execution_count": 11,
     "metadata": {},
     "output_type": "execute_result"
    }
   ],
   "source": [
    "# apps.head()\n",
    "# apps.shape\n",
    "# apps.columns\n",
    "# apps.info()\n",
    "# apps.describe()\n",
    "apps.corr()\n",
    "# apps.dropna().shape\n",
    "# apps[apps.isna().any(axis=1)]"
   ]
  },
  {
   "cell_type": "code",
   "execution_count": 12,
   "id": "ce07b492",
   "metadata": {},
   "outputs": [
    {
     "data": {
      "image/png": "[encoded data removed]",
      "text/plain": [
       "<Figure size 432x288 with 1 Axes>"
      ]
     },
     "metadata": {
      "needs_background": "light"
     },
     "output_type": "display_data"
    }
   ],
   "source": [
    "sns.countplot(x='Free', data=apps)\n",
    "plt.rcParams[\"figure.figsize\"] = (40,12)\n",
    "plt.xticks(rotation=45) \n",
    "plt.show()"
   ]
  },
  {
   "cell_type": "markdown",
   "id": "b07bce72",
   "metadata": {},
   "source": [
    "since most apps are free, we'll remove Free and Price columns"
   ]
  },
  {
   "cell_type": "code",
   "execution_count": 13,
   "id": "80dae88d",
   "metadata": {},
   "outputs": [],
   "source": [
    "apps.drop(['Price', 'Free'], axis=1, inplace=True)"
   ]
  },
  {
   "cell_type": "code",
   "execution_count": 14,
   "id": "0f9b8f91",
   "metadata": {},
   "outputs": [
    {
     "data": {
      "text/html": [
       "<div>\n",
       "<style scoped>\n",
       "    .dataframe tbody tr th:only-of-type {\n",
       "        vertical-align: middle;\n",
       "    }\n",
       "\n",
       "    .dataframe tbody tr th {\n",
       "        vertical-align: top;\n",
       "    }\n",
       "\n",
       "    .dataframe thead th {\n",
       "        text-align: right;\n",
       "    }\n",
       "</style>\n",
       "<table border=\"1\" class=\"dataframe\">\n",
       "  <thead>\n",
       "    <tr style=\"text-align: right;\">\n",
       "      <th></th>\n",
       "      <th>Rating</th>\n",
       "      <th>polarity</th>\n",
       "      <th>Rating Count</th>\n",
       "      <th>Minimum Installs</th>\n",
       "      <th>Maximum Installs</th>\n",
       "      <th>installs</th>\n",
       "    </tr>\n",
       "    <tr>\n",
       "      <th>app_id</th>\n",
       "      <th></th>\n",
       "      <th></th>\n",
       "      <th></th>\n",
       "      <th></th>\n",
       "      <th></th>\n",
       "      <th></th>\n",
       "    </tr>\n",
       "  </thead>\n",
       "  <tbody>\n",
       "    <tr>\n",
       "      <th>ac.lite</th>\n",
       "      <td>4.1</td>\n",
       "      <td>0.023030</td>\n",
       "      <td>16677.0</td>\n",
       "      <td>1000000.0</td>\n",
       "      <td>2863010.0</td>\n",
       "      <td>1931505.0</td>\n",
       "    </tr>\n",
       "    <tr>\n",
       "      <th>ad.RailWiki</th>\n",
       "      <td>5.0</td>\n",
       "      <td>0.517929</td>\n",
       "      <td>111.0</td>\n",
       "      <td>100.0</td>\n",
       "      <td>199.0</td>\n",
       "      <td>149.5</td>\n",
       "    </tr>\n",
       "    <tr>\n",
       "      <th>ad.my.plan</th>\n",
       "      <td>3.4</td>\n",
       "      <td>0.240000</td>\n",
       "      <td>14.0</td>\n",
       "      <td>5000.0</td>\n",
       "      <td>5468.0</td>\n",
       "      <td>5234.0</td>\n",
       "    </tr>\n",
       "    <tr>\n",
       "      <th>advenworks.com.snakeblast</th>\n",
       "      <td>3.8</td>\n",
       "      <td>0.020089</td>\n",
       "      <td>8191.0</td>\n",
       "      <td>500000.0</td>\n",
       "      <td>507611.0</td>\n",
       "      <td>503805.5</td>\n",
       "    </tr>\n",
       "    <tr>\n",
       "      <th>ae.ac.sharjah.UOSmobile</th>\n",
       "      <td>3.8</td>\n",
       "      <td>0.236684</td>\n",
       "      <td>17.0</td>\n",
       "      <td>1000.0</td>\n",
       "      <td>4996.0</td>\n",
       "      <td>2998.0</td>\n",
       "    </tr>\n",
       "  </tbody>\n",
       "</table>\n",
       "</div>"
      ],
      "text/plain": [
       "                           Rating  polarity  Rating Count  Minimum Installs  \\\n",
       "app_id                                                                        \n",
       "ac.lite                       4.1  0.023030       16677.0         1000000.0   \n",
       "ad.RailWiki                   5.0  0.517929         111.0             100.0   \n",
       "ad.my.plan                    3.4  0.240000          14.0            5000.0   \n",
       "advenworks.com.snakeblast     3.8  0.020089        8191.0          500000.0   \n",
       "ae.ac.sharjah.UOSmobile       3.8  0.236684          17.0            1000.0   \n",
       "\n",
       "                           Maximum Installs   installs  \n",
       "app_id                                                  \n",
       "ac.lite                           2863010.0  1931505.0  \n",
       "ad.RailWiki                           199.0      149.5  \n",
       "ad.my.plan                           5468.0     5234.0  \n",
       "advenworks.com.snakeblast          507611.0   503805.5  \n",
       "ae.ac.sharjah.UOSmobile              4996.0     2998.0  "
      ]
     },
     "execution_count": 14,
     "metadata": {},
     "output_type": "execute_result"
    }
   ],
   "source": [
    "apps.head()"
   ]
  },
  {
   "cell_type": "code",
   "execution_count": 15,
   "id": "5283eec1",
   "metadata": {},
   "outputs": [
    {
     "data": {
      "image/png": "[encoded data removed]",
      "text/plain": [
       "<Figure size 1440x792 with 2 Axes>"
      ]
     },
     "metadata": {
      "needs_background": "light"
     },
     "output_type": "display_data"
    }
   ],
   "source": [
    "plt.figure(figsize=(20, 11))\n",
    "cor = apps.corr()\n",
    "sns.heatmap(cor, annot=True, cmap=plt.cm.Reds)\n",
    "plt.show()"
   ]
  },
  {
   "cell_type": "markdown",
   "id": "f1148182",
   "metadata": {},
   "source": [
    "# Select features and target"
   ]
  },
  {
   "cell_type": "code",
   "execution_count": 40,
   "id": "29335966-2237-4e6d-89a6-682a9f9281ee",
   "metadata": {},
   "outputs": [],
   "source": [
    "apps['test'] = apps['installs'] /  apps['Rating Count']\n"
   ]
  },
  {
   "cell_type": "code",
   "execution_count": 150,
   "id": "e8224ec5-2739-4648-b88d-b185cdef50a6",
   "metadata": {},
   "outputs": [],
   "source": [
    "apps['Rating Count'] = np.log(apps['Rating Count'])"
   ]
  },
  {
   "cell_type": "code",
   "execution_count": 164,
   "id": "d1257b63-02e6-4e9d-8989-2af5ff87efcc",
   "metadata": {},
   "outputs": [],
   "source": [
    "asdf['Size'] = asdf['Size'][-1:]"
   ]
  },
  {
   "cell_type": "code",
   "execution_count": 165,
   "id": "7d431eaa",
   "metadata": {},
   "outputs": [],
   "source": [
    "features = ['polarity', 'Rating Count']\n",
    "y = apps['Rating']\n",
    "X = apps[features]"
   ]
  },
  {
   "cell_type": "code",
   "execution_count": 56,
   "id": "3cd41cdc",
   "metadata": {},
   "outputs": [],
   "source": [
    "# train_X, val_X, train_y, val_y = train_test_split(X, y, random_state = 1)\n",
    "X_train, X_test, y_train, y_test = train_test_split(asdf[features], asdf['Rating'], random_state = 69)"
   ]
  },
  {
   "cell_type": "code",
   "execution_count": 67,
   "id": "a90ef3c3-d084-4647-b282-1f763f6e8358",
   "metadata": {},
   "outputs": [
    {
     "data": {
      "text/plain": [
       "<matplotlib.collections.PathCollection at 0x7fbf27f0e7c0>"
      ]
     },
     "execution_count": 67,
     "metadata": {},
     "output_type": "execute_result"
    },
    {
     "data": {
      "image/png": "[encoded data removed]",
      "text/plain": [
       "<Figure size 2880x864 with 1 Axes>"
      ]
     },
     "metadata": {
      "needs_background": "light"
     },
     "output_type": "display_data"
    }
   ],
   "source": [
    "plt.scatter(apps['Rating'], np.log(apps['installs']))"
   ]
  },
  {
   "cell_type": "markdown",
   "id": "0312f957",
   "metadata": {},
   "source": [
    "# Decision Tree 🌲"
   ]
  },
  {
   "cell_type": "code",
   "execution_count": 83,
   "id": "df0e89ae",
   "metadata": {},
   "outputs": [
    {
     "data": {
      "text/plain": [
       "{14: 0.5182479240778987}"
      ]
     },
     "execution_count": 83,
     "metadata": {},
     "output_type": "execute_result"
    }
   ],
   "source": [
    "def get_mae(max_leaf_nodes, train_X, val_X, train_y, val_y):\n",
    "    model = DecisionTreeRegressor(max_leaf_nodes=max_leaf_nodes, random_state=0)\n",
    "    model.fit(train_X, train_y)\n",
    "    preds_val = model.predict(val_X)\n",
    "    mae = mean_absolute_error(val_y, preds_val)\n",
    "    return(mae)\n",
    "\n",
    "\n",
    "scores = {leaf_size: get_mae(leaf_size, train_X, val_X, train_y, val_y) for leaf_size in [14]}\n",
    "# min(scores, key=scores.get)\n",
    "scores"
   ]
  },
  {
   "cell_type": "code",
   "execution_count": 57,
   "id": "25e53609",
   "metadata": {},
   "outputs": [
    {
     "name": "stdout",
     "output_type": "stream",
     "text": [
      "MAE:  0.07393892704019132\n",
      "Decision Tree Score:  0.6560242995376016\n"
     ]
    }
   ],
   "source": [
    "decision_tree = DecisionTreeRegressor(max_leaf_nodes=50, min_samples_split=100, min_samples_leaf=100, max_features=2, random_state = 1)\n",
    "decision_tree.fit(X_train, y_train)\n",
    "\n",
    "val_predictions = np.around(decision_tree.predict(X_test), decimals=2)\n",
    "print(\"MAE: \",mean_absolute_error(y_test, val_predictions))\n",
    "print(\"Decision Tree Score: \", decision_tree.score(X_test, y_test))"
   ]
  },
  {
   "cell_type": "markdown",
   "id": "80302200",
   "metadata": {},
   "source": [
    "# Random Forest 🌳🌳🌳🌳"
   ]
  },
  {
   "cell_type": "code",
   "execution_count": 19,
   "id": "329e8e61",
   "metadata": {},
   "outputs": [
    {
     "name": "stdout",
     "output_type": "stream",
     "text": [
      "MAE:  1.0538496106188121e-05\n",
      "Random Forest Score:  0.9999929053723404\n"
     ]
    }
   ],
   "source": [
    "forest_model = make_pipeline(\n",
    "    StandardScaler(),\n",
    "    RandomForestRegressor(max_depth=15, n_estimators=100, min_samples_leaf=100, min_samples_split=500)\n",
    ").fit(X_train, y_train)\n",
    "\n",
    "preds = forest_model.predict(X_test)\n",
    "print(\"MAE: \",mean_absolute_error(y_test, preds))\n",
    "print(\"Random Forest Score: \", forest_model.score(X_test, y_test))"
   ]
  },
  {
   "cell_type": "markdown",
   "id": "b507aaa5",
   "metadata": {},
   "source": [
    "# K Nearest Neighbours"
   ]
  },
  {
   "cell_type": "code",
   "execution_count": 131,
   "id": "5c78e711",
   "metadata": {},
   "outputs": [
    {
     "name": "stdout",
     "output_type": "stream",
     "text": [
      "MAE:  0.02401420660246138\n",
      "-7.183183810283326\n"
     ]
    }
   ],
   "source": [
    "model = make_pipeline(\n",
    "#     StandardScaler(),\n",
    "    KNeighborsRegressor(n_neighbors=40)\n",
    ")\n",
    "model.fit(X_train, y_train)\n",
    "print(\"MAE: \",mean_absolute_error(y_test, model.predict(X_test)))\n",
    "\n",
    "print(model.score(val_X, val_y))"
   ]
  },
  {
   "cell_type": "markdown",
   "id": "d33bfa47",
   "metadata": {},
   "source": [
    "# SVM"
   ]
  },
  {
   "cell_type": "code",
   "execution_count": 133,
   "id": "071e0d62",
   "metadata": {},
   "outputs": [
    {
     "name": "stdout",
     "output_type": "stream",
     "text": [
      "MAE:  0.07505087016736636\n",
      "SVM Score:  0.7862302386553678\n"
     ]
    }
   ],
   "source": [
    "svm = make_pipeline(\n",
    "    StandardScaler(), \n",
    "    SVR(C=2.0, epsilon=0.2, degree=3)\n",
    ")\n",
    "svm.fit(X_train, y_train)\n",
    "print(\"MAE: \",mean_absolute_error(y_test, svm.predict(X_test)))\n",
    "\n",
    "print(\"SVM Score: \", svm.score(X_test, y_test))"
   ]
  },
  {
   "cell_type": "code",
   "execution_count": 134,
   "id": "a0ee7086",
   "metadata": {},
   "outputs": [
    {
     "name": "stdout",
     "output_type": "stream",
     "text": [
      "MAE:  3.810331167567883e-06\n"
     ]
    }
   ],
   "source": [
    "gbr = GradientBoostingRegressor(n_estimators=100, min_samples_leaf=10, max_depth=50)\n",
    "gbr.fit(X_train, y_train)\n",
    "print(\"MAE: \",mean_absolute_error(y_test, gbr.predict(X_test)))"
   ]
  },
  {
   "cell_type": "code",
   "execution_count": 55,
   "id": "a88fd19c-1365-4c36-9867-e24ed57b4ee3",
   "metadata": {},
   "outputs": [
    {
     "data": {
      "text/plain": [
       "0.2681080980655276"
      ]
     },
     "execution_count": 55,
     "metadata": {},
     "output_type": "execute_result"
    }
   ],
   "source": [
    "from sklearn.svm import LinearSVR\n",
    ">>> from sklearn.pipeline import make_pipeline\n",
    ">>> from sklearn.preprocessing import StandardScaler\n",
    ">>> from sklearn.datasets import make_regression\n",
    "\n",
    ">>> regr = make_pipeline(StandardScaler(),\n",
    "...                      LinearSVR(random_state=0, tol=1e-5, max_iter=5000))\n",
    ">>> regr.fit(train_X, train_y)\n",
    "regr.score(val_X, val_y)"
   ]
  },
  {
   "cell_type": "code",
   "execution_count": 33,
   "id": "a483dde2-20a7-4004-8389-8c35e434b852",
   "metadata": {},
   "outputs": [
    {
     "data": {
      "text/plain": [
       "0.26394395237770174"
      ]
     },
     "execution_count": 33,
     "metadata": {},
     "output_type": "execute_result"
    }
   ],
   "source": [
    "from sklearn.linear_model import LinearRegression\n",
    "from sklearn import linear_model\n",
    "\n",
    "reg = LinearRegression(fit_intercept=True).fit(train_X, train_y)\n",
    "reg.score(val_X, val_y)"
   ]
  },
  {
   "cell_type": "code",
   "execution_count": 34,
   "id": "8184eed4-3d75-455f-a862-267d0f316e76",
   "metadata": {},
   "outputs": [
    {
     "name": "stdout",
     "output_type": "stream",
     "text": [
      "MAE:  1.9844015077464612\n"
     ]
    },
    {
     "data": {
      "text/plain": [
       "0.26393723337607833"
      ]
     },
     "execution_count": 34,
     "metadata": {},
     "output_type": "execute_result"
    }
   ],
   "source": [
    "clf = linear_model.BayesianRidge(n_iter=3, alpha_1=1, alpha_2=0.87)\n",
    "clf.fit(train_X, train_y)\n",
    "print(\"MAE: \",mean_absolute_error(y_test, clf.predict(X_test)))\n",
    "clf.score(val_X, val_y)"
   ]
  },
  {
   "cell_type": "code",
   "execution_count": 35,
   "id": "4fc8cfa2-d18f-4b7a-88e2-97ee7480c373",
   "metadata": {},
   "outputs": [
    {
     "ename": "ValueError",
     "evalue": "Unknown label type: 'continuous'",
     "output_type": "error",
     "traceback": [
      "\u001b[0;31m---------------------------------------------------------------------------\u001b[0m",
      "\u001b[0;31mValueError\u001b[0m                                Traceback (most recent call last)",
      "\u001b[0;32m<ipython-input-35-25499789de98>\u001b[0m in \u001b[0;36m<module>\u001b[0;34m\u001b[0m\n\u001b[1;32m      1\u001b[0m \u001b[0;32mfrom\u001b[0m \u001b[0msklearn\u001b[0m\u001b[0;34m.\u001b[0m\u001b[0mlinear_model\u001b[0m \u001b[0;32mimport\u001b[0m \u001b[0mLogisticRegression\u001b[0m\u001b[0;34m\u001b[0m\u001b[0;34m\u001b[0m\u001b[0m\n\u001b[0;32m----> 2\u001b[0;31m \u001b[0mclf\u001b[0m \u001b[0;34m=\u001b[0m \u001b[0mLogisticRegression\u001b[0m\u001b[0;34m(\u001b[0m\u001b[0mrandom_state\u001b[0m\u001b[0;34m=\u001b[0m\u001b[0;36m0\u001b[0m\u001b[0;34m)\u001b[0m\u001b[0;34m.\u001b[0m\u001b[0mfit\u001b[0m\u001b[0;34m(\u001b[0m\u001b[0mtrain_X\u001b[0m\u001b[0;34m,\u001b[0m \u001b[0mtrain_y\u001b[0m\u001b[0;34m)\u001b[0m\u001b[0;34m\u001b[0m\u001b[0;34m\u001b[0m\u001b[0m\n\u001b[0m\u001b[1;32m      3\u001b[0m \u001b[0mclf\u001b[0m\u001b[0;34m.\u001b[0m\u001b[0mscore\u001b[0m\u001b[0;34m(\u001b[0m\u001b[0mval_X\u001b[0m\u001b[0;34m,\u001b[0m \u001b[0mval_y\u001b[0m\u001b[0;34m)\u001b[0m\u001b[0;34m\u001b[0m\u001b[0;34m\u001b[0m\u001b[0m\n\u001b[1;32m      4\u001b[0m \u001b[0mprint\u001b[0m\u001b[0;34m(\u001b[0m\u001b[0;34m\"MAE: \"\u001b[0m\u001b[0;34m,\u001b[0m\u001b[0mmean_absolute_error\u001b[0m\u001b[0;34m(\u001b[0m\u001b[0my_test\u001b[0m\u001b[0;34m,\u001b[0m \u001b[0mclf\u001b[0m\u001b[0;34m.\u001b[0m\u001b[0mpredict\u001b[0m\u001b[0;34m(\u001b[0m\u001b[0mX_test\u001b[0m\u001b[0;34m)\u001b[0m\u001b[0;34m)\u001b[0m\u001b[0;34m)\u001b[0m\u001b[0;34m\u001b[0m\u001b[0;34m\u001b[0m\u001b[0m\n",
      "\u001b[0;32m~/opt/anaconda3/lib/python3.8/site-packages/sklearn/linear_model/_logistic.py\u001b[0m in \u001b[0;36mfit\u001b[0;34m(self, X, y, sample_weight)\u001b[0m\n\u001b[1;32m   1345\u001b[0m                                    \u001b[0morder\u001b[0m\u001b[0;34m=\u001b[0m\u001b[0;34m\"C\"\u001b[0m\u001b[0;34m,\u001b[0m\u001b[0;34m\u001b[0m\u001b[0;34m\u001b[0m\u001b[0m\n\u001b[1;32m   1346\u001b[0m                                    accept_large_sparse=solver != 'liblinear')\n\u001b[0;32m-> 1347\u001b[0;31m         \u001b[0mcheck_classification_targets\u001b[0m\u001b[0;34m(\u001b[0m\u001b[0my\u001b[0m\u001b[0;34m)\u001b[0m\u001b[0;34m\u001b[0m\u001b[0;34m\u001b[0m\u001b[0m\n\u001b[0m\u001b[1;32m   1348\u001b[0m         \u001b[0mself\u001b[0m\u001b[0;34m.\u001b[0m\u001b[0mclasses_\u001b[0m \u001b[0;34m=\u001b[0m \u001b[0mnp\u001b[0m\u001b[0;34m.\u001b[0m\u001b[0munique\u001b[0m\u001b[0;34m(\u001b[0m\u001b[0my\u001b[0m\u001b[0;34m)\u001b[0m\u001b[0;34m\u001b[0m\u001b[0;34m\u001b[0m\u001b[0m\n\u001b[1;32m   1349\u001b[0m \u001b[0;34m\u001b[0m\u001b[0m\n",
      "\u001b[0;32m~/opt/anaconda3/lib/python3.8/site-packages/sklearn/utils/multiclass.py\u001b[0m in \u001b[0;36mcheck_classification_targets\u001b[0;34m(y)\u001b[0m\n\u001b[1;32m    181\u001b[0m     if y_type not in ['binary', 'multiclass', 'multiclass-multioutput',\n\u001b[1;32m    182\u001b[0m                       'multilabel-indicator', 'multilabel-sequences']:\n\u001b[0;32m--> 183\u001b[0;31m         \u001b[0;32mraise\u001b[0m \u001b[0mValueError\u001b[0m\u001b[0;34m(\u001b[0m\u001b[0;34m\"Unknown label type: %r\"\u001b[0m \u001b[0;34m%\u001b[0m \u001b[0my_type\u001b[0m\u001b[0;34m)\u001b[0m\u001b[0;34m\u001b[0m\u001b[0;34m\u001b[0m\u001b[0m\n\u001b[0m\u001b[1;32m    184\u001b[0m \u001b[0;34m\u001b[0m\u001b[0m\n\u001b[1;32m    185\u001b[0m \u001b[0;34m\u001b[0m\u001b[0m\n",
      "\u001b[0;31mValueError\u001b[0m: Unknown label type: 'continuous'"
     ]
    }
   ],
   "source": [
    "from sklearn.linear_model import LogisticRegression\n",
    "clf = LogisticRegression(random_state=0).fit(train_X, train_y)\n",
    "clf.score(val_X, val_y)\n",
    "print(\"MAE: \",mean_absolute_error(y_test, clf.predict(X_test)))\n"
   ]
  },
  {
   "cell_type": "code",
   "execution_count": 179,
   "id": "3d780a1c-2fd9-42d6-b2cd-2f3ea949c1b5",
   "metadata": {},
   "outputs": [
    {
     "name": "stdout",
     "output_type": "stream",
     "text": [
      "MAE:  0.14345761373593044\n"
     ]
    },
    {
     "data": {
      "text/plain": [
       "-1.4530117271593923e-06"
      ]
     },
     "execution_count": 179,
     "metadata": {},
     "output_type": "execute_result"
    }
   ],
   "source": [
    "from sklearn.neural_network import MLPRegressor\n",
    "model = MLPRegressor(hidden_layer_sizes=(10, 20, 30, 40, 30, 20),\n",
    "                     activation='logistic', solver='lbfgs')\n",
    "model.fit(X_train, y_train)\n",
    "print(\"MAE: \",mean_absolute_error(y_test, model.predict(X_test)))\n",
    "model.score(X_test, y_test)\n"
   ]
  }
 ],
 "metadata": {
  "kernelspec": {
   "display_name": "Python 3",
   "language": "python",
   "name": "python3"
  },
  "language_info": {
   "codemirror_mode": {
    "name": "ipython",
    "version": 3
   },
   "file_extension": ".py",
   "mimetype": "text/x-python",
   "name": "python",
   "nbconvert_exporter": "python",
   "pygments_lexer": "ipython3",
   "version": "3.8.8"
  }
 },
 "nbformat": 4,
 "nbformat_minor": 5
}
