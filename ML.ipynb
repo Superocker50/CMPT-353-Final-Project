{
 "cells": [
  {
   "cell_type": "code",
   "execution_count": 51,
   "metadata": {},
   "outputs": [],
   "source": [
    "import numpy as np\n",
    "import pandas as pd\n",
    "import matplotlib.pyplot as plt\n",
    "import seaborn as sns\n",
    "\n",
    "from sklearn.model_selection import train_test_split\n",
    "from sklearn.tree import DecisionTreeRegressor\n",
    "from sklearn.ensemble import RandomForestRegressor\n",
    "from sklearn.metrics import mean_absolute_error\n",
    "\n",
    "from sklearn.neighbors import KNeighborsRegressor\n",
    "from sklearn.svm import SVR\n",
    "from sklearn.pipeline import make_pipeline\n",
    "from sklearn.preprocessing import MinMaxScaler, StandardScaler"
   ]
  },
  {
   "cell_type": "code",
   "execution_count": 2,
   "metadata": {},
   "outputs": [],
   "source": [
    "google_apps = pd.read_csv('Google Play Store Apps.zip')\n",
    "google_reviews = pd.read_csv('google_app_reviews.csv')"
   ]
  },
  {
   "cell_type": "code",
   "execution_count": 3,
   "metadata": {},
   "outputs": [],
   "source": [
    "google_apps.rename(columns={'App Id': 'app_id'}, inplace=True)"
   ]
  },
  {
   "cell_type": "code",
   "execution_count": 4,
   "metadata": {},
   "outputs": [],
   "source": [
    "apps = google_apps.merge(google_reviews, on=\"app_id\", how='inner')"
   ]
  },
  {
   "cell_type": "code",
   "execution_count": 5,
   "metadata": {},
   "outputs": [],
   "source": [
    "apps = apps.groupby('app_id').mean()"
   ]
  },
  {
   "cell_type": "code",
   "execution_count": 6,
   "metadata": {},
   "outputs": [],
   "source": [
    "apps = apps[apps['Rating'] > 0]"
   ]
  },
  {
   "cell_type": "code",
   "execution_count": 7,
   "metadata": {},
   "outputs": [
    {
     "data": {
      "text/plain": [
       "<matplotlib.collections.PathCollection at 0x7fbfa1444208>"
      ]
     },
     "execution_count": 7,
     "metadata": {},
     "output_type": "execute_result"
    },
    {
     "data": {
      "image/png": "[encoded data removed]",
      "text/plain": [
       "<Figure size 432x288 with 1 Axes>"
      ]
     },
     "metadata": {
      "needs_background": "light"
     },
     "output_type": "display_data"
    }
   ],
   "source": [
    "plt.scatter(apps['polarity'], apps['Rating'])"
   ]
  },
  {
   "cell_type": "code",
   "execution_count": 10,
   "metadata": {},
   "outputs": [
    {
     "data": {
      "text/plain": [
       "Index(['Rating', 'Rating Count', 'Minimum Installs', 'Maximum Installs',\n",
       "       'Free', 'Price', 'Ad Supported', 'In App Purchases', 'Editors Choice',\n",
       "       'Unnamed: 0', 'score', 'likes', 'polarity'],\n",
       "      dtype='object')"
      ]
     },
     "execution_count": 10,
     "metadata": {},
     "output_type": "execute_result"
    }
   ],
   "source": [
    "apps.columns"
   ]
  },
  {
   "cell_type": "code",
   "execution_count": 11,
   "metadata": {},
   "outputs": [],
   "source": [
    "features = ['Rating', 'polarity', 'Rating Count', 'Minimum Installs', 'Maximum Installs', 'Free', 'Price']\n",
    "apps = apps[features]"
   ]
  },
  {
   "cell_type": "code",
   "execution_count": 21,
   "metadata": {},
   "outputs": [
    {
     "data": {
      "text/html": [
       "<div>\n",
       "<style scoped>\n",
       "    .dataframe tbody tr th:only-of-type {\n",
       "        vertical-align: middle;\n",
       "    }\n",
       "\n",
       "    .dataframe tbody tr th {\n",
       "        vertical-align: top;\n",
       "    }\n",
       "\n",
       "    .dataframe thead th {\n",
       "        text-align: right;\n",
       "    }\n",
       "</style>\n",
       "<table border=\"1\" class=\"dataframe\">\n",
       "  <thead>\n",
       "    <tr style=\"text-align: right;\">\n",
       "      <th></th>\n",
       "      <th>Rating</th>\n",
       "      <th>polarity</th>\n",
       "      <th>Rating Count</th>\n",
       "      <th>Free</th>\n",
       "      <th>Price</th>\n",
       "      <th>installs</th>\n",
       "    </tr>\n",
       "    <tr>\n",
       "      <th>app_id</th>\n",
       "      <th></th>\n",
       "      <th></th>\n",
       "      <th></th>\n",
       "      <th></th>\n",
       "      <th></th>\n",
       "      <th></th>\n",
       "    </tr>\n",
       "  </thead>\n",
       "  <tbody>\n",
       "    <tr>\n",
       "      <th>ac.lite</th>\n",
       "      <td>4.1</td>\n",
       "      <td>0.023030</td>\n",
       "      <td>16677.0</td>\n",
       "      <td>True</td>\n",
       "      <td>0.0</td>\n",
       "      <td>1931505.0</td>\n",
       "    </tr>\n",
       "    <tr>\n",
       "      <th>ad.RailWiki</th>\n",
       "      <td>5.0</td>\n",
       "      <td>0.517929</td>\n",
       "      <td>111.0</td>\n",
       "      <td>True</td>\n",
       "      <td>0.0</td>\n",
       "      <td>149.5</td>\n",
       "    </tr>\n",
       "    <tr>\n",
       "      <th>ad.my.plan</th>\n",
       "      <td>3.4</td>\n",
       "      <td>0.240000</td>\n",
       "      <td>14.0</td>\n",
       "      <td>True</td>\n",
       "      <td>0.0</td>\n",
       "      <td>5234.0</td>\n",
       "    </tr>\n",
       "    <tr>\n",
       "      <th>advenworks.com.snakeblast</th>\n",
       "      <td>3.8</td>\n",
       "      <td>0.020089</td>\n",
       "      <td>8191.0</td>\n",
       "      <td>True</td>\n",
       "      <td>0.0</td>\n",
       "      <td>503805.5</td>\n",
       "    </tr>\n",
       "    <tr>\n",
       "      <th>ae.ac.sharjah.UOSmobile</th>\n",
       "      <td>3.8</td>\n",
       "      <td>0.236684</td>\n",
       "      <td>17.0</td>\n",
       "      <td>True</td>\n",
       "      <td>0.0</td>\n",
       "      <td>2998.0</td>\n",
       "    </tr>\n",
       "    <tr>\n",
       "      <th>ae.admedia.adfm</th>\n",
       "      <td>4.7</td>\n",
       "      <td>0.000000</td>\n",
       "      <td>20.0</td>\n",
       "      <td>True</td>\n",
       "      <td>0.0</td>\n",
       "      <td>1946.0</td>\n",
       "    </tr>\n",
       "    <tr>\n",
       "      <th>ae.admedia.qurankareem</th>\n",
       "      <td>4.5</td>\n",
       "      <td>0.250769</td>\n",
       "      <td>52.0</td>\n",
       "      <td>True</td>\n",
       "      <td>0.0</td>\n",
       "      <td>5262.0</td>\n",
       "    </tr>\n",
       "    <tr>\n",
       "      <th>ae.admedia.starfm</th>\n",
       "      <td>4.9</td>\n",
       "      <td>0.650000</td>\n",
       "      <td>20.0</td>\n",
       "      <td>True</td>\n",
       "      <td>0.0</td>\n",
       "      <td>2342.0</td>\n",
       "    </tr>\n",
       "    <tr>\n",
       "      <th>ae.adnoc.offers</th>\n",
       "      <td>3.5</td>\n",
       "      <td>0.187095</td>\n",
       "      <td>88.0</td>\n",
       "      <td>True</td>\n",
       "      <td>0.0</td>\n",
       "      <td>15137.5</td>\n",
       "    </tr>\n",
       "    <tr>\n",
       "      <th>ae.adports.maqtagateway.margo</th>\n",
       "      <td>5.0</td>\n",
       "      <td>0.147672</td>\n",
       "      <td>10.0</td>\n",
       "      <td>True</td>\n",
       "      <td>0.0</td>\n",
       "      <td>68.5</td>\n",
       "    </tr>\n",
       "  </tbody>\n",
       "</table>\n",
       "</div>"
      ],
      "text/plain": [
       "                               Rating  polarity  Rating Count  Free  Price  \\\n",
       "app_id                                                                       \n",
       "ac.lite                           4.1  0.023030       16677.0  True    0.0   \n",
       "ad.RailWiki                       5.0  0.517929         111.0  True    0.0   \n",
       "ad.my.plan                        3.4  0.240000          14.0  True    0.0   \n",
       "advenworks.com.snakeblast         3.8  0.020089        8191.0  True    0.0   \n",
       "ae.ac.sharjah.UOSmobile           3.8  0.236684          17.0  True    0.0   \n",
       "ae.admedia.adfm                   4.7  0.000000          20.0  True    0.0   \n",
       "ae.admedia.qurankareem            4.5  0.250769          52.0  True    0.0   \n",
       "ae.admedia.starfm                 4.9  0.650000          20.0  True    0.0   \n",
       "ae.adnoc.offers                   3.5  0.187095          88.0  True    0.0   \n",
       "ae.adports.maqtagateway.margo     5.0  0.147672          10.0  True    0.0   \n",
       "\n",
       "                                installs  \n",
       "app_id                                    \n",
       "ac.lite                        1931505.0  \n",
       "ad.RailWiki                        149.5  \n",
       "ad.my.plan                        5234.0  \n",
       "advenworks.com.snakeblast       503805.5  \n",
       "ae.ac.sharjah.UOSmobile           2998.0  \n",
       "ae.admedia.adfm                   1946.0  \n",
       "ae.admedia.qurankareem            5262.0  \n",
       "ae.admedia.starfm                 2342.0  \n",
       "ae.adnoc.offers                  15137.5  \n",
       "ae.adports.maqtagateway.margo       68.5  "
      ]
     },
     "execution_count": 21,
     "metadata": {},
     "output_type": "execute_result"
    }
   ],
   "source": [
    "apps['installs'] = (apps['Minimum Installs'] + apps['Maximum Installs']) / 2\n",
    "apps.drop(['Minimum Installs', 'Maximum Installs'], axis=1, inplace=True)\n",
    "apps.head(10)"
   ]
  },
  {
   "cell_type": "code",
   "execution_count": 22,
   "metadata": {},
   "outputs": [
    {
     "data": {
      "text/html": [
       "<div>\n",
       "<style scoped>\n",
       "    .dataframe tbody tr th:only-of-type {\n",
       "        vertical-align: middle;\n",
       "    }\n",
       "\n",
       "    .dataframe tbody tr th {\n",
       "        vertical-align: top;\n",
       "    }\n",
       "\n",
       "    .dataframe thead th {\n",
       "        text-align: right;\n",
       "    }\n",
       "</style>\n",
       "<table border=\"1\" class=\"dataframe\">\n",
       "  <thead>\n",
       "    <tr style=\"text-align: right;\">\n",
       "      <th></th>\n",
       "      <th>Rating</th>\n",
       "      <th>polarity</th>\n",
       "      <th>Rating Count</th>\n",
       "      <th>Free</th>\n",
       "      <th>Price</th>\n",
       "      <th>installs</th>\n",
       "    </tr>\n",
       "  </thead>\n",
       "  <tbody>\n",
       "    <tr>\n",
       "      <th>Rating</th>\n",
       "      <td>1.000000</td>\n",
       "      <td>0.493591</td>\n",
       "      <td>0.023201</td>\n",
       "      <td>-0.062361</td>\n",
       "      <td>0.045104</td>\n",
       "      <td>0.019397</td>\n",
       "    </tr>\n",
       "    <tr>\n",
       "      <th>polarity</th>\n",
       "      <td>0.493591</td>\n",
       "      <td>1.000000</td>\n",
       "      <td>-0.028042</td>\n",
       "      <td>0.007907</td>\n",
       "      <td>-0.000756</td>\n",
       "      <td>-0.032809</td>\n",
       "    </tr>\n",
       "    <tr>\n",
       "      <th>Rating Count</th>\n",
       "      <td>0.023201</td>\n",
       "      <td>-0.028042</td>\n",
       "      <td>1.000000</td>\n",
       "      <td>0.003840</td>\n",
       "      <td>-0.001806</td>\n",
       "      <td>0.742463</td>\n",
       "    </tr>\n",
       "    <tr>\n",
       "      <th>Free</th>\n",
       "      <td>-0.062361</td>\n",
       "      <td>0.007907</td>\n",
       "      <td>0.003840</td>\n",
       "      <td>1.000000</td>\n",
       "      <td>-0.716347</td>\n",
       "      <td>0.009484</td>\n",
       "    </tr>\n",
       "    <tr>\n",
       "      <th>Price</th>\n",
       "      <td>0.045104</td>\n",
       "      <td>-0.000756</td>\n",
       "      <td>-0.001806</td>\n",
       "      <td>-0.716347</td>\n",
       "      <td>1.000000</td>\n",
       "      <td>-0.006786</td>\n",
       "    </tr>\n",
       "    <tr>\n",
       "      <th>installs</th>\n",
       "      <td>0.019397</td>\n",
       "      <td>-0.032809</td>\n",
       "      <td>0.742463</td>\n",
       "      <td>0.009484</td>\n",
       "      <td>-0.006786</td>\n",
       "      <td>1.000000</td>\n",
       "    </tr>\n",
       "  </tbody>\n",
       "</table>\n",
       "</div>"
      ],
      "text/plain": [
       "                Rating  polarity  Rating Count      Free     Price  installs\n",
       "Rating        1.000000  0.493591      0.023201 -0.062361  0.045104  0.019397\n",
       "polarity      0.493591  1.000000     -0.028042  0.007907 -0.000756 -0.032809\n",
       "Rating Count  0.023201 -0.028042      1.000000  0.003840 -0.001806  0.742463\n",
       "Free         -0.062361  0.007907      0.003840  1.000000 -0.716347  0.009484\n",
       "Price         0.045104 -0.000756     -0.001806 -0.716347  1.000000 -0.006786\n",
       "installs      0.019397 -0.032809      0.742463  0.009484 -0.006786  1.000000"
      ]
     },
     "execution_count": 22,
     "metadata": {},
     "output_type": "execute_result"
    }
   ],
   "source": [
    "# apps.head()\n",
    "# apps.shape\n",
    "# apps.columns\n",
    "# apps.info()\n",
    "# apps.describe()\n",
    "apps.corr()\n",
    "# apps.dropna().shape\n",
    "# apps[apps.isna().any(axis=1)]"
   ]
  },
  {
   "cell_type": "code",
   "execution_count": 20,
   "metadata": {},
   "outputs": [
    {
     "data": {
      "image/png": "[encoded data removed]",
      "text/plain": [
       "<Figure size 2880x864 with 1 Axes>"
      ]
     },
     "metadata": {
      "needs_background": "light"
     },
     "output_type": "display_data"
    }
   ],
   "source": [
    "sns.countplot(x='Free', data=apps)\n",
    "plt.rcParams[\"figure.figsize\"] = (40,12)\n",
    "plt.xticks(rotation=45) \n",
    "plt.show()"
   ]
  },
  {
   "cell_type": "markdown",
   "metadata": {},
   "source": [
    "since most apps are free, we'll remove Free and Price columns"
   ]
  },
  {
   "cell_type": "code",
   "execution_count": 23,
   "metadata": {},
   "outputs": [],
   "source": [
    "apps.drop(['Price', 'Free'], axis=1, inplace=True)"
   ]
  },
  {
   "cell_type": "code",
   "execution_count": 24,
   "metadata": {},
   "outputs": [
    {
     "data": {
      "text/html": [
       "<div>\n",
       "<style scoped>\n",
       "    .dataframe tbody tr th:only-of-type {\n",
       "        vertical-align: middle;\n",
       "    }\n",
       "\n",
       "    .dataframe tbody tr th {\n",
       "        vertical-align: top;\n",
       "    }\n",
       "\n",
       "    .dataframe thead th {\n",
       "        text-align: right;\n",
       "    }\n",
       "</style>\n",
       "<table border=\"1\" class=\"dataframe\">\n",
       "  <thead>\n",
       "    <tr style=\"text-align: right;\">\n",
       "      <th></th>\n",
       "      <th>Rating</th>\n",
       "      <th>polarity</th>\n",
       "      <th>Rating Count</th>\n",
       "      <th>installs</th>\n",
       "    </tr>\n",
       "    <tr>\n",
       "      <th>app_id</th>\n",
       "      <th></th>\n",
       "      <th></th>\n",
       "      <th></th>\n",
       "      <th></th>\n",
       "    </tr>\n",
       "  </thead>\n",
       "  <tbody>\n",
       "    <tr>\n",
       "      <th>ac.lite</th>\n",
       "      <td>4.1</td>\n",
       "      <td>0.023030</td>\n",
       "      <td>16677.0</td>\n",
       "      <td>1931505.0</td>\n",
       "    </tr>\n",
       "    <tr>\n",
       "      <th>ad.RailWiki</th>\n",
       "      <td>5.0</td>\n",
       "      <td>0.517929</td>\n",
       "      <td>111.0</td>\n",
       "      <td>149.5</td>\n",
       "    </tr>\n",
       "    <tr>\n",
       "      <th>ad.my.plan</th>\n",
       "      <td>3.4</td>\n",
       "      <td>0.240000</td>\n",
       "      <td>14.0</td>\n",
       "      <td>5234.0</td>\n",
       "    </tr>\n",
       "    <tr>\n",
       "      <th>advenworks.com.snakeblast</th>\n",
       "      <td>3.8</td>\n",
       "      <td>0.020089</td>\n",
       "      <td>8191.0</td>\n",
       "      <td>503805.5</td>\n",
       "    </tr>\n",
       "    <tr>\n",
       "      <th>ae.ac.sharjah.UOSmobile</th>\n",
       "      <td>3.8</td>\n",
       "      <td>0.236684</td>\n",
       "      <td>17.0</td>\n",
       "      <td>2998.0</td>\n",
       "    </tr>\n",
       "  </tbody>\n",
       "</table>\n",
       "</div>"
      ],
      "text/plain": [
       "                           Rating  polarity  Rating Count   installs\n",
       "app_id                                                              \n",
       "ac.lite                       4.1  0.023030       16677.0  1931505.0\n",
       "ad.RailWiki                   5.0  0.517929         111.0      149.5\n",
       "ad.my.plan                    3.4  0.240000          14.0     5234.0\n",
       "advenworks.com.snakeblast     3.8  0.020089        8191.0   503805.5\n",
       "ae.ac.sharjah.UOSmobile       3.8  0.236684          17.0     2998.0"
      ]
     },
     "execution_count": 24,
     "metadata": {},
     "output_type": "execute_result"
    }
   ],
   "source": [
    "apps.head()"
   ]
  },
  {
   "cell_type": "code",
   "execution_count": 27,
   "metadata": {},
   "outputs": [
    {
     "data": {
      "image/png": "[encoded data removed]",
      "text/plain": [
       "<Figure size 1440x792 with 2 Axes>"
      ]
     },
     "metadata": {
      "needs_background": "light"
     },
     "output_type": "display_data"
    }
   ],
   "source": [
    "plt.figure(figsize=(20, 11))\n",
    "cor = apps.corr()\n",
    "sns.heatmap(cor, annot=True, cmap=plt.cm.Reds)\n",
    "plt.show()"
   ]
  },
  {
   "cell_type": "markdown",
   "metadata": {},
   "source": [
    "# Select features and target"
   ]
  },
  {
   "cell_type": "code",
   "execution_count": 28,
   "metadata": {},
   "outputs": [],
   "source": [
    "features = ['polarity', 'Rating Count', 'installs']\n",
    "y = apps['Rating']\n",
    "X = apps[features]"
   ]
  },
  {
   "cell_type": "code",
   "execution_count": 30,
   "metadata": {},
   "outputs": [],
   "source": [
    "train_X, val_X, train_y, val_y = train_test_split(X, y, random_state = 1)"
   ]
  },
  {
   "cell_type": "markdown",
   "metadata": {},
   "source": [
    "# Decision Tree 🌲"
   ]
  },
  {
   "cell_type": "code",
   "execution_count": 41,
   "metadata": {},
   "outputs": [
    {
     "data": {
      "text/plain": [
       "14"
      ]
     },
     "execution_count": 41,
     "metadata": {},
     "output_type": "execute_result"
    }
   ],
   "source": [
    "def get_mae(max_leaf_nodes, train_X, val_X, train_y, val_y):\n",
    "    model = DecisionTreeRegressor(max_leaf_nodes=max_leaf_nodes, random_state=0)\n",
    "    model.fit(train_X, train_y)\n",
    "    preds_val = model.predict(val_X)\n",
    "    mae = mean_absolute_error(val_y, preds_val)\n",
    "    return(mae)\n",
    "\n",
    "\n",
    "scores = {leaf_size: get_mae(leaf_size, train_X, val_X, train_y, val_y) for leaf_size in [14]}\n",
    "# min(scores, key=scores.get)\n",
    "scores"
   ]
  },
  {
   "cell_type": "code",
   "execution_count": 49,
   "metadata": {},
   "outputs": [
    {
     "name": "stdout",
     "output_type": "stream",
     "text": [
      "MAE:  0.48354160968362403\n",
      "Decision Tree Score:  0.3545693183804499\n"
     ]
    }
   ],
   "source": [
    "decision_tree = DecisionTreeRegressor(max_leaf_nodes=7, random_state = 1)\n",
    "decision_tree.fit(train_X, train_y)\n",
    "\n",
    "val_predictions = decision_tree.predict(val_X)\n",
    "print(\"MAE: \",mean_absolute_error(val_y, val_predictions))\n",
    "print(\"Decision Tree Score: \", decision_tree.score(val_X, val_y))"
   ]
  },
  {
   "cell_type": "markdown",
   "metadata": {},
   "source": [
    "# Random Forest 🌳🌳🌳🌳"
   ]
  },
  {
   "cell_type": "code",
   "execution_count": 50,
   "metadata": {},
   "outputs": [
    {
     "name": "stderr",
     "output_type": "stream",
     "text": [
      "/home/ec2-user/anaconda3/lib/python3.7/site-packages/sklearn/ensemble/forest.py:246: FutureWarning: The default value of n_estimators will change from 10 in version 0.20 to 100 in 0.22.\n",
      "  \"10 in version 0.20 to 100 in 0.22.\", FutureWarning)\n"
     ]
    },
    {
     "name": "stdout",
     "output_type": "stream",
     "text": [
      "MAE:  0.4773468667074914\n",
      "Random Forest Score:  0.30731391061996083\n"
     ]
    }
   ],
   "source": [
    "forest_model = RandomForestRegressor(random_state=1)\n",
    "forest_model.fit(train_X, train_y)\n",
    "forest_preds = forest_model.predict(val_X)\n",
    "print(\"MAE: \",mean_absolute_error(val_y, forest_preds))\n",
    "print(\"Random Forest Score: \", forest_model.score(val_X, val_y))"
   ]
  },
  {
   "cell_type": "markdown",
   "metadata": {},
   "source": [
    "# K Nearest Neighbours"
   ]
  },
  {
   "cell_type": "code",
   "execution_count": 52,
   "metadata": {},
   "outputs": [
    {
     "name": "stdout",
     "output_type": "stream",
     "text": [
      "0.3470992842130002\n"
     ]
    }
   ],
   "source": [
    "model = make_pipeline(\n",
    "    StandardScaler(),\n",
    "    KNeighborsRegressor(n_neighbors=9)\n",
    ")\n",
    "model.fit(train_X, train_y)\n",
    "print(model.score(val_X, val_y))"
   ]
  },
  {
   "cell_type": "markdown",
   "metadata": {},
   "source": [
    "# SVM"
   ]
  },
  {
   "cell_type": "code",
   "execution_count": 53,
   "metadata": {},
   "outputs": [
    {
     "name": "stdout",
     "output_type": "stream",
     "text": [
      "SVM Score:  0.33226986612456666\n"
     ]
    }
   ],
   "source": [
    "svm = make_pipeline(\n",
    "    StandardScaler(), \n",
    "    SVR(C=1.0, epsilon=0.2)\n",
    ")\n",
    "svm.fit(train_X, train_y)\n",
    "\n",
    "print(\"SVM Score: \", svm.score(val_X, val_y))"
   ]
  },
  {
   "cell_type": "code",
   "execution_count": null,
   "metadata": {},
   "outputs": [],
   "source": []
  }
 ],
 "metadata": {
  "kernelspec": {
   "display_name": "Python 3",
   "language": "python",
   "name": "python3"
  },
  "language_info": {
   "codemirror_mode": {
    "name": "ipython",
    "version": 3
   },
   "file_extension": ".py",
   "mimetype": "text/x-python",
   "name": "python",
   "nbconvert_exporter": "python",
   "pygments_lexer": "ipython3",
   "version": "3.7.3"
  }
 },
 "nbformat": 4,
 "nbformat_minor": 5
}
