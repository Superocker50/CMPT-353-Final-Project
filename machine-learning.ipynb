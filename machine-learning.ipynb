{
 "cells": [
  {
   "cell_type": "code",
   "execution_count": 1,
   "id": "c63e7377-bd19-493c-bd88-82fd4b875e2f",
   "metadata": {},
   "outputs": [],
   "source": [
    "import numpy as np\n",
    "import pandas as pd\n",
    "import matplotlib.pyplot as plt\n",
    "import seaborn as sns"
   ]
  },
  {
   "cell_type": "code",
   "execution_count": 10,
   "id": "8d6ba0d1-e9be-4d06-85b4-c43e8f337c8d",
   "metadata": {},
   "outputs": [],
   "source": [
    "# apps = pd.read_csv('googleplaystore.csv')\n",
    "\n",
    "apps = pd.read_csv(r'Google Play Store Apps.zip')"
   ]
  },
  {
   "cell_type": "code",
   "execution_count": 73,
   "id": "fe9ab0b9-f952-49b6-afdb-d526ce989251",
   "metadata": {},
   "outputs": [],
   "source": [
    "apple = pd.read_csv(r'Apple App Store Apps.zip')"
   ]
  },
  {
   "cell_type": "code",
   "execution_count": 75,
   "id": "93b11357-ecbf-4082-b12e-6e9cf82a6879",
   "metadata": {},
   "outputs": [
    {
     "name": "stdout",
     "output_type": "stream",
     "text": [
      "<class 'pandas.core.frame.DataFrame'>\n",
      "RangeIndex: 1230376 entries, 0 to 1230375\n",
      "Data columns (total 21 columns):\n",
      " #   Column                   Non-Null Count    Dtype  \n",
      "---  ------                   --------------    -----  \n",
      " 0   App_Id                   1230376 non-null  object \n",
      " 1   App_Name                 1230375 non-null  object \n",
      " 2   AppStore_Url             1230376 non-null  object \n",
      " 3   Primary_Genre            1230376 non-null  object \n",
      " 4   Content_Rating           1230376 non-null  object \n",
      " 5   Size_Bytes               1230152 non-null  float64\n",
      " 6   Required_IOS_Version     1230376 non-null  object \n",
      " 7   Released                 1230373 non-null  object \n",
      " 8   Updated                  1230376 non-null  object \n",
      " 9   Version                  1230376 non-null  object \n",
      " 10  Price                    1229886 non-null  float64\n",
      " 11  Currency                 1230376 non-null  object \n",
      " 12  Free                     1230376 non-null  bool   \n",
      " 13  DeveloperId              1230376 non-null  int64  \n",
      " 14  Developer                1230376 non-null  object \n",
      " 15  Developer_Url            1229267 non-null  object \n",
      " 16  Developer_Website        586388 non-null   object \n",
      " 17  Average_User_Rating      1230376 non-null  float64\n",
      " 18  Reviews                  1230376 non-null  int64  \n",
      " 19  Current_Version_Score    1230376 non-null  float64\n",
      " 20  Current_Version_Reviews  1230376 non-null  int64  \n",
      "dtypes: bool(1), float64(4), int64(3), object(13)\n",
      "memory usage: 188.9+ MB\n"
     ]
    }
   ],
   "source": [
    "apple.info()"
   ]
  },
  {
   "cell_type": "code",
   "execution_count": 17,
   "id": "67a43646-2f3f-479b-b349-78171a22b467",
   "metadata": {},
   "outputs": [
    {
     "name": "stdout",
     "output_type": "stream",
     "text": [
      "<class 'pandas.core.frame.DataFrame'>\n",
      "Int64Index: 1287191 entries, 0 to 2312942\n",
      "Data columns (total 24 columns):\n",
      " #   Column             Non-Null Count    Dtype  \n",
      "---  ------             --------------    -----  \n",
      " 0   App Name           1287191 non-null  object \n",
      " 1   App Id             1287191 non-null  object \n",
      " 2   Category           1287191 non-null  object \n",
      " 3   Rating             1287191 non-null  float64\n",
      " 4   Rating Count       1287191 non-null  float64\n",
      " 5   Installs           1287191 non-null  object \n",
      " 6   Minimum Installs   1287191 non-null  float64\n",
      " 7   Maximum Installs   1287191 non-null  int64  \n",
      " 8   Free               1287191 non-null  bool   \n",
      " 9   Price              1287191 non-null  float64\n",
      " 10  Currency           1287191 non-null  object \n",
      " 11  Size               1287191 non-null  object \n",
      " 12  Minimum Android    1287191 non-null  object \n",
      " 13  Developer Id       1287191 non-null  object \n",
      " 14  Developer Website  1287191 non-null  object \n",
      " 15  Developer Email    1287191 non-null  object \n",
      " 16  Released           1287191 non-null  object \n",
      " 17  Last Updated       1287191 non-null  object \n",
      " 18  Content Rating     1287191 non-null  object \n",
      " 19  Privacy Policy     1287191 non-null  object \n",
      " 20  Ad Supported       1287191 non-null  bool   \n",
      " 21  In App Purchases   1287191 non-null  bool   \n",
      " 22  Editors Choice     1287191 non-null  bool   \n",
      " 23  Scraped Time       1287191 non-null  object \n",
      "dtypes: bool(4), float64(4), int64(1), object(15)\n",
      "memory usage: 211.1+ MB\n"
     ]
    }
   ],
   "source": [
    "apps = apps.dropna()\n",
    "apps.info()"
   ]
  },
  {
   "cell_type": "code",
   "execution_count": 18,
   "id": "8d3a4807-deb2-419e-9e50-cb0d2f8bd435",
   "metadata": {},
   "outputs": [],
   "source": [
    "apps = apps[apps['Size'] != 'Varies with device'] # remove 1637 rows"
   ]
  },
  {
   "cell_type": "markdown",
   "id": "4be701af-c915-438a-8db8-fe2802a8442a",
   "metadata": {},
   "source": [
    "## Explore Dataset"
   ]
  },
  {
   "cell_type": "code",
   "execution_count": 71,
   "id": "334dfc9b-041f-479c-87cc-7ef816c386fd",
   "metadata": {},
   "outputs": [
    {
     "data": {
      "text/html": [
       "<div>\n",
       "<style scoped>\n",
       "    .dataframe tbody tr th:only-of-type {\n",
       "        vertical-align: middle;\n",
       "    }\n",
       "\n",
       "    .dataframe tbody tr th {\n",
       "        vertical-align: top;\n",
       "    }\n",
       "\n",
       "    .dataframe thead th {\n",
       "        text-align: right;\n",
       "    }\n",
       "</style>\n",
       "<table border=\"1\" class=\"dataframe\">\n",
       "  <thead>\n",
       "    <tr style=\"text-align: right;\">\n",
       "      <th></th>\n",
       "      <th>App Name</th>\n",
       "      <th>App Id</th>\n",
       "      <th>Category</th>\n",
       "      <th>Rating</th>\n",
       "      <th>Rating Count</th>\n",
       "      <th>Installs</th>\n",
       "      <th>Minimum Installs</th>\n",
       "      <th>Maximum Installs</th>\n",
       "      <th>Free</th>\n",
       "      <th>Price</th>\n",
       "      <th>...</th>\n",
       "      <th>Developer Website</th>\n",
       "      <th>Developer Email</th>\n",
       "      <th>Released</th>\n",
       "      <th>Last Updated</th>\n",
       "      <th>Content Rating</th>\n",
       "      <th>Privacy Policy</th>\n",
       "      <th>Ad Supported</th>\n",
       "      <th>In App Purchases</th>\n",
       "      <th>Editors Choice</th>\n",
       "      <th>Scraped Time</th>\n",
       "    </tr>\n",
       "  </thead>\n",
       "  <tbody>\n",
       "    <tr>\n",
       "      <th>0</th>\n",
       "      <td>Gakondo</td>\n",
       "      <td>com.ishakwe.gakondo</td>\n",
       "      <td>Adventure</td>\n",
       "      <td>0.0</td>\n",
       "      <td>0.0</td>\n",
       "      <td>10+</td>\n",
       "      <td>10.0</td>\n",
       "      <td>15</td>\n",
       "      <td>True</td>\n",
       "      <td>0.0</td>\n",
       "      <td>...</td>\n",
       "      <td>https://beniyizibyose.tk/#/</td>\n",
       "      <td>jean21101999@gmail.com</td>\n",
       "      <td>Feb 26, 2020</td>\n",
       "      <td>Feb 26, 2020</td>\n",
       "      <td>Everyone</td>\n",
       "      <td>https://beniyizibyose.tk/projects/</td>\n",
       "      <td>False</td>\n",
       "      <td>False</td>\n",
       "      <td>False</td>\n",
       "      <td>2021-06-15 20:19:35</td>\n",
       "    </tr>\n",
       "    <tr>\n",
       "      <th>1</th>\n",
       "      <td>Ampere Battery Info</td>\n",
       "      <td>com.webserveis.batteryinfo</td>\n",
       "      <td>Tools</td>\n",
       "      <td>4.4</td>\n",
       "      <td>64.0</td>\n",
       "      <td>5,000+</td>\n",
       "      <td>5000.0</td>\n",
       "      <td>7662</td>\n",
       "      <td>True</td>\n",
       "      <td>0.0</td>\n",
       "      <td>...</td>\n",
       "      <td>https://webserveis.netlify.app/</td>\n",
       "      <td>webserveis@gmail.com</td>\n",
       "      <td>May 21, 2020</td>\n",
       "      <td>May 06, 2021</td>\n",
       "      <td>Everyone</td>\n",
       "      <td>https://dev4phones.wordpress.com/licencia-de-uso/</td>\n",
       "      <td>True</td>\n",
       "      <td>False</td>\n",
       "      <td>False</td>\n",
       "      <td>2021-06-15 20:19:35</td>\n",
       "    </tr>\n",
       "    <tr>\n",
       "      <th>4</th>\n",
       "      <td>GROW.me</td>\n",
       "      <td>com.horodyski.grower</td>\n",
       "      <td>Tools</td>\n",
       "      <td>0.0</td>\n",
       "      <td>0.0</td>\n",
       "      <td>100+</td>\n",
       "      <td>100.0</td>\n",
       "      <td>478</td>\n",
       "      <td>True</td>\n",
       "      <td>0.0</td>\n",
       "      <td>...</td>\n",
       "      <td>http://www.horodyski.com.pl</td>\n",
       "      <td>rmilekhorodyski@gmail.com</td>\n",
       "      <td>Feb 21, 2020</td>\n",
       "      <td>Nov 12, 2018</td>\n",
       "      <td>Everyone</td>\n",
       "      <td>http://www.horodyski.com.pl</td>\n",
       "      <td>False</td>\n",
       "      <td>False</td>\n",
       "      <td>False</td>\n",
       "      <td>2021-06-15 20:19:35</td>\n",
       "    </tr>\n",
       "    <tr>\n",
       "      <th>5</th>\n",
       "      <td>IMOCCI</td>\n",
       "      <td>com.imocci</td>\n",
       "      <td>Social</td>\n",
       "      <td>0.0</td>\n",
       "      <td>0.0</td>\n",
       "      <td>50+</td>\n",
       "      <td>50.0</td>\n",
       "      <td>89</td>\n",
       "      <td>True</td>\n",
       "      <td>0.0</td>\n",
       "      <td>...</td>\n",
       "      <td>http://www.imocci.com</td>\n",
       "      <td>info@imocci.com</td>\n",
       "      <td>Dec 24, 2018</td>\n",
       "      <td>Dec 20, 2019</td>\n",
       "      <td>Teen</td>\n",
       "      <td>https://www.imocci.com/wp-content/uploads/2018...</td>\n",
       "      <td>False</td>\n",
       "      <td>True</td>\n",
       "      <td>False</td>\n",
       "      <td>2021-06-15 20:19:35</td>\n",
       "    </tr>\n",
       "    <tr>\n",
       "      <th>9</th>\n",
       "      <td>Neon 3d Iron Tech Keyboard Theme</td>\n",
       "      <td>com.ikeyboard.theme.neon_3d.iron.tech</td>\n",
       "      <td>Personalization</td>\n",
       "      <td>4.7</td>\n",
       "      <td>820.0</td>\n",
       "      <td>50,000+</td>\n",
       "      <td>50000.0</td>\n",
       "      <td>62433</td>\n",
       "      <td>True</td>\n",
       "      <td>0.0</td>\n",
       "      <td>...</td>\n",
       "      <td>https://trendyteme888-31139.web.app</td>\n",
       "      <td>trendyteme.888@gmail.com</td>\n",
       "      <td>Sep 22, 2019</td>\n",
       "      <td>Oct 07, 2020</td>\n",
       "      <td>Everyone</td>\n",
       "      <td>http://bit.ly/EmojiThemePro</td>\n",
       "      <td>True</td>\n",
       "      <td>False</td>\n",
       "      <td>False</td>\n",
       "      <td>2021-06-15 20:19:35</td>\n",
       "    </tr>\n",
       "  </tbody>\n",
       "</table>\n",
       "<p>5 rows × 24 columns</p>\n",
       "</div>"
      ],
      "text/plain": [
       "                           App Name                                 App Id  \\\n",
       "0                           Gakondo                    com.ishakwe.gakondo   \n",
       "1               Ampere Battery Info             com.webserveis.batteryinfo   \n",
       "4                           GROW.me                   com.horodyski.grower   \n",
       "5                            IMOCCI                             com.imocci   \n",
       "9  Neon 3d Iron Tech Keyboard Theme  com.ikeyboard.theme.neon_3d.iron.tech   \n",
       "\n",
       "          Category  Rating  Rating Count Installs  Minimum Installs  \\\n",
       "0        Adventure     0.0           0.0      10+              10.0   \n",
       "1            Tools     4.4          64.0   5,000+            5000.0   \n",
       "4            Tools     0.0           0.0     100+             100.0   \n",
       "5           Social     0.0           0.0      50+              50.0   \n",
       "9  Personalization     4.7         820.0  50,000+           50000.0   \n",
       "\n",
       "   Maximum Installs  Free  Price  ...                    Developer Website  \\\n",
       "0                15  True    0.0  ...          https://beniyizibyose.tk/#/   \n",
       "1              7662  True    0.0  ...      https://webserveis.netlify.app/   \n",
       "4               478  True    0.0  ...          http://www.horodyski.com.pl   \n",
       "5                89  True    0.0  ...                http://www.imocci.com   \n",
       "9             62433  True    0.0  ...  https://trendyteme888-31139.web.app   \n",
       "\n",
       "             Developer Email      Released  Last Updated Content Rating  \\\n",
       "0     jean21101999@gmail.com  Feb 26, 2020  Feb 26, 2020       Everyone   \n",
       "1       webserveis@gmail.com  May 21, 2020  May 06, 2021       Everyone   \n",
       "4  rmilekhorodyski@gmail.com  Feb 21, 2020  Nov 12, 2018       Everyone   \n",
       "5            info@imocci.com  Dec 24, 2018  Dec 20, 2019           Teen   \n",
       "9   trendyteme.888@gmail.com  Sep 22, 2019  Oct 07, 2020       Everyone   \n",
       "\n",
       "                                      Privacy Policy Ad Supported  \\\n",
       "0                 https://beniyizibyose.tk/projects/        False   \n",
       "1  https://dev4phones.wordpress.com/licencia-de-uso/         True   \n",
       "4                        http://www.horodyski.com.pl        False   \n",
       "5  https://www.imocci.com/wp-content/uploads/2018...        False   \n",
       "9                        http://bit.ly/EmojiThemePro         True   \n",
       "\n",
       "  In App Purchases Editors Choice         Scraped Time  \n",
       "0            False          False  2021-06-15 20:19:35  \n",
       "1            False          False  2021-06-15 20:19:35  \n",
       "4            False          False  2021-06-15 20:19:35  \n",
       "5             True          False  2021-06-15 20:19:35  \n",
       "9            False          False  2021-06-15 20:19:35  \n",
       "\n",
       "[5 rows x 24 columns]"
      ]
     },
     "execution_count": 71,
     "metadata": {},
     "output_type": "execute_result"
    }
   ],
   "source": [
    "# apps.describe()\n",
    "# apps['Category'].unique()\n",
    "# apps.info()\n",
    "# apps.shape\n",
    "apps.head()"
   ]
  },
  {
   "cell_type": "markdown",
   "id": "de0dc05b-cda0-4762-a9e5-de4ef8b8f8ff",
   "metadata": {},
   "source": [
    "# Select features and target"
   ]
  },
  {
   "cell_type": "code",
   "execution_count": 22,
   "id": "d1b5ce42-6fbb-4ed1-80e0-80e9f536457d",
   "metadata": {},
   "outputs": [],
   "source": [
    "# features = ['App', 'Category', 'Reviews', 'Size', 'Installs', 'Type', 'Price', 'Last Updated']\n",
    "\n",
    "features = ['Rating Count', 'Size', 'Installs', 'Price']"
   ]
  },
  {
   "cell_type": "code",
   "execution_count": 23,
   "id": "84f6e23c-61bd-414a-8e8c-3ca03458f378",
   "metadata": {},
   "outputs": [],
   "source": [
    "y = apps['Rating']\n",
    "X = apps[features]"
   ]
  },
  {
   "cell_type": "markdown",
   "id": "a694ac8c-9a4b-4d00-a307-b786a1fc0d7d",
   "metadata": {
    "tags": []
   },
   "source": [
    "## Format Columns"
   ]
  },
  {
   "cell_type": "code",
   "execution_count": 43,
   "id": "5263260d-2509-4d7a-b414-c8668faef8b9",
   "metadata": {},
   "outputs": [],
   "source": [
    "## TODO Later if needed\n",
    "def parse_date(obj):\n",
    "    obj_str = str(obj)\n",
    "    obj_str = obj_str.replace(',', '')\n",
    "    return obj_str\n",
    "    # mon_day_year = obj_str.split()\n",
    "\n",
    "# all size in megabytes\n",
    "def format_size(obj):\n",
    "    obj_str = str(obj)\n",
    "    if 'G' in obj_str:\n",
    "        obj_str = obj_str.replace('G', '')\n",
    "        obj_str = obj_str.replace(',', '')\n",
    "        return float(obj_str) * 1000\n",
    "    if 'M' in obj_str:\n",
    "        obj_str = obj_str.replace('M', '')\n",
    "        obj_str = obj_str.replace(',', '')\n",
    "        return float(obj_str)\n",
    "    obj_str = obj_str.replace('k', '')\n",
    "    obj_str = obj_str.replace(',', '')\n",
    "    return float(obj_str) / 1000\n",
    "\n",
    "def format_installs(obj):\n",
    "    obj_str = str(obj)\n",
    "    obj_str = obj_str.replace('+', '')\n",
    "    obj_str = obj_str.replace(',', '')\n",
    "    return int(obj_str)\n",
    "\n",
    "def format_price(obj):\n",
    "    obj_str = str(obj)\n",
    "    obj_str = obj_str.replace('$', '')\n",
    "    return float(obj_str)"
   ]
  },
  {
   "cell_type": "code",
   "execution_count": 44,
   "id": "3d06283f-6633-458b-affb-dc95124d60c8",
   "metadata": {},
   "outputs": [],
   "source": [
    "pd.options.mode.chained_assignment = None\n",
    "# X['Reviews'] = pd.to_numeric(X['Reviews'])\n",
    "X['Size'] = X['Size'].apply(format_size)\n",
    "X['Installs'] = X['Installs'].apply(format_installs)\n",
    "X['Price'] = X['Price'].apply(format_price)"
   ]
  },
  {
   "cell_type": "code",
   "execution_count": 45,
   "id": "530fb0f4-6607-4a05-8ef3-0b3e9f06570f",
   "metadata": {},
   "outputs": [
    {
     "name": "stdout",
     "output_type": "stream",
     "text": [
      "<class 'pandas.core.frame.DataFrame'>\n",
      "Int64Index: 1250866 entries, 0 to 2312942\n",
      "Data columns (total 4 columns):\n",
      " #   Column        Non-Null Count    Dtype  \n",
      "---  ------        --------------    -----  \n",
      " 0   Rating Count  1250866 non-null  float64\n",
      " 1   Size          1250866 non-null  float64\n",
      " 2   Installs      1250866 non-null  int64  \n",
      " 3   Price         1250866 non-null  float64\n",
      "dtypes: float64(3), int64(1)\n",
      "memory usage: 47.7 MB\n"
     ]
    }
   ],
   "source": [
    "X.info()"
   ]
  },
  {
   "cell_type": "code",
   "execution_count": null,
   "id": "57a90d78-a06b-4198-99f6-337ddf78ccd5",
   "metadata": {},
   "outputs": [],
   "source": [
    "# sns.countplot(x='Category', data=X, palette=\"mako_r\")\n",
    "# plt.rcParams[\"figure.figsize\"] = (30,5)\n",
    "# plt.xticks(rotation=45) \n",
    "# plt.show()"
   ]
  },
  {
   "cell_type": "code",
   "execution_count": null,
   "id": "49a53105-600b-4000-8bd7-ef2b519c9514",
   "metadata": {},
   "outputs": [],
   "source": [
    "# X[X['App'].str.contains('Be Like Bro - Compilation')]"
   ]
  },
  {
   "cell_type": "code",
   "execution_count": 46,
   "id": "1682bbcf-57ec-4bf0-b212-4c21b4385cac",
   "metadata": {},
   "outputs": [
    {
     "data": {
      "text/html": [
       "<div>\n",
       "<style scoped>\n",
       "    .dataframe tbody tr th:only-of-type {\n",
       "        vertical-align: middle;\n",
       "    }\n",
       "\n",
       "    .dataframe tbody tr th {\n",
       "        vertical-align: top;\n",
       "    }\n",
       "\n",
       "    .dataframe thead th {\n",
       "        text-align: right;\n",
       "    }\n",
       "</style>\n",
       "<table border=\"1\" class=\"dataframe\">\n",
       "  <thead>\n",
       "    <tr style=\"text-align: right;\">\n",
       "      <th></th>\n",
       "      <th>Rating Count</th>\n",
       "      <th>Size</th>\n",
       "      <th>Installs</th>\n",
       "      <th>Price</th>\n",
       "    </tr>\n",
       "  </thead>\n",
       "  <tbody>\n",
       "    <tr>\n",
       "      <th>count</th>\n",
       "      <td>1.250866e+06</td>\n",
       "      <td>1.250866e+06</td>\n",
       "      <td>1.250866e+06</td>\n",
       "      <td>1.250866e+06</td>\n",
       "    </tr>\n",
       "    <tr>\n",
       "      <th>mean</th>\n",
       "      <td>3.196095e+03</td>\n",
       "      <td>2.144003e+01</td>\n",
       "      <td>1.616856e+05</td>\n",
       "      <td>1.070417e-01</td>\n",
       "    </tr>\n",
       "    <tr>\n",
       "      <th>std</th>\n",
       "      <td>1.159034e+05</td>\n",
       "      <td>2.573196e+01</td>\n",
       "      <td>4.191622e+06</td>\n",
       "      <td>2.426627e+00</td>\n",
       "    </tr>\n",
       "    <tr>\n",
       "      <th>min</th>\n",
       "      <td>0.000000e+00</td>\n",
       "      <td>3.300000e-03</td>\n",
       "      <td>0.000000e+00</td>\n",
       "      <td>0.000000e+00</td>\n",
       "    </tr>\n",
       "    <tr>\n",
       "      <th>25%</th>\n",
       "      <td>0.000000e+00</td>\n",
       "      <td>5.800000e+00</td>\n",
       "      <td>1.000000e+02</td>\n",
       "      <td>0.000000e+00</td>\n",
       "    </tr>\n",
       "    <tr>\n",
       "      <th>50%</th>\n",
       "      <td>7.000000e+00</td>\n",
       "      <td>1.200000e+01</td>\n",
       "      <td>5.000000e+02</td>\n",
       "      <td>0.000000e+00</td>\n",
       "    </tr>\n",
       "    <tr>\n",
       "      <th>75%</th>\n",
       "      <td>5.600000e+01</td>\n",
       "      <td>2.800000e+01</td>\n",
       "      <td>5.000000e+03</td>\n",
       "      <td>0.000000e+00</td>\n",
       "    </tr>\n",
       "    <tr>\n",
       "      <th>max</th>\n",
       "      <td>5.602542e+07</td>\n",
       "      <td>1.500000e+03</td>\n",
       "      <td>1.000000e+09</td>\n",
       "      <td>4.000000e+02</td>\n",
       "    </tr>\n",
       "  </tbody>\n",
       "</table>\n",
       "</div>"
      ],
      "text/plain": [
       "       Rating Count          Size      Installs         Price\n",
       "count  1.250866e+06  1.250866e+06  1.250866e+06  1.250866e+06\n",
       "mean   3.196095e+03  2.144003e+01  1.616856e+05  1.070417e-01\n",
       "std    1.159034e+05  2.573196e+01  4.191622e+06  2.426627e+00\n",
       "min    0.000000e+00  3.300000e-03  0.000000e+00  0.000000e+00\n",
       "25%    0.000000e+00  5.800000e+00  1.000000e+02  0.000000e+00\n",
       "50%    7.000000e+00  1.200000e+01  5.000000e+02  0.000000e+00\n",
       "75%    5.600000e+01  2.800000e+01  5.000000e+03  0.000000e+00\n",
       "max    5.602542e+07  1.500000e+03  1.000000e+09  4.000000e+02"
      ]
     },
     "execution_count": 46,
     "metadata": {},
     "output_type": "execute_result"
    }
   ],
   "source": [
    "X.describe()"
   ]
  },
  {
   "cell_type": "code",
   "execution_count": 47,
   "id": "f3479159-9e29-4a3e-a288-5f20a7ea2eef",
   "metadata": {},
   "outputs": [
    {
     "data": {
      "text/plain": [
       "array([  0.      ,   4.99    ,   2.99    ,   0.99    ,   1.99    ,\n",
       "         4.49    ,   3.99    ,  99.99    ,   5.49    ,  41.99    ,\n",
       "         5.29    ,  19.99    ,   5.99    ,   9.99    ,  39.99    ,\n",
       "         8.99    ,  28.99    ,   3.49    ,   2.49    ,   1.49    ,\n",
       "        72.95    ,  48.95    ,   3.67    ,   1.942142,   6.99    ,\n",
       "        54.99    ,  13.99    ,  10.99    ,   7.49    ,   8.49    ,\n",
       "        24.99    , 119.99    ,   6.49    ,  65.99    ,   1.      ,\n",
       "         5.92    ,   9.49    ,  35.99    ,   7.99    ,  25.19    ,\n",
       "        32.99    ,   1.09    ,   1.07    ,   3.45    ,   1.86    ,\n",
       "         5.458441,  14.99    ,  12.99    ,  26.99    ,  23.99    ,\n",
       "        43.99    ,   2.183376,  11.07    ,  64.99    ,  24.46    ,\n",
       "         4.      ,  15.99    ,  59.99    ,  16.46    ,   1.47    ,\n",
       "         1.987481,   1.05    ,   3.11    ,  50.28    ,   2.1     ,\n",
       "         1.65    ,   1.84    ,  34.99    ,   2.03    ,   2.93    ,\n",
       "        10.24    ,   1.8     ,  11.99    ,   0.895283,   1.6     ,\n",
       "        16.8     ,   2.      ,   3.5     ,  25.99    ,  42.66    ,\n",
       "         1.33    , 209.99    ,   2.61    ,   1.39    ,   3.21    ,\n",
       "         2.94    ,  89.99    ,   1.69    ,   2.42    ,  13.845454,\n",
       "        22.99    ,  79.99    ,  54.      ,   2.33    ,   3.72    ,\n",
       "         3.07    ,   1.88    ,   1.55    ,  29.99    ,   2.25    ,\n",
       "         7.33    ,  15.      ,  53.45    ,  21.99    ,   1.29    ,\n",
       "        25.      ,  49.99    ,   1.68    ,   1.66    ,   8.9     ,\n",
       "        17.99    ,   3.18    ,   0.605939,   1.79    ,  20.39    ,\n",
       "       111.99    ,   6.60474 ,  42.94    ,  44.39    ,  10.      ,\n",
       "        27.5     , 104.99    ,   1.231333,  11.      ,   1.61    ,\n",
       "         1.42    ,   9.95    ,   9.32    ,  31.99    ,   5.      ,\n",
       "         3.41    ,   6.641103,   4.56    ,   3.73    ,   4.847516,\n",
       "        43.19    ,   2.54    ,   2.74    ,  77.99    ,  74.99    ,\n",
       "         3.98    ,   1.11    ,   2.775202,  16.99    ,   2.67    ,\n",
       "        45.99    ,  49.19    ,   1.701037,   2.05    ,  19.95    ,\n",
       "        19.      ,   1.37    ,   1.2     ,   2.5     ,   1.59    ,\n",
       "         6.      ,   2.78    ,  18.99    ,   3.491604,   1.58    ,\n",
       "         3.76    ,   1.15    ,   1.57    ,  45.55    ,   1.54    ,\n",
       "       118.4     ,   7.095973,  37.19    ,  20.99    ,   5.48    ,\n",
       "         2.52    ,   4.69    ,  94.99    ,  93.29    ,  55.53    ,\n",
       "         1.32    ,   1.19    ,   1.94    ,  35.992806,  69.99    ,\n",
       "        60.      ,   9.04    ,  42.99    ,   4.02    ,  11.83    ,\n",
       "        26.39    ,   3.95    ,  47.99    ,   2.79    ,   1.5     ,\n",
       "         2.02    ,   0.981996,   1.77    ,   1.95    ,  29.97    ,\n",
       "         2.58    ,   0.894387,   1.93    ,   4.95    ,  33.99    ,\n",
       "         1.4     ,   3.23    ,   5.6     ,   5.31    ,  51.85    ,\n",
       "       139.99    ,   1.74    , 149.99    ,   1.96    ,   1.64    ,\n",
       "        80.87    ,  21.      ,   3.59    ,  65.38    ,  17.84    ,\n",
       "         8.37    ,   2.53    ,   3.88    ,   4.63    ,  38.39    ,\n",
       "         5.65    ,   3.75    ,   1.3     ,   1.19976 ,   1.26    ,\n",
       "       129.99    ,   4.322119,   2.48    ,   5.46    ,   1.7     ,\n",
       "       329.99    ,  32.39    ,   1.91    , 237.99    ,   1.81    ,\n",
       "        58.22    ,   4.519702,   1.214764,  33.02    ,  67.8     ,\n",
       "         2.98    ,   1.926444,  32.27    ,  27.99    ,   1.810776,\n",
       "       100.      , 379.99    , 400.      ,  69.      ,   2.8     ,\n",
       "        11.73    ,   6.2     ,   2.556339,   4.548701,   1.97    ,\n",
       "         1.9     ,   1.364903,   7.      ,   2.56    ,  14.93    ,\n",
       "         3.38    ,  48.75    ,  25.15    ,  46.79    ,  72.88    ,\n",
       "       350.      ,   3.      ,  46.4     ,   1.14    ,   3.17    ,\n",
       "         2.85    , 174.99    ,   1.21    ,   5.02    ,   1.44    ,\n",
       "        14.9     ,  89.      ,   9.98    ,  13.61    ,   2.57    ,\n",
       "        12.49    ,  20.      ,  13.67    ,   2.23    ,   4.835397,\n",
       "        13.646103,   2.24    ,  53.44    ,  48.99    ,   4.98    ,\n",
       "         4.1     ,   6.390846,  57.6     ,   2.411639,   1.18    ,\n",
       "        46.29    , 299.99    ,   9.      ,   5.64    ,  21.6     ,\n",
       "         7.34    ,   2.09    , 109.99    ,  17.98    ,   3.9     ,\n",
       "         1.76    ,   1.89    ,  50.38    ,   1.06    ,   2.46    ,\n",
       "         1.574342,   1.13    , 279.99    ,   5.2     , 389.99    ,\n",
       "        21.43    ,   5.342962,  34.27    ,  36.99    ,  20.015573,\n",
       "         1.790566,  47.77    ,   4.84    ,   5.01    ,   5.04    ,\n",
       "         2.08    ,   5.63    ,  48.8     ,  10.93    ,   2.148679,\n",
       "         3.66    ,  71.99    ,   3.32    ,   6.98    ,   6.45    ,\n",
       "        56.9     , 199.99    ,   8.03    ,  44.99    ,  16.54    ,\n",
       "        13.55    , 284.99    ,  27.31    , 144.99    ,  99.9     ,\n",
       "        50.      ,   4.25    ,   9.22    ,   2.423758,   3.24    ,\n",
       "         2.84    ,   1.62    ,   2.73    ,   2.45    ,  10.97    ,\n",
       "         7.040667,   3.58    ,   3.55    ,   2.6     ,   9.24    ,\n",
       "        12.62    ,  53.81    ,   5.841256,  15.210856, 354.99    ,\n",
       "        29.      ,   1.03    ,   2.29    ,   1.072765,   3.44    ,\n",
       "         6.72    ,   7.27    ,  25.27    ,   1.28    ,   4.42    ,\n",
       "       125.99    ,  44.05    ,   1.35    ,   8.      , 199.41    ,\n",
       "         1.02    ,  29.48    ,   4.85    ,  40.79    ,   8.28    ,\n",
       "         4.723028,   7.58    , 134.99    , 269.99    ,  26.42    ,\n",
       "         2.2     ,   4.9     ,   2.22    ,   3.623518,  35.917355,\n",
       "         3.01    ,   5.22    ,   4.29    ,   4.34    ,  59.4     ,\n",
       "        51.59    ,   1.25    ,  41.82    ,   1.34    ,   4.33    ,\n",
       "         3.635637,  34.96    ,   1.48    ,   4.476415,   5.85    ,\n",
       "       365.99    ,   5.33    ,  42.71    ,   1.12    ,   7.271274,\n",
       "        12.38    , 254.99    ,   1.67    ,  41.29    ,   5.95    ,\n",
       "       399.99    ,   2.01    ,  30.99    ,   1.78    ,   2.87588 ,\n",
       "         2.88    , 143.99    ,  44.98    ,   4.923486,  81.37    ,\n",
       "        54.82    ,   4.92    ,   7.79    ,   2.47    ,  49.      ,\n",
       "        37.99    , 214.99    ,   1.36    ,   2.89    ,   2.75    ,\n",
       "         3.195423,   9.18    ,   3.79    ,   1.56    ,   4.62    ,\n",
       "         2.9     ,   2.59    ,   1.85    ,   2.15    ,   7.77    ,\n",
       "         8.29    ,   3.29    ,  49.82    , 244.99    ,  23.995204,\n",
       "        84.99    ,   7.072736,  65.62    ,   2.26    ,   7.46    ,\n",
       "        23.904862,  81.91    ,  30.95    ,   6.9     , 162.99    ,\n",
       "         2.72    ,   1.63    ,  55.77    ,   1.16    ,  34.79    ,\n",
       "         3.39    ,   5.077773,   5.62    ,  46.3     ,  75.61    ,\n",
       "         3.3     ,   3.335928, 113.99    ,  48.36    ,  65.16    ,\n",
       "         6.15    ,   7.14    ,   8.5     ,   1.87    , 179.99    ,\n",
       "         1.08    ,  22.28    ,  37.68    , 289.99    ,  16.79    ,\n",
       "        40.99    ,   1.23    , 147.49    , 314.99    ,  80.575483,\n",
       "         5.55    ,   3.69    ,   5.153418,  10.300971,   7.81    ,\n",
       "         2.19    ,   2.13    ,  59.23    ,  54.54    ,   6.81    ,\n",
       "         2.43    ,  30.54    ,  56.48    ,   2.7     ,  49.6     ,\n",
       "         9.785391,   8.4     ,  29.85    , 185.99    ,  72.115108,\n",
       "       189.99    ,   1.24    ,   2.69    ,   2.83    ,   3.33    ,\n",
       "        54.65    , 229.99    ,   4.82    ,   2.82    ,   6.05    ,\n",
       "         1.98    ,   8.471034,   4.35    ,   2.34    ,   4.86    ,\n",
       "         4.108269,   3.42    ,   5.66    ,  27.58    , 124.99    ,\n",
       "        39.59    ,   1.45    ,  23.32    ,  78.65    ,   4.83    ,\n",
       "         7.9     ,  16.17    ,  44.95    ,   1.43    ,   6.85    ,\n",
       "         2.76    ,  32.77    ,   1.04    ,   3.82    ,  10.88    ,\n",
       "         4.04    ,   4.48    ,   1.72    ,   5.13    ,  95.99    ,\n",
       "         2.95    ,  19.9     ,   0.90974 ,   1.27    ,  38.99    ,\n",
       "        44.96    , 137.25    ,  35.      ,   4.78    , 249.99    ,\n",
       "         7.01    ,  31.69    ,   4.77    ,  57.59    ,   2.44    ,\n",
       "         0.815028,  45.41    ,   3.61    ,  36.42    ,  65.69    ,\n",
       "        58.79    ,   4.09    ,   9.72    ,   3.97    ,   7.84    ,\n",
       "        52.49    ,  83.99    ,  53.62    , 109.45    ,   2.31    ,\n",
       "         2.27    ,   1.31    ,   7.55    ,   1.826285, 349.99    ,\n",
       "         5.36    ,  56.62    ,   2.55    ,   4.61    ,   7.5     ,\n",
       "        48.78    ,   7.21    ,   3.449926,   2.51    ,   6.73    ,\n",
       "         8.15    ,   3.74    ,  15.68    ,   3.05    ,  67.5     ,\n",
       "        39.      ,   3.041816])"
      ]
     },
     "execution_count": 47,
     "metadata": {},
     "output_type": "execute_result"
    }
   ],
   "source": [
    "X.Price.unique()"
   ]
  },
  {
   "cell_type": "code",
   "execution_count": 48,
   "id": "380c84bb-f5ae-4f4e-b14b-92d3ce9a421e",
   "metadata": {},
   "outputs": [
    {
     "data": {
      "image/png": "[encoded data removed]",
      "text/plain": [
       "<Figure size 1080x792 with 2 Axes>"
      ]
     },
     "metadata": {
      "needs_background": "light"
     },
     "output_type": "display_data"
    }
   ],
   "source": [
    "f = plt.figure(figsize=(15, 11))\n",
    "plt.matshow(X.corr(), fignum=f.number)\n",
    "\n",
    "plt.xticks(range(X.select_dtypes(['number']).shape[1]), X.select_dtypes(['number']).columns, fontsize=14, rotation=45)\n",
    "plt.yticks(range(X.select_dtypes(['number']).shape[1]), X.select_dtypes(['number']).columns, fontsize=14)\n",
    "\n",
    "cb = plt.colorbar()\n",
    "cb.ax.tick_params(labelsize=14)\n",
    "plt.title('Correlation Matrix', fontsize=16);\n",
    "\n",
    "plt.show()"
   ]
  },
  {
   "cell_type": "code",
   "execution_count": 49,
   "id": "27a18f27-5bfa-4c4f-95e5-6d49023e845d",
   "metadata": {},
   "outputs": [
    {
     "data": {
      "text/html": [
       "<div>\n",
       "<style scoped>\n",
       "    .dataframe tbody tr th:only-of-type {\n",
       "        vertical-align: middle;\n",
       "    }\n",
       "\n",
       "    .dataframe tbody tr th {\n",
       "        vertical-align: top;\n",
       "    }\n",
       "\n",
       "    .dataframe thead th {\n",
       "        text-align: right;\n",
       "    }\n",
       "</style>\n",
       "<table border=\"1\" class=\"dataframe\">\n",
       "  <thead>\n",
       "    <tr style=\"text-align: right;\">\n",
       "      <th></th>\n",
       "      <th>Rating Count</th>\n",
       "      <th>Size</th>\n",
       "      <th>Installs</th>\n",
       "      <th>Price</th>\n",
       "    </tr>\n",
       "  </thead>\n",
       "  <tbody>\n",
       "    <tr>\n",
       "      <th>Rating Count</th>\n",
       "      <td>1.000000</td>\n",
       "      <td>0.047485</td>\n",
       "      <td>0.544825</td>\n",
       "      <td>-0.000956</td>\n",
       "    </tr>\n",
       "    <tr>\n",
       "      <th>Size</th>\n",
       "      <td>0.047485</td>\n",
       "      <td>1.000000</td>\n",
       "      <td>0.044628</td>\n",
       "      <td>0.009313</td>\n",
       "    </tr>\n",
       "    <tr>\n",
       "      <th>Installs</th>\n",
       "      <td>0.544825</td>\n",
       "      <td>0.044628</td>\n",
       "      <td>1.000000</td>\n",
       "      <td>-0.001626</td>\n",
       "    </tr>\n",
       "    <tr>\n",
       "      <th>Price</th>\n",
       "      <td>-0.000956</td>\n",
       "      <td>0.009313</td>\n",
       "      <td>-0.001626</td>\n",
       "      <td>1.000000</td>\n",
       "    </tr>\n",
       "  </tbody>\n",
       "</table>\n",
       "</div>"
      ],
      "text/plain": [
       "              Rating Count      Size  Installs     Price\n",
       "Rating Count      1.000000  0.047485  0.544825 -0.000956\n",
       "Size              0.047485  1.000000  0.044628  0.009313\n",
       "Installs          0.544825  0.044628  1.000000 -0.001626\n",
       "Price            -0.000956  0.009313 -0.001626  1.000000"
      ]
     },
     "execution_count": 49,
     "metadata": {},
     "output_type": "execute_result"
    }
   ],
   "source": [
    "X.corr()"
   ]
  },
  {
   "cell_type": "code",
   "execution_count": 50,
   "id": "06e9c13a-c641-4c7f-a62e-fcf4d560ed45",
   "metadata": {},
   "outputs": [
    {
     "data": {
      "text/plain": [
       "(1250866,)"
      ]
     },
     "execution_count": 50,
     "metadata": {},
     "output_type": "execute_result"
    }
   ],
   "source": [
    "y.shape"
   ]
  },
  {
   "cell_type": "code",
   "execution_count": 51,
   "id": "21174475-e046-4440-92ee-92510265e1cc",
   "metadata": {},
   "outputs": [
    {
     "data": {
      "text/plain": [
       "(1250866, 4)"
      ]
     },
     "execution_count": 51,
     "metadata": {},
     "output_type": "execute_result"
    }
   ],
   "source": [
    "X.shape"
   ]
  },
  {
   "cell_type": "code",
   "execution_count": 52,
   "id": "3782a818-addd-48c1-a9ac-681a40d7129b",
   "metadata": {},
   "outputs": [],
   "source": [
    "from sklearn.model_selection import train_test_split\n",
    "from sklearn.tree import DecisionTreeRegressor\n",
    "from sklearn.metrics import mean_absolute_error"
   ]
  },
  {
   "cell_type": "code",
   "execution_count": 53,
   "id": "ac84f91e-3a60-4a9f-bd5b-d3d2ecf5c15b",
   "metadata": {},
   "outputs": [],
   "source": [
    "train_X, val_X, train_y, val_y = train_test_split(X, y, random_state = 1)"
   ]
  },
  {
   "cell_type": "code",
   "execution_count": 54,
   "id": "379e2f6e-c51e-49cd-90d7-3d0b6343b2d5",
   "metadata": {},
   "outputs": [
    {
     "name": "stdout",
     "output_type": "stream",
     "text": [
      "<class 'pandas.core.frame.DataFrame'>\n",
      "Int64Index: 1250866 entries, 0 to 2312942\n",
      "Data columns (total 4 columns):\n",
      " #   Column        Non-Null Count    Dtype  \n",
      "---  ------        --------------    -----  \n",
      " 0   Rating Count  1250866 non-null  float64\n",
      " 1   Size          1250866 non-null  float64\n",
      " 2   Installs      1250866 non-null  int64  \n",
      " 3   Price         1250866 non-null  float64\n",
      "dtypes: float64(3), int64(1)\n",
      "memory usage: 47.7 MB\n"
     ]
    }
   ],
   "source": [
    "X.info()"
   ]
  },
  {
   "cell_type": "code",
   "execution_count": 61,
   "id": "fee41525-745c-4edd-974a-daf681e9a614",
   "metadata": {},
   "outputs": [],
   "source": [
    "def get_mae(max_leaf_nodes, train_X, val_X, train_y, val_y):\n",
    "    model = DecisionTreeRegressor(max_leaf_nodes=max_leaf_nodes, random_state=0)\n",
    "    model.fit(train_X, train_y)\n",
    "    preds_val = model.predict(val_X)\n",
    "    mae = mean_absolute_error(val_y, preds_val)\n",
    "    return(mae)\n",
    "\n",
    "\n",
    "scores = {leaf_size: get_mae(leaf_size, train_X, val_X, train_y, val_y) for leaf_size in [40, 50, 60, 70, 80]}\n",
    "best_tree_size = min(scores, key=scores.get)"
   ]
  },
  {
   "cell_type": "code",
   "execution_count": 62,
   "id": "5be01560-2d5e-4495-92c7-ad6e51ebb635",
   "metadata": {},
   "outputs": [
    {
     "data": {
      "text/plain": [
       "80"
      ]
     },
     "execution_count": 62,
     "metadata": {},
     "output_type": "execute_result"
    }
   ],
   "source": [
    "best_tree_size"
   ]
  },
  {
   "cell_type": "code",
   "execution_count": 63,
   "id": "8c478d8b-980b-4d5c-8f65-dee55d0a89c4",
   "metadata": {},
   "outputs": [
    {
     "data": {
      "text/plain": [
       "{40: 0.2706506299651317,\n",
       " 50: 0.2703769154729287,\n",
       " 60: 0.2699339910095316,\n",
       " 70: 0.26970235523626485,\n",
       " 80: 0.2695716428173963}"
      ]
     },
     "execution_count": 63,
     "metadata": {},
     "output_type": "execute_result"
    }
   ],
   "source": [
    "scores"
   ]
  },
  {
   "cell_type": "code",
   "execution_count": 64,
   "id": "dda726f9-4372-4ff5-93db-76062f0dfd04",
   "metadata": {},
   "outputs": [
    {
     "data": {
      "text/plain": [
       "0.27065062996513195"
      ]
     },
     "execution_count": 64,
     "metadata": {},
     "output_type": "execute_result"
    }
   ],
   "source": [
    "# Define model\n",
    "app_model = DecisionTreeRegressor(max_leaf_nodes=40, random_state = 1)\n",
    "# Fit model\n",
    "app_model.fit(train_X, train_y)\n",
    "\n",
    "# get predicted prices on validation data\n",
    "val_predictions = app_model.predict(val_X)\n",
    "\n",
    "mean_absolute_error(val_y, val_predictions)"
   ]
  },
  {
   "cell_type": "code",
   "execution_count": 66,
   "id": "992cbdfc-14f0-42ea-bd84-bf936f692858",
   "metadata": {},
   "outputs": [
    {
     "data": {
      "image/png": "[encoded data removed]",
      "text/plain": [
       "<Figure size 2160x576 with 1 Axes>"
      ]
     },
     "metadata": {
      "needs_background": "light"
     },
     "output_type": "display_data"
    }
   ],
   "source": [
    "sns.countplot(x='Rating', data=apps)\n",
    "plt.rcParams[\"figure.figsize\"] = (40,12)\n",
    "plt.xticks(rotation=45) \n",
    "plt.show()"
   ]
  },
  {
   "cell_type": "code",
   "execution_count": 67,
   "id": "d82c7105-8acf-4ae7-93a9-be79f18e3d72",
   "metadata": {},
   "outputs": [],
   "source": [
    "from sklearn.ensemble import RandomForestRegressor"
   ]
  },
  {
   "cell_type": "code",
   "execution_count": 68,
   "id": "0a8123de-e32b-4ac1-b912-2ea19ba7454c",
   "metadata": {},
   "outputs": [
    {
     "name": "stdout",
     "output_type": "stream",
     "text": [
      "0.290004339780346\n"
     ]
    }
   ],
   "source": [
    "forest_model = RandomForestRegressor(random_state=1)\n",
    "forest_model.fit(train_X, train_y)\n",
    "app_preds = forest_model.predict(val_X)\n",
    "print(mean_absolute_error(val_y, app_preds))"
   ]
  },
  {
   "cell_type": "markdown",
   "id": "97a38a92-8acf-49e2-a568-10f7afaa6b22",
   "metadata": {},
   "source": [
    "### Strange\n",
    "\n",
    "After 10-15 minutes, decision tree returned a wrose absolute error in compare to decision tree.\n",
    "A possible explanation could be that decision tree is overfitting with a high value of max_leaf_node.\n",
    "\n",
    "It is important to note that more training data has made the model more robust. Previous dataset, googleplaystore.csv , had ~7K rows but the new dataset, Google Play Store Apps.zip , has ~1.2Million rows "
   ]
  },
  {
   "cell_type": "code",
   "execution_count": 70,
   "id": "891690de-e3db-4f03-ac42-7bb10f9874e9",
   "metadata": {},
   "outputs": [
    {
     "data": {
      "text/plain": [
       "count    1.250866e+06\n",
       "mean     2.292478e+00\n",
       "std      2.094201e+00\n",
       "min      0.000000e+00\n",
       "25%      0.000000e+00\n",
       "50%      3.200000e+00\n",
       "75%      4.300000e+00\n",
       "max      5.000000e+00\n",
       "Name: Rating, dtype: float64"
      ]
     },
     "execution_count": 70,
     "metadata": {},
     "output_type": "execute_result"
    }
   ],
   "source": [
    "y.describe()"
   ]
  },
  {
   "cell_type": "code",
   "execution_count": 79,
   "id": "519ef1ba-a707-4402-84e7-a4c0de1dae3d",
   "metadata": {},
   "outputs": [
    {
     "data": {
      "text/html": [
       "<div>\n",
       "<style scoped>\n",
       "    .dataframe tbody tr th:only-of-type {\n",
       "        vertical-align: middle;\n",
       "    }\n",
       "\n",
       "    .dataframe tbody tr th {\n",
       "        vertical-align: top;\n",
       "    }\n",
       "\n",
       "    .dataframe thead th {\n",
       "        text-align: right;\n",
       "    }\n",
       "</style>\n",
       "<table border=\"1\" class=\"dataframe\">\n",
       "  <thead>\n",
       "    <tr style=\"text-align: right;\">\n",
       "      <th></th>\n",
       "      <th>Rating Count</th>\n",
       "      <th>Size</th>\n",
       "      <th>Installs</th>\n",
       "      <th>Price</th>\n",
       "    </tr>\n",
       "  </thead>\n",
       "  <tbody>\n",
       "    <tr>\n",
       "      <th>count</th>\n",
       "      <td>3.127170e+05</td>\n",
       "      <td>312717.000000</td>\n",
       "      <td>3.127170e+05</td>\n",
       "      <td>312717.000000</td>\n",
       "    </tr>\n",
       "    <tr>\n",
       "      <th>mean</th>\n",
       "      <td>3.475594e+03</td>\n",
       "      <td>21.484613</td>\n",
       "      <td>1.577459e+05</td>\n",
       "      <td>0.104576</td>\n",
       "    </tr>\n",
       "    <tr>\n",
       "      <th>std</th>\n",
       "      <td>1.661351e+05</td>\n",
       "      <td>25.986600</td>\n",
       "      <td>3.899359e+06</td>\n",
       "      <td>2.524362</td>\n",
       "    </tr>\n",
       "    <tr>\n",
       "      <th>min</th>\n",
       "      <td>0.000000e+00</td>\n",
       "      <td>0.006300</td>\n",
       "      <td>0.000000e+00</td>\n",
       "      <td>0.000000</td>\n",
       "    </tr>\n",
       "    <tr>\n",
       "      <th>25%</th>\n",
       "      <td>0.000000e+00</td>\n",
       "      <td>5.800000</td>\n",
       "      <td>1.000000e+02</td>\n",
       "      <td>0.000000</td>\n",
       "    </tr>\n",
       "    <tr>\n",
       "      <th>50%</th>\n",
       "      <td>7.000000e+00</td>\n",
       "      <td>12.000000</td>\n",
       "      <td>5.000000e+02</td>\n",
       "      <td>0.000000</td>\n",
       "    </tr>\n",
       "    <tr>\n",
       "      <th>75%</th>\n",
       "      <td>5.600000e+01</td>\n",
       "      <td>28.000000</td>\n",
       "      <td>5.000000e+03</td>\n",
       "      <td>0.000000</td>\n",
       "    </tr>\n",
       "    <tr>\n",
       "      <th>max</th>\n",
       "      <td>5.602542e+07</td>\n",
       "      <td>1500.000000</td>\n",
       "      <td>1.000000e+09</td>\n",
       "      <td>399.990000</td>\n",
       "    </tr>\n",
       "  </tbody>\n",
       "</table>\n",
       "</div>"
      ],
      "text/plain": [
       "       Rating Count           Size      Installs          Price\n",
       "count  3.127170e+05  312717.000000  3.127170e+05  312717.000000\n",
       "mean   3.475594e+03      21.484613  1.577459e+05       0.104576\n",
       "std    1.661351e+05      25.986600  3.899359e+06       2.524362\n",
       "min    0.000000e+00       0.006300  0.000000e+00       0.000000\n",
       "25%    0.000000e+00       5.800000  1.000000e+02       0.000000\n",
       "50%    7.000000e+00      12.000000  5.000000e+02       0.000000\n",
       "75%    5.600000e+01      28.000000  5.000000e+03       0.000000\n",
       "max    5.602542e+07    1500.000000  1.000000e+09     399.990000"
      ]
     },
     "execution_count": 79,
     "metadata": {},
     "output_type": "execute_result"
    }
   ],
   "source": [
    "val_X.describe()"
   ]
  },
  {
   "cell_type": "markdown",
   "id": "7700b59d-190c-4f56-9f20-edc578e30bdd",
   "metadata": {},
   "source": [
    "## Making actual predictions on google play store"
   ]
  },
  {
   "cell_type": "code",
   "execution_count": 98,
   "id": "759c0461-358d-41d5-a209-3120a0bfd0fe",
   "metadata": {},
   "outputs": [],
   "source": [
    "d = {'Rating Count': [12], 'Size': [5], 'Installs': [500], 'Price': [500]}\n",
    "\n",
    "df = pd.DataFrame(data=d)"
   ]
  },
  {
   "cell_type": "code",
   "execution_count": 99,
   "id": "199d631a-30f3-4f1c-9b45-2f16b31582c0",
   "metadata": {},
   "outputs": [
    {
     "data": {
      "text/plain": [
       "array([4.13635758])"
      ]
     },
     "execution_count": 99,
     "metadata": {},
     "output_type": "execute_result"
    }
   ],
   "source": [
    "forest_model.predict(df)"
   ]
  },
  {
   "cell_type": "code",
   "execution_count": null,
   "id": "969066dd-7966-433a-a99f-0bd12d8dc203",
   "metadata": {},
   "outputs": [],
   "source": []
  }
 ],
 "metadata": {
  "kernelspec": {
   "display_name": "Python 3 (ipykernel)",
   "language": "python",
   "name": "python3"
  },
  "language_info": {
   "codemirror_mode": {
    "name": "ipython",
    "version": 3
   },
   "file_extension": ".py",
   "mimetype": "text/x-python",
   "name": "python",
   "nbconvert_exporter": "python",
   "pygments_lexer": "ipython3",
   "version": "3.9.6"
  }
 },
 "nbformat": 4,
 "nbformat_minor": 5
}
