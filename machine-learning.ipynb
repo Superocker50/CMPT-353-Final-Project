{
 "cells": [
  {
   "cell_type": "code",
   "execution_count": 1,
   "id": "c63e7377-bd19-493c-bd88-82fd4b875e2f",
   "metadata": {},
   "outputs": [],
   "source": [
    "import numpy as np\n",
    "import pandas as pd\n",
    "import matplotlib.pyplot as plt\n",
    "import seaborn as sns"
   ]
  },
  {
   "cell_type": "code",
   "execution_count": 2,
   "id": "8d6ba0d1-e9be-4d06-85b4-c43e8f337c8d",
   "metadata": {},
   "outputs": [],
   "source": [
    "apps = pd.read_csv('googleplaystore.csv')"
   ]
  },
  {
   "cell_type": "code",
   "execution_count": 3,
   "id": "67a43646-2f3f-479b-b349-78171a22b467",
   "metadata": {},
   "outputs": [
    {
     "name": "stdout",
     "output_type": "stream",
     "text": [
      "<class 'pandas.core.frame.DataFrame'>\n",
      "Int64Index: 9360 entries, 0 to 10840\n",
      "Data columns (total 13 columns):\n",
      " #   Column          Non-Null Count  Dtype  \n",
      "---  ------          --------------  -----  \n",
      " 0   App             9360 non-null   object \n",
      " 1   Category        9360 non-null   object \n",
      " 2   Rating          9360 non-null   float64\n",
      " 3   Reviews         9360 non-null   object \n",
      " 4   Size            9360 non-null   object \n",
      " 5   Installs        9360 non-null   object \n",
      " 6   Type            9360 non-null   object \n",
      " 7   Price           9360 non-null   object \n",
      " 8   Content Rating  9360 non-null   object \n",
      " 9   Genres          9360 non-null   object \n",
      " 10  Last Updated    9360 non-null   object \n",
      " 11  Current Ver     9360 non-null   object \n",
      " 12  Android Ver     9360 non-null   object \n",
      "dtypes: float64(1), object(12)\n",
      "memory usage: 1023.8+ KB\n"
     ]
    }
   ],
   "source": [
    "apps = apps.dropna()\n",
    "apps.info()"
   ]
  },
  {
   "cell_type": "code",
   "execution_count": 4,
   "id": "8d3a4807-deb2-419e-9e50-cb0d2f8bd435",
   "metadata": {},
   "outputs": [],
   "source": [
    "apps = apps[apps['Size'] != 'Varies with device'] # remove 1637 rows"
   ]
  },
  {
   "cell_type": "markdown",
   "id": "4be701af-c915-438a-8db8-fe2802a8442a",
   "metadata": {},
   "source": [
    "## Explore Dataset"
   ]
  },
  {
   "cell_type": "code",
   "execution_count": 5,
   "id": "334dfc9b-041f-479c-87cc-7ef816c386fd",
   "metadata": {},
   "outputs": [],
   "source": [
    "# apps.describe()\n",
    "# apps['Category'].unique()\n",
    "# apps.info()\n",
    "# apps.shape"
   ]
  },
  {
   "cell_type": "markdown",
   "id": "de0dc05b-cda0-4762-a9e5-de4ef8b8f8ff",
   "metadata": {},
   "source": [
    "# Select features and target"
   ]
  },
  {
   "cell_type": "code",
   "execution_count": 6,
   "id": "d1b5ce42-6fbb-4ed1-80e0-80e9f536457d",
   "metadata": {},
   "outputs": [],
   "source": [
    "# features = ['App', 'Category', 'Reviews', 'Size', 'Installs', 'Type', 'Price', 'Last Updated']\n",
    "\n",
    "features = ['Reviews', 'Size', 'Installs', 'Price']"
   ]
  },
  {
   "cell_type": "code",
   "execution_count": 7,
   "id": "84f6e23c-61bd-414a-8e8c-3ca03458f378",
   "metadata": {},
   "outputs": [],
   "source": [
    "y = apps['Rating']\n",
    "X = apps[features]"
   ]
  },
  {
   "cell_type": "markdown",
   "id": "a694ac8c-9a4b-4d00-a307-b786a1fc0d7d",
   "metadata": {
    "tags": []
   },
   "source": [
    "## Format Columns"
   ]
  },
  {
   "cell_type": "code",
   "execution_count": 8,
   "id": "5263260d-2509-4d7a-b414-c8668faef8b9",
   "metadata": {},
   "outputs": [],
   "source": [
    "## TODO Later if needed\n",
    "def parse_date(obj):\n",
    "    obj_str = str(obj)\n",
    "    obj_str = obj_str.replace(',', '')\n",
    "    return obj_str\n",
    "    # mon_day_year = obj_str.split()\n",
    "\n",
    "# all size in megabytes\n",
    "def format_size(obj):\n",
    "    obj_str = str(obj)\n",
    "    if 'M' in obj_str:\n",
    "        obj_str = obj_str.replace('M', '')\n",
    "        return float(obj_str)\n",
    "    obj_str = obj_str.replace('k', '')\n",
    "    return float(obj_str) / 1000\n",
    "\n",
    "def format_installs(obj):\n",
    "    obj_str = str(obj)\n",
    "    obj_str = obj_str.replace('+', '')\n",
    "    obj_str = obj_str.replace(',', '')\n",
    "    return int(obj_str)\n",
    "\n",
    "def format_price(obj):\n",
    "    obj_str = str(obj)\n",
    "    obj_str = obj_str.replace('$', '')\n",
    "    return float(obj_str)"
   ]
  },
  {
   "cell_type": "code",
   "execution_count": 9,
   "id": "3d06283f-6633-458b-affb-dc95124d60c8",
   "metadata": {},
   "outputs": [],
   "source": [
    "pd.options.mode.chained_assignment = None\n",
    "X['Reviews'] = pd.to_numeric(X['Reviews'])\n",
    "X['Size'] = X['Size'].apply(format_size)\n",
    "X['Installs'] = X['Installs'].apply(format_installs)\n",
    "X['Price'] = X['Price'].apply(format_price)"
   ]
  },
  {
   "cell_type": "code",
   "execution_count": 10,
   "id": "530fb0f4-6607-4a05-8ef3-0b3e9f06570f",
   "metadata": {},
   "outputs": [
    {
     "name": "stdout",
     "output_type": "stream",
     "text": [
      "<class 'pandas.core.frame.DataFrame'>\n",
      "Int64Index: 7723 entries, 0 to 10840\n",
      "Data columns (total 4 columns):\n",
      " #   Column    Non-Null Count  Dtype  \n",
      "---  ------    --------------  -----  \n",
      " 0   Reviews   7723 non-null   int64  \n",
      " 1   Size      7723 non-null   float64\n",
      " 2   Installs  7723 non-null   int64  \n",
      " 3   Price     7723 non-null   float64\n",
      "dtypes: float64(2), int64(2)\n",
      "memory usage: 301.7 KB\n"
     ]
    }
   ],
   "source": [
    "X.info()"
   ]
  },
  {
   "cell_type": "code",
   "execution_count": 11,
   "id": "57a90d78-a06b-4198-99f6-337ddf78ccd5",
   "metadata": {},
   "outputs": [],
   "source": [
    "# sns.countplot(x='Category', data=X, palette=\"mako_r\")\n",
    "# plt.rcParams[\"figure.figsize\"] = (30,5)\n",
    "# plt.xticks(rotation=45) \n",
    "# plt.show()"
   ]
  },
  {
   "cell_type": "code",
   "execution_count": 12,
   "id": "49a53105-600b-4000-8bd7-ef2b519c9514",
   "metadata": {},
   "outputs": [],
   "source": [
    "# X[X['App'].str.contains('Be Like Bro - Compilation')]"
   ]
  },
  {
   "cell_type": "code",
   "execution_count": 13,
   "id": "1682bbcf-57ec-4bf0-b212-4c21b4385cac",
   "metadata": {},
   "outputs": [
    {
     "data": {
      "text/html": [
       "<div>\n",
       "<style scoped>\n",
       "    .dataframe tbody tr th:only-of-type {\n",
       "        vertical-align: middle;\n",
       "    }\n",
       "\n",
       "    .dataframe tbody tr th {\n",
       "        vertical-align: top;\n",
       "    }\n",
       "\n",
       "    .dataframe thead th {\n",
       "        text-align: right;\n",
       "    }\n",
       "</style>\n",
       "<table border=\"1\" class=\"dataframe\">\n",
       "  <thead>\n",
       "    <tr style=\"text-align: right;\">\n",
       "      <th></th>\n",
       "      <th>Reviews</th>\n",
       "      <th>Size</th>\n",
       "      <th>Installs</th>\n",
       "      <th>Price</th>\n",
       "    </tr>\n",
       "  </thead>\n",
       "  <tbody>\n",
       "    <tr>\n",
       "      <th>count</th>\n",
       "      <td>7.723000e+03</td>\n",
       "      <td>7723.000000</td>\n",
       "      <td>7.723000e+03</td>\n",
       "      <td>7723.000000</td>\n",
       "    </tr>\n",
       "    <tr>\n",
       "      <th>mean</th>\n",
       "      <td>2.948983e+05</td>\n",
       "      <td>22.970456</td>\n",
       "      <td>8.424070e+06</td>\n",
       "      <td>1.128169</td>\n",
       "    </tr>\n",
       "    <tr>\n",
       "      <th>std</th>\n",
       "      <td>1.863933e+06</td>\n",
       "      <td>23.449629</td>\n",
       "      <td>5.015742e+07</td>\n",
       "      <td>17.408036</td>\n",
       "    </tr>\n",
       "    <tr>\n",
       "      <th>min</th>\n",
       "      <td>1.000000e+00</td>\n",
       "      <td>0.008500</td>\n",
       "      <td>1.000000e+00</td>\n",
       "      <td>0.000000</td>\n",
       "    </tr>\n",
       "    <tr>\n",
       "      <th>25%</th>\n",
       "      <td>1.075000e+02</td>\n",
       "      <td>5.300000</td>\n",
       "      <td>1.000000e+04</td>\n",
       "      <td>0.000000</td>\n",
       "    </tr>\n",
       "    <tr>\n",
       "      <th>50%</th>\n",
       "      <td>2.332000e+03</td>\n",
       "      <td>14.000000</td>\n",
       "      <td>1.000000e+05</td>\n",
       "      <td>0.000000</td>\n",
       "    </tr>\n",
       "    <tr>\n",
       "      <th>75%</th>\n",
       "      <td>3.905300e+04</td>\n",
       "      <td>33.000000</td>\n",
       "      <td>1.000000e+06</td>\n",
       "      <td>0.000000</td>\n",
       "    </tr>\n",
       "    <tr>\n",
       "      <th>max</th>\n",
       "      <td>4.489389e+07</td>\n",
       "      <td>100.000000</td>\n",
       "      <td>1.000000e+09</td>\n",
       "      <td>400.000000</td>\n",
       "    </tr>\n",
       "  </tbody>\n",
       "</table>\n",
       "</div>"
      ],
      "text/plain": [
       "            Reviews         Size      Installs        Price\n",
       "count  7.723000e+03  7723.000000  7.723000e+03  7723.000000\n",
       "mean   2.948983e+05    22.970456  8.424070e+06     1.128169\n",
       "std    1.863933e+06    23.449629  5.015742e+07    17.408036\n",
       "min    1.000000e+00     0.008500  1.000000e+00     0.000000\n",
       "25%    1.075000e+02     5.300000  1.000000e+04     0.000000\n",
       "50%    2.332000e+03    14.000000  1.000000e+05     0.000000\n",
       "75%    3.905300e+04    33.000000  1.000000e+06     0.000000\n",
       "max    4.489389e+07   100.000000  1.000000e+09   400.000000"
      ]
     },
     "execution_count": 13,
     "metadata": {},
     "output_type": "execute_result"
    }
   ],
   "source": [
    "X.describe()"
   ]
  },
  {
   "cell_type": "code",
   "execution_count": 14,
   "id": "f3479159-9e29-4a3e-a288-5f20a7ea2eef",
   "metadata": {},
   "outputs": [
    {
     "data": {
      "text/plain": [
       "array([  0.  ,   4.99,   6.99,   7.99,   3.99,   5.99,   2.99,   1.99,\n",
       "         9.99,   0.99,   9.  ,   5.49,  10.  ,  24.99,  11.99,  79.99,\n",
       "        16.99,  14.99,  29.99,  12.99,   3.49,  10.99,   7.49,   1.5 ,\n",
       "        19.99,  15.99,  33.99,  39.99,   2.49,   4.49,   1.7 ,   1.49,\n",
       "         3.88, 399.99,  17.99, 400.  ,   3.02,   1.76,   4.84,   4.77,\n",
       "         1.61,   1.59,   6.49,   1.29, 299.99, 379.99,  37.99,  18.99,\n",
       "       389.99,   8.49,   1.75,  14.  ,   2.  ,   3.08,   2.59,  19.4 ,\n",
       "        15.46,   8.99,   3.04,  13.99,   4.29,   3.28,   4.6 ,   1.  ,\n",
       "         2.9 ,   1.97,   2.56,   1.2 ])"
      ]
     },
     "execution_count": 14,
     "metadata": {},
     "output_type": "execute_result"
    }
   ],
   "source": [
    "X.Price.unique()"
   ]
  },
  {
   "cell_type": "code",
   "execution_count": 15,
   "id": "380c84bb-f5ae-4f4e-b14b-92d3ce9a421e",
   "metadata": {},
   "outputs": [
    {
     "data": {
      "image/png": "[encoded data removed]",
      "text/plain": [
       "<Figure size 1080x792 with 2 Axes>"
      ]
     },
     "metadata": {
      "needs_background": "light"
     },
     "output_type": "display_data"
    }
   ],
   "source": [
    "f = plt.figure(figsize=(15, 11))\n",
    "plt.matshow(X.corr(), fignum=f.number)\n",
    "\n",
    "plt.xticks(range(X.select_dtypes(['number']).shape[1]), X.select_dtypes(['number']).columns, fontsize=14, rotation=45)\n",
    "plt.yticks(range(X.select_dtypes(['number']).shape[1]), X.select_dtypes(['number']).columns, fontsize=14)\n",
    "\n",
    "cb = plt.colorbar()\n",
    "cb.ax.tick_params(labelsize=14)\n",
    "plt.title('Correlation Matrix', fontsize=16);\n",
    "\n",
    "plt.show()"
   ]
  },
  {
   "cell_type": "code",
   "execution_count": 16,
   "id": "27a18f27-5bfa-4c4f-95e5-6d49023e845d",
   "metadata": {},
   "outputs": [
    {
     "data": {
      "text/html": [
       "<div>\n",
       "<style scoped>\n",
       "    .dataframe tbody tr th:only-of-type {\n",
       "        vertical-align: middle;\n",
       "    }\n",
       "\n",
       "    .dataframe tbody tr th {\n",
       "        vertical-align: top;\n",
       "    }\n",
       "\n",
       "    .dataframe thead th {\n",
       "        text-align: right;\n",
       "    }\n",
       "</style>\n",
       "<table border=\"1\" class=\"dataframe\">\n",
       "  <thead>\n",
       "    <tr style=\"text-align: right;\">\n",
       "      <th></th>\n",
       "      <th>Reviews</th>\n",
       "      <th>Size</th>\n",
       "      <th>Installs</th>\n",
       "      <th>Price</th>\n",
       "    </tr>\n",
       "  </thead>\n",
       "  <tbody>\n",
       "    <tr>\n",
       "      <th>Reviews</th>\n",
       "      <td>1.000000</td>\n",
       "      <td>0.240382</td>\n",
       "      <td>0.626187</td>\n",
       "      <td>-0.010184</td>\n",
       "    </tr>\n",
       "    <tr>\n",
       "      <th>Size</th>\n",
       "      <td>0.240382</td>\n",
       "      <td>1.000000</td>\n",
       "      <td>0.162707</td>\n",
       "      <td>-0.026272</td>\n",
       "    </tr>\n",
       "    <tr>\n",
       "      <th>Installs</th>\n",
       "      <td>0.626187</td>\n",
       "      <td>0.162707</td>\n",
       "      <td>1.000000</td>\n",
       "      <td>-0.010852</td>\n",
       "    </tr>\n",
       "    <tr>\n",
       "      <th>Price</th>\n",
       "      <td>-0.010184</td>\n",
       "      <td>-0.026272</td>\n",
       "      <td>-0.010852</td>\n",
       "      <td>1.000000</td>\n",
       "    </tr>\n",
       "  </tbody>\n",
       "</table>\n",
       "</div>"
      ],
      "text/plain": [
       "           Reviews      Size  Installs     Price\n",
       "Reviews   1.000000  0.240382  0.626187 -0.010184\n",
       "Size      0.240382  1.000000  0.162707 -0.026272\n",
       "Installs  0.626187  0.162707  1.000000 -0.010852\n",
       "Price    -0.010184 -0.026272 -0.010852  1.000000"
      ]
     },
     "execution_count": 16,
     "metadata": {},
     "output_type": "execute_result"
    }
   ],
   "source": [
    "X.corr()"
   ]
  },
  {
   "cell_type": "code",
   "execution_count": 17,
   "id": "06e9c13a-c641-4c7f-a62e-fcf4d560ed45",
   "metadata": {},
   "outputs": [
    {
     "data": {
      "text/plain": [
       "(7723,)"
      ]
     },
     "execution_count": 17,
     "metadata": {},
     "output_type": "execute_result"
    }
   ],
   "source": [
    "y.shape"
   ]
  },
  {
   "cell_type": "code",
   "execution_count": 18,
   "id": "21174475-e046-4440-92ee-92510265e1cc",
   "metadata": {},
   "outputs": [
    {
     "data": {
      "text/plain": [
       "(7723, 4)"
      ]
     },
     "execution_count": 18,
     "metadata": {},
     "output_type": "execute_result"
    }
   ],
   "source": [
    "X.shape"
   ]
  },
  {
   "cell_type": "code",
   "execution_count": 19,
   "id": "3782a818-addd-48c1-a9ac-681a40d7129b",
   "metadata": {},
   "outputs": [],
   "source": [
    "from sklearn.model_selection import train_test_split\n",
    "from sklearn.tree import DecisionTreeRegressor\n",
    "from sklearn.metrics import mean_absolute_error"
   ]
  },
  {
   "cell_type": "code",
   "execution_count": 20,
   "id": "ac84f91e-3a60-4a9f-bd5b-d3d2ecf5c15b",
   "metadata": {},
   "outputs": [],
   "source": [
    "train_X, val_X, train_y, val_y = train_test_split(X, y, random_state = 1)"
   ]
  },
  {
   "cell_type": "code",
   "execution_count": 21,
   "id": "379e2f6e-c51e-49cd-90d7-3d0b6343b2d5",
   "metadata": {},
   "outputs": [
    {
     "name": "stdout",
     "output_type": "stream",
     "text": [
      "<class 'pandas.core.frame.DataFrame'>\n",
      "Int64Index: 7723 entries, 0 to 10840\n",
      "Data columns (total 4 columns):\n",
      " #   Column    Non-Null Count  Dtype  \n",
      "---  ------    --------------  -----  \n",
      " 0   Reviews   7723 non-null   int64  \n",
      " 1   Size      7723 non-null   float64\n",
      " 2   Installs  7723 non-null   int64  \n",
      " 3   Price     7723 non-null   float64\n",
      "dtypes: float64(2), int64(2)\n",
      "memory usage: 301.7 KB\n"
     ]
    }
   ],
   "source": [
    "X.info()"
   ]
  },
  {
   "cell_type": "code",
   "execution_count": 26,
   "id": "fee41525-745c-4edd-974a-daf681e9a614",
   "metadata": {},
   "outputs": [],
   "source": [
    "def get_mae(max_leaf_nodes, train_X, val_X, train_y, val_y):\n",
    "    model = DecisionTreeRegressor(max_leaf_nodes=max_leaf_nodes, random_state=0)\n",
    "    model.fit(train_X, train_y)\n",
    "    preds_val = model.predict(val_X)\n",
    "    mae = mean_absolute_error(val_y, preds_val)\n",
    "    return(mae)\n",
    "\n",
    "\n",
    "scores = {leaf_size: get_mae(leaf_size, train_X, val_X, train_y, val_y) for leaf_size in [10, 12, 14, 16, 18, 20]}\n",
    "best_tree_size = min(scores, key=scores.get)"
   ]
  },
  {
   "cell_type": "code",
   "execution_count": 27,
   "id": "5be01560-2d5e-4495-92c7-ad6e51ebb635",
   "metadata": {},
   "outputs": [
    {
     "data": {
      "text/plain": [
       "12"
      ]
     },
     "execution_count": 27,
     "metadata": {},
     "output_type": "execute_result"
    }
   ],
   "source": [
    "best_tree_size"
   ]
  },
  {
   "cell_type": "code",
   "execution_count": 28,
   "id": "8c478d8b-980b-4d5c-8f65-dee55d0a89c4",
   "metadata": {},
   "outputs": [
    {
     "data": {
      "text/plain": [
       "{10: 0.36097622673077834,\n",
       " 12: 0.360149108964809,\n",
       " 14: 0.36159258554974544,\n",
       " 16: 0.36222752920095,\n",
       " 18: 0.3608914254549385,\n",
       " 20: 0.36074548129035117}"
      ]
     },
     "execution_count": 28,
     "metadata": {},
     "output_type": "execute_result"
    }
   ],
   "source": [
    "scores"
   ]
  },
  {
   "cell_type": "code",
   "execution_count": 29,
   "id": "dda726f9-4372-4ff5-93db-76062f0dfd04",
   "metadata": {},
   "outputs": [
    {
     "data": {
      "text/plain": [
       "0.36014910896480884"
      ]
     },
     "execution_count": 29,
     "metadata": {},
     "output_type": "execute_result"
    }
   ],
   "source": [
    "# Define model\n",
    "app_model = DecisionTreeRegressor(max_leaf_nodes=12, random_state = 1)\n",
    "# Fit model\n",
    "app_model.fit(train_X, train_y)\n",
    "\n",
    "# get predicted prices on validation data\n",
    "val_predictions = app_model.predict(val_X)\n",
    "\n",
    "mean_absolute_error(val_y, val_predictions)"
   ]
  },
  {
   "cell_type": "code",
   "execution_count": 32,
   "id": "992cbdfc-14f0-42ea-bd84-bf936f692858",
   "metadata": {},
   "outputs": [
    {
     "data": {
      "image/png": "[encoded data removed]",
      "text/plain": [
       "<Figure size 2160x360 with 1 Axes>"
      ]
     },
     "metadata": {
      "needs_background": "light"
     },
     "output_type": "display_data"
    }
   ],
   "source": [
    "sns.countplot(x='Rating', data=apps, palette=\"mako_r\")\n",
    "plt.rcParams[\"figure.figsize\"] = (30,5)\n",
    "plt.xticks(rotation=45) \n",
    "plt.show()"
   ]
  },
  {
   "cell_type": "code",
   "execution_count": 33,
   "id": "d82c7105-8acf-4ae7-93a9-be79f18e3d72",
   "metadata": {},
   "outputs": [],
   "source": [
    "from sklearn.ensemble import RandomForestRegressor"
   ]
  },
  {
   "cell_type": "code",
   "execution_count": 34,
   "id": "0a8123de-e32b-4ac1-b912-2ea19ba7454c",
   "metadata": {},
   "outputs": [
    {
     "name": "stdout",
     "output_type": "stream",
     "text": [
      "0.35821681339547734\n"
     ]
    }
   ],
   "source": [
    "forest_model = RandomForestRegressor(random_state=1)\n",
    "forest_model.fit(train_X, train_y)\n",
    "app_preds = forest_model.predict(val_X)\n",
    "print(mean_absolute_error(val_y, app_preds))"
   ]
  },
  {
   "cell_type": "code",
   "execution_count": null,
   "id": "789a218c-c354-4abf-a85c-678ca87d0424",
   "metadata": {},
   "outputs": [],
   "source": []
  }
 ],
 "metadata": {
  "kernelspec": {
   "display_name": "Python 3 (ipykernel)",
   "language": "python",
   "name": "python3"
  },
  "language_info": {
   "codemirror_mode": {
    "name": "ipython",
    "version": 3
   },
   "file_extension": ".py",
   "mimetype": "text/x-python",
   "name": "python",
   "nbconvert_exporter": "python",
   "pygments_lexer": "ipython3",
   "version": "3.9.6"
  }
 },
 "nbformat": 4,
 "nbformat_minor": 5
}
