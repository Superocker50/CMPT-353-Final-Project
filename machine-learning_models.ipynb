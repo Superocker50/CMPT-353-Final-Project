{
 "cells": [
  {
   "cell_type": "code",
   "execution_count": 1,
   "id": "2dc6344f",
   "metadata": {},
   "outputs": [],
   "source": [
    "import numpy as np\n",
    "import pandas as pd\n",
    "import matplotlib.pyplot as plt\n",
    "import seaborn as sns\n",
    "import scipy.stats as stats\n",
    "\n",
    "from sklearn.model_selection import train_test_split\n",
    "from sklearn.tree import DecisionTreeRegressor\n",
    "from sklearn.ensemble import RandomForestRegressor\n",
    "from sklearn.ensemble import GradientBoostingRegressor\n",
    "from sklearn.metrics import mean_absolute_error\n",
    "\n",
    "from sklearn.neighbors import KNeighborsRegressor\n",
    "from sklearn.svm import SVR\n",
    "from sklearn.pipeline import make_pipeline\n",
    "from sklearn.preprocessing import MinMaxScaler, StandardScaler\n",
    "from sklearn.pipeline import Pipeline\n",
    "from sklearn.feature_selection import SelectFromModel\n",
    "from sklearn.svm import LinearSVC"
   ]
  },
  {
   "cell_type": "code",
   "execution_count": null,
   "id": "79e08e7a",
   "metadata": {},
   "outputs": [],
   "source": [
    "google_apps = pd.read_csv('Google Play Store Apps.zip')\n",
    "google_reviews = pd.read_csv('google_app_reviews.csv')"
   ]
  },
  {
   "cell_type": "code",
   "execution_count": null,
   "id": "cb1be84f",
   "metadata": {},
   "outputs": [],
   "source": [
    "google_apps.rename(columns={'App Id': 'app_id'}, inplace=True)"
   ]
  },
  {
   "cell_type": "code",
   "execution_count": null,
   "id": "cf358b7b",
   "metadata": {},
   "outputs": [],
   "source": [
    "apps = google_apps.merge(google_reviews, on=\"app_id\", how='inner')"
   ]
  },
  {
   "cell_type": "code",
   "execution_count": null,
   "id": "dcd79d3e-5c9b-4635-936e-64f632464ac6",
   "metadata": {},
   "outputs": [],
   "source": [
    "apps.columns"
   ]
  },
  {
   "cell_type": "code",
   "execution_count": null,
   "id": "5b350789",
   "metadata": {},
   "outputs": [],
   "source": [
    "apps = apps.groupby('app_id').mean()"
   ]
  },
  {
   "cell_type": "code",
   "execution_count": null,
   "id": "87d93975",
   "metadata": {},
   "outputs": [],
   "source": [
    "apps = apps.copy()\n",
    "apps.dropna(inplace=True)\n",
    "\n",
    "apps['Rating'] = np.sqrt(apps['Rating'])"
   ]
  },
  {
   "cell_type": "code",
   "execution_count": null,
   "id": "ed1b3ef5-c492-4ba0-980c-5cc641878ec8",
   "metadata": {},
   "outputs": [],
   "source": [
    "apps['likes'] = apps['likes'] + 1\n",
    "apps['polarity_weight'] = apps['likes'] * apps['polarity']"
   ]
  },
  {
   "cell_type": "code",
   "execution_count": null,
   "id": "50cbb2b3-6144-4dae-858c-5320caec36bb",
   "metadata": {},
   "outputs": [],
   "source": [
    "apps['Editors Choice'].unique()"
   ]
  },
  {
   "cell_type": "code",
   "execution_count": null,
   "id": "ef5ca1c8-efc2-4205-86c2-e3cbb386173b",
   "metadata": {},
   "outputs": [],
   "source": [
    "apps.drop('Unnamed: 0', axis=1, inplace=True)"
   ]
  },
  {
   "cell_type": "code",
   "execution_count": null,
   "id": "1fc63574-7ec5-45cb-9eca-ef3e1587b42b",
   "metadata": {},
   "outputs": [],
   "source": [
    "apps['installs'] = (apps['Minimum Installs'] + apps['Maximum Installs']) / 2\n",
    "apps.drop(['Minimum Installs', 'Maximum Installs'], axis=1, inplace=True)"
   ]
  },
  {
   "cell_type": "code",
   "execution_count": null,
   "id": "a0e0ef15-c4d5-4c2b-a505-c1c41c2b91b2",
   "metadata": {},
   "outputs": [],
   "source": [
    "apps.drop('score', axis=1, inplace=True)"
   ]
  },
  {
   "cell_type": "code",
   "execution_count": null,
   "id": "a5d21ff1",
   "metadata": {},
   "outputs": [],
   "source": [
    "features = ['Rating Count', 'installs', 'polarity_weight']"
   ]
  },
  {
   "cell_type": "code",
   "execution_count": null,
   "id": "5283eec1",
   "metadata": {},
   "outputs": [],
   "source": [
    "plt.rcParams.update({'xtick.labelsize': 'xx-large', 'ytick.labelsize': 'xx-large'})\n",
    "plt.figure(figsize=(20, 11))\n",
    "cor = apps.corr()\n",
    "sns.heatmap(cor, annot=True, cmap=plt.cm.Reds)\n",
    "plt.show()"
   ]
  },
  {
   "cell_type": "markdown",
   "id": "f1148182",
   "metadata": {},
   "source": [
    "# Select features and target"
   ]
  },
  {
   "cell_type": "code",
   "execution_count": null,
   "id": "3cd41cdc",
   "metadata": {},
   "outputs": [],
   "source": [
    "X_train, X_test, y_train, y_test = train_test_split(apps[features], apps['Rating'], random_state = 1)"
   ]
  },
  {
   "cell_type": "markdown",
   "id": "0312f957",
   "metadata": {},
   "source": [
    "# Decision Tree 🌲"
   ]
  },
  {
   "cell_type": "code",
   "execution_count": null,
   "id": "25e53609",
   "metadata": {},
   "outputs": [],
   "source": [
    "decision_tree = DecisionTreeRegressor(max_leaf_nodes=50, min_samples_split=100, min_samples_leaf=100, max_features=2, random_state = 1)\n",
    "decision_tree.fit(X_train, y_train)\n",
    "\n",
    "val_predictions = np.around(decision_tree.predict(X_test), decimals=2)\n",
    "print(\"MAE: \",mean_absolute_error(y_test, val_predictions))\n",
    "print(\"Decision Tree Score: \", decision_tree.score(X_test, y_test))"
   ]
  },
  {
   "cell_type": "markdown",
   "id": "80302200",
   "metadata": {},
   "source": [
    "# Random Forest 🌳🌳🌳🌳"
   ]
  },
  {
   "cell_type": "code",
   "execution_count": null,
   "id": "329e8e61",
   "metadata": {},
   "outputs": [],
   "source": [
    "forest_model = make_pipeline(\n",
    "    StandardScaler(),\n",
    "    RandomForestRegressor(max_depth=15, n_estimators=100, min_samples_leaf=100, min_samples_split=500)\n",
    ").fit(X_train, y_train)\n",
    "\n",
    "preds = forest_model.predict(X_test)\n",
    "print(\"MAE: \",mean_absolute_error(y_test, preds))\n",
    "print(\"Random Forest Score: \", forest_model.score(X_test, y_test))"
   ]
  },
  {
   "cell_type": "markdown",
   "id": "465da983-20b8-434a-9159-4f4ad32e236f",
   "metadata": {},
   "source": [
    "# Gradient Boosting Regressor"
   ]
  },
  {
   "cell_type": "code",
   "execution_count": null,
   "id": "a0ee7086",
   "metadata": {},
   "outputs": [],
   "source": [
    "gbr = GradientBoostingRegressor(n_estimators=100, min_samples_leaf=10, max_depth=50)\n",
    "gbr.fit(X_train, y_train)\n",
    "\n",
    "print(\"MAE: \",mean_absolute_error(y_test, gbr.predict(X_test)))\n",
    "print(\"GBR Score: \", gbr.score(X_test, y_test))"
   ]
  }
 ],
 "metadata": {
  "kernelspec": {
   "display_name": "Python 3",
   "language": "python",
   "name": "python3"
  },
  "language_info": {
   "codemirror_mode": {
    "name": "ipython",
    "version": 3
   },
   "file_extension": ".py",
   "mimetype": "text/x-python",
   "name": "python",
   "nbconvert_exporter": "python",
   "pygments_lexer": "ipython3",
   "version": "3.8.8"
  }
 },
 "nbformat": 4,
 "nbformat_minor": 5
}
